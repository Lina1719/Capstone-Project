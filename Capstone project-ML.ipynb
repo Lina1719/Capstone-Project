{
 "cells": [
  {
   "cell_type": "code",
   "execution_count": 112,
   "id": "d5e1ff45",
   "metadata": {},
   "outputs": [],
   "source": [
    "import pandas as pd\n",
    "pd.plotting.register_matplotlib_converters()\n",
    "import matplotlib.pyplot as plt\n",
    "%matplotlib inline\n",
    "import numpy as np\n",
    "import seaborn as sns\n",
    "import math\n",
    "from sklearn import preprocessing\n",
    "from sklearn.metrics import plot_confusion_matrix\n",
    "from sklearn.metrics import accuracy_score\n",
    "from sklearn.metrics import confusion_matrix\n",
    "# Pipeline\n",
    "from sklearn.pipeline import Pipeline\n",
    "from sklearn.pipeline import make_pipeline\n",
    "from sklearn.compose import ColumnTransformer\n",
    "\n",
    "from sklearn.model_selection import train_test_split\n",
    "from sklearn.linear_model import LogisticRegression\n",
    "from sklearn.linear_model import LinearRegression\n",
    "from sklearn.metrics import plot_confusion_matrix\n",
    "from sklearn.model_selection import cross_val_score\n",
    "from sklearn.metrics import classification_report\n",
    "from sklearn.metrics import accuracy_score\n",
    "import xgboost as xgb\n",
    "from xgboost import XGBClassifier\n",
    "from sklearn.ensemble import RandomForestClassifier\n",
    "from sklearn.tree import DecisionTreeClassifier\n",
    "from sklearn.model_selection import GridSearchCV\n",
    "from sklearn.svm import SVR\n",
    "from sklearn.svm import SVC\n",
    "from sklearn.decomposition import PCA\n",
    "# Cost Functions\n",
    "from sklearn.metrics import mean_squared_error\n",
    "from sklearn.metrics import mean_absolute_error\n",
    "\n",
    "# Preprocessing\n",
    "from sklearn.impute import SimpleImputer\n",
    "\n",
    "# Scalers\n",
    "from sklearn.preprocessing import StandardScaler\n",
    "from sklearn.preprocessing import RobustScaler\n",
    "from sklearn.preprocessing import MinMaxScaler\n",
    "\n",
    "# Feature Engineering\n",
    "from sklearn.preprocessing import OneHotEncoder\n",
    "from sklearn.preprocessing import OrdinalEncoder"
   ]
  },
  {
   "cell_type": "code",
   "execution_count": 2,
   "id": "c6ffbec3",
   "metadata": {},
   "outputs": [],
   "source": [
    "stc = pd.read_csv(\"HandestsSTC.csv\")"
   ]
  },
  {
   "cell_type": "code",
   "execution_count": 3,
   "id": "beb8d648",
   "metadata": {},
   "outputs": [
    {
     "name": "stdout",
     "output_type": "stream",
     "text": [
      "<class 'pandas.core.frame.DataFrame'>\n",
      "RangeIndex: 1048575 entries, 0 to 1048574\n",
      "Data columns (total 20 columns):\n",
      " #   Column            Non-Null Count    Dtype \n",
      "---  ------            --------------    ----- \n",
      " 0   CAL_DT            1048575 non-null  object\n",
      " 1   MODEL_NAME        1048575 non-null  object\n",
      " 2   BRAND_FULL_NAME   1048575 non-null  object\n",
      " 3   BRAND_NAME        1048575 non-null  object\n",
      " 4   VENDOR_NAME       1048575 non-null  object\n",
      " 5   OS_NAME           1048575 non-null  object\n",
      " 6   DEVICE_TYPE       1048575 non-null  object\n",
      " 7   _2G_FLG           1048575 non-null  object\n",
      " 8   _3G_FLG           1048575 non-null  object\n",
      " 9   _4G_FLG           1048575 non-null  object\n",
      " 10  WIFI_FLG          1048575 non-null  object\n",
      " 11  BLUETOOTH_FLG     1048575 non-null  object\n",
      " 12  TOUCH_SCREEN_FLG  1048575 non-null  object\n",
      " 13  DUAL_SIM_FLG      1048575 non-null  object\n",
      " 14  GENDER_TYPE_CD    939245 non-null   object\n",
      " 15  AGE_B             1048575 non-null  object\n",
      " 16  NATIONALITY_CD    925709 non-null   object\n",
      " 17  NATIONALITY_NAME  925933 non-null   object\n",
      " 18  SAUDI_NON_SAUDI   1048082 non-null  object\n",
      " 19  DEVICE_COUNT      1048086 non-null  object\n",
      "dtypes: object(20)\n",
      "memory usage: 160.0+ MB\n"
     ]
    }
   ],
   "source": [
    "stc.info()"
   ]
  },
  {
   "cell_type": "code",
   "execution_count": 4,
   "id": "04dca1f8",
   "metadata": {},
   "outputs": [
    {
     "data": {
      "text/plain": [
       "CAL_DT                   0\n",
       "MODEL_NAME               0\n",
       "BRAND_FULL_NAME          0\n",
       "BRAND_NAME               0\n",
       "VENDOR_NAME              0\n",
       "OS_NAME                  0\n",
       "DEVICE_TYPE              0\n",
       "_2G_FLG                  0\n",
       "_3G_FLG                  0\n",
       "_4G_FLG                  0\n",
       "WIFI_FLG                 0\n",
       "BLUETOOTH_FLG            0\n",
       "TOUCH_SCREEN_FLG         0\n",
       "DUAL_SIM_FLG             0\n",
       "GENDER_TYPE_CD      109330\n",
       "AGE_B                    0\n",
       "NATIONALITY_CD      122866\n",
       "NATIONALITY_NAME    122642\n",
       "SAUDI_NON_SAUDI        493\n",
       "DEVICE_COUNT           489\n",
       "dtype: int64"
      ]
     },
     "execution_count": 4,
     "metadata": {},
     "output_type": "execute_result"
    }
   ],
   "source": [
    "stc.isna().sum()"
   ]
  },
  {
   "cell_type": "code",
   "execution_count": 5,
   "id": "a2216a64",
   "metadata": {},
   "outputs": [
    {
     "data": {
      "text/html": [
       "<div>\n",
       "<style scoped>\n",
       "    .dataframe tbody tr th:only-of-type {\n",
       "        vertical-align: middle;\n",
       "    }\n",
       "\n",
       "    .dataframe tbody tr th {\n",
       "        vertical-align: top;\n",
       "    }\n",
       "\n",
       "    .dataframe thead th {\n",
       "        text-align: right;\n",
       "    }\n",
       "</style>\n",
       "<table border=\"1\" class=\"dataframe\">\n",
       "  <thead>\n",
       "    <tr style=\"text-align: right;\">\n",
       "      <th></th>\n",
       "      <th>CAL_DT</th>\n",
       "      <th>MODEL_NAME</th>\n",
       "      <th>BRAND_FULL_NAME</th>\n",
       "      <th>BRAND_NAME</th>\n",
       "      <th>VENDOR_NAME</th>\n",
       "      <th>OS_NAME</th>\n",
       "      <th>DEVICE_TYPE</th>\n",
       "      <th>_2G_FLG</th>\n",
       "      <th>_3G_FLG</th>\n",
       "      <th>_4G_FLG</th>\n",
       "      <th>WIFI_FLG</th>\n",
       "      <th>BLUETOOTH_FLG</th>\n",
       "      <th>TOUCH_SCREEN_FLG</th>\n",
       "      <th>DUAL_SIM_FLG</th>\n",
       "      <th>GENDER_TYPE_CD</th>\n",
       "      <th>AGE_B</th>\n",
       "      <th>NATIONALITY_CD</th>\n",
       "      <th>NATIONALITY_NAME</th>\n",
       "      <th>SAUDI_NON_SAUDI</th>\n",
       "      <th>DEVICE_COUNT</th>\n",
       "    </tr>\n",
       "  </thead>\n",
       "  <tbody>\n",
       "    <tr>\n",
       "      <th>count</th>\n",
       "      <td>1048575</td>\n",
       "      <td>1048575</td>\n",
       "      <td>1048575</td>\n",
       "      <td>1048575</td>\n",
       "      <td>1048575</td>\n",
       "      <td>1048575</td>\n",
       "      <td>1048575</td>\n",
       "      <td>1048575</td>\n",
       "      <td>1048575</td>\n",
       "      <td>1048575</td>\n",
       "      <td>1048575</td>\n",
       "      <td>1048575</td>\n",
       "      <td>1048575</td>\n",
       "      <td>1048575</td>\n",
       "      <td>939245</td>\n",
       "      <td>1048575</td>\n",
       "      <td>925709</td>\n",
       "      <td>925933</td>\n",
       "      <td>1048082</td>\n",
       "      <td>1048086</td>\n",
       "    </tr>\n",
       "    <tr>\n",
       "      <th>unique</th>\n",
       "      <td>24</td>\n",
       "      <td>825</td>\n",
       "      <td>1061</td>\n",
       "      <td>205</td>\n",
       "      <td>114</td>\n",
       "      <td>15</td>\n",
       "      <td>6</td>\n",
       "      <td>6</td>\n",
       "      <td>6</td>\n",
       "      <td>5</td>\n",
       "      <td>6</td>\n",
       "      <td>4</td>\n",
       "      <td>4</td>\n",
       "      <td>3</td>\n",
       "      <td>4</td>\n",
       "      <td>8</td>\n",
       "      <td>206</td>\n",
       "      <td>210</td>\n",
       "      <td>43</td>\n",
       "      <td>2078</td>\n",
       "    </tr>\n",
       "    <tr>\n",
       "      <th>top</th>\n",
       "      <td>6/30/2019</td>\n",
       "      <td>One x9</td>\n",
       "      <td>Pro Edition</td>\n",
       "      <td>Nokia</td>\n",
       "      <td>Google</td>\n",
       "      <td>Android</td>\n",
       "      <td>Smartphone</td>\n",
       "      <td>Y</td>\n",
       "      <td>Y</td>\n",
       "      <td>N</td>\n",
       "      <td>Y</td>\n",
       "      <td>Y</td>\n",
       "      <td>Y</td>\n",
       "      <td>Y</td>\n",
       "      <td>Male</td>\n",
       "      <td>36-55</td>\n",
       "      <td>IND</td>\n",
       "      <td>India</td>\n",
       "      <td>Non-Saudi</td>\n",
       "      <td>1</td>\n",
       "    </tr>\n",
       "    <tr>\n",
       "      <th>freq</th>\n",
       "      <td>50969</td>\n",
       "      <td>1712</td>\n",
       "      <td>2337</td>\n",
       "      <td>249867</td>\n",
       "      <td>619471</td>\n",
       "      <td>619471</td>\n",
       "      <td>707772</td>\n",
       "      <td>1042229</td>\n",
       "      <td>721128</td>\n",
       "      <td>572605</td>\n",
       "      <td>731780</td>\n",
       "      <td>966535</td>\n",
       "      <td>700537</td>\n",
       "      <td>744691</td>\n",
       "      <td>653638</td>\n",
       "      <td>306523</td>\n",
       "      <td>77367</td>\n",
       "      <td>77367</td>\n",
       "      <td>908116</td>\n",
       "      <td>473326</td>\n",
       "    </tr>\n",
       "  </tbody>\n",
       "</table>\n",
       "</div>"
      ],
      "text/plain": [
       "           CAL_DT MODEL_NAME BRAND_FULL_NAME BRAND_NAME VENDOR_NAME  OS_NAME  \\\n",
       "count     1048575    1048575         1048575    1048575     1048575  1048575   \n",
       "unique         24        825            1061        205         114       15   \n",
       "top     6/30/2019     One x9     Pro Edition      Nokia      Google  Android   \n",
       "freq        50969       1712            2337     249867      619471   619471   \n",
       "\n",
       "       DEVICE_TYPE  _2G_FLG  _3G_FLG  _4G_FLG WIFI_FLG BLUETOOTH_FLG  \\\n",
       "count      1048575  1048575  1048575  1048575  1048575       1048575   \n",
       "unique           6        6        6        5        6             4   \n",
       "top     Smartphone        Y        Y        N        Y             Y   \n",
       "freq        707772  1042229   721128   572605   731780        966535   \n",
       "\n",
       "       TOUCH_SCREEN_FLG DUAL_SIM_FLG GENDER_TYPE_CD    AGE_B NATIONALITY_CD  \\\n",
       "count           1048575      1048575         939245  1048575         925709   \n",
       "unique                4            3              4        8            206   \n",
       "top                   Y            Y           Male    36-55            IND   \n",
       "freq             700537       744691         653638   306523          77367   \n",
       "\n",
       "       NATIONALITY_NAME SAUDI_NON_SAUDI DEVICE_COUNT  \n",
       "count            925933         1048082      1048086  \n",
       "unique              210              43         2078  \n",
       "top               India       Non-Saudi            1  \n",
       "freq              77367          908116       473326  "
      ]
     },
     "execution_count": 5,
     "metadata": {},
     "output_type": "execute_result"
    }
   ],
   "source": [
    "stc.describe()"
   ]
  },
  {
   "cell_type": "code",
   "execution_count": 6,
   "id": "94066bc7",
   "metadata": {},
   "outputs": [
    {
     "data": {
      "text/html": [
       "<div>\n",
       "<style scoped>\n",
       "    .dataframe tbody tr th:only-of-type {\n",
       "        vertical-align: middle;\n",
       "    }\n",
       "\n",
       "    .dataframe tbody tr th {\n",
       "        vertical-align: top;\n",
       "    }\n",
       "\n",
       "    .dataframe thead th {\n",
       "        text-align: right;\n",
       "    }\n",
       "</style>\n",
       "<table border=\"1\" class=\"dataframe\">\n",
       "  <thead>\n",
       "    <tr style=\"text-align: right;\">\n",
       "      <th></th>\n",
       "      <th>CAL_DT</th>\n",
       "      <th>MODEL_NAME</th>\n",
       "      <th>BRAND_FULL_NAME</th>\n",
       "      <th>BRAND_NAME</th>\n",
       "      <th>VENDOR_NAME</th>\n",
       "      <th>OS_NAME</th>\n",
       "      <th>DEVICE_TYPE</th>\n",
       "      <th>_2G_FLG</th>\n",
       "      <th>_3G_FLG</th>\n",
       "      <th>_4G_FLG</th>\n",
       "      <th>WIFI_FLG</th>\n",
       "      <th>BLUETOOTH_FLG</th>\n",
       "      <th>TOUCH_SCREEN_FLG</th>\n",
       "      <th>DUAL_SIM_FLG</th>\n",
       "      <th>GENDER_TYPE_CD</th>\n",
       "      <th>AGE_B</th>\n",
       "      <th>NATIONALITY_CD</th>\n",
       "      <th>NATIONALITY_NAME</th>\n",
       "      <th>SAUDI_NON_SAUDI</th>\n",
       "      <th>DEVICE_COUNT</th>\n",
       "    </tr>\n",
       "  </thead>\n",
       "  <tbody>\n",
       "    <tr>\n",
       "      <th>count</th>\n",
       "      <td>1048575</td>\n",
       "      <td>1048575</td>\n",
       "      <td>1048575</td>\n",
       "      <td>1048575</td>\n",
       "      <td>1048575</td>\n",
       "      <td>1048575</td>\n",
       "      <td>1048575</td>\n",
       "      <td>1048575</td>\n",
       "      <td>1048575</td>\n",
       "      <td>1048575</td>\n",
       "      <td>1048575</td>\n",
       "      <td>1048575</td>\n",
       "      <td>1048575</td>\n",
       "      <td>1048575</td>\n",
       "      <td>939245</td>\n",
       "      <td>1048575</td>\n",
       "      <td>925709</td>\n",
       "      <td>925933</td>\n",
       "      <td>1048082</td>\n",
       "      <td>1048086</td>\n",
       "    </tr>\n",
       "    <tr>\n",
       "      <th>unique</th>\n",
       "      <td>24</td>\n",
       "      <td>825</td>\n",
       "      <td>1061</td>\n",
       "      <td>205</td>\n",
       "      <td>114</td>\n",
       "      <td>15</td>\n",
       "      <td>6</td>\n",
       "      <td>6</td>\n",
       "      <td>6</td>\n",
       "      <td>5</td>\n",
       "      <td>6</td>\n",
       "      <td>4</td>\n",
       "      <td>4</td>\n",
       "      <td>3</td>\n",
       "      <td>4</td>\n",
       "      <td>8</td>\n",
       "      <td>206</td>\n",
       "      <td>210</td>\n",
       "      <td>43</td>\n",
       "      <td>2078</td>\n",
       "    </tr>\n",
       "    <tr>\n",
       "      <th>top</th>\n",
       "      <td>6/30/2019</td>\n",
       "      <td>One x9</td>\n",
       "      <td>Pro Edition</td>\n",
       "      <td>Nokia</td>\n",
       "      <td>Google</td>\n",
       "      <td>Android</td>\n",
       "      <td>Smartphone</td>\n",
       "      <td>Y</td>\n",
       "      <td>Y</td>\n",
       "      <td>N</td>\n",
       "      <td>Y</td>\n",
       "      <td>Y</td>\n",
       "      <td>Y</td>\n",
       "      <td>Y</td>\n",
       "      <td>Male</td>\n",
       "      <td>36-55</td>\n",
       "      <td>IND</td>\n",
       "      <td>India</td>\n",
       "      <td>Non-Saudi</td>\n",
       "      <td>1</td>\n",
       "    </tr>\n",
       "    <tr>\n",
       "      <th>freq</th>\n",
       "      <td>50969</td>\n",
       "      <td>1712</td>\n",
       "      <td>2337</td>\n",
       "      <td>249867</td>\n",
       "      <td>619471</td>\n",
       "      <td>619471</td>\n",
       "      <td>707772</td>\n",
       "      <td>1042229</td>\n",
       "      <td>721128</td>\n",
       "      <td>572605</td>\n",
       "      <td>731780</td>\n",
       "      <td>966535</td>\n",
       "      <td>700537</td>\n",
       "      <td>744691</td>\n",
       "      <td>653638</td>\n",
       "      <td>306523</td>\n",
       "      <td>77367</td>\n",
       "      <td>77367</td>\n",
       "      <td>908116</td>\n",
       "      <td>473326</td>\n",
       "    </tr>\n",
       "  </tbody>\n",
       "</table>\n",
       "</div>"
      ],
      "text/plain": [
       "           CAL_DT MODEL_NAME BRAND_FULL_NAME BRAND_NAME VENDOR_NAME  OS_NAME  \\\n",
       "count     1048575    1048575         1048575    1048575     1048575  1048575   \n",
       "unique         24        825            1061        205         114       15   \n",
       "top     6/30/2019     One x9     Pro Edition      Nokia      Google  Android   \n",
       "freq        50969       1712            2337     249867      619471   619471   \n",
       "\n",
       "       DEVICE_TYPE  _2G_FLG  _3G_FLG  _4G_FLG WIFI_FLG BLUETOOTH_FLG  \\\n",
       "count      1048575  1048575  1048575  1048575  1048575       1048575   \n",
       "unique           6        6        6        5        6             4   \n",
       "top     Smartphone        Y        Y        N        Y             Y   \n",
       "freq        707772  1042229   721128   572605   731780        966535   \n",
       "\n",
       "       TOUCH_SCREEN_FLG DUAL_SIM_FLG GENDER_TYPE_CD    AGE_B NATIONALITY_CD  \\\n",
       "count           1048575      1048575         939245  1048575         925709   \n",
       "unique                4            3              4        8            206   \n",
       "top                   Y            Y           Male    36-55            IND   \n",
       "freq             700537       744691         653638   306523          77367   \n",
       "\n",
       "       NATIONALITY_NAME SAUDI_NON_SAUDI DEVICE_COUNT  \n",
       "count            925933         1048082      1048086  \n",
       "unique              210              43         2078  \n",
       "top               India       Non-Saudi            1  \n",
       "freq              77367          908116       473326  "
      ]
     },
     "execution_count": 6,
     "metadata": {},
     "output_type": "execute_result"
    }
   ],
   "source": [
    "stc.describe(exclude='number')"
   ]
  },
  {
   "cell_type": "code",
   "execution_count": 7,
   "id": "363d4ab3",
   "metadata": {},
   "outputs": [],
   "source": [
    "stc_d=stc.copy()"
   ]
  },
  {
   "cell_type": "code",
   "execution_count": 8,
   "id": "fcc0f04e",
   "metadata": {},
   "outputs": [
    {
     "data": {
      "text/plain": [
       "2293"
      ]
     },
     "execution_count": 8,
     "metadata": {},
     "output_type": "execute_result"
    }
   ],
   "source": [
    "stc_d.duplicated().sum()"
   ]
  },
  {
   "cell_type": "code",
   "execution_count": 9,
   "id": "a98e2cbf",
   "metadata": {},
   "outputs": [],
   "source": [
    "stc_d.drop_duplicates(inplace=True)"
   ]
  },
  {
   "cell_type": "code",
   "execution_count": 10,
   "id": "f4b7c25a",
   "metadata": {},
   "outputs": [
    {
     "data": {
      "text/plain": [
       "0"
      ]
     },
     "execution_count": 10,
     "metadata": {},
     "output_type": "execute_result"
    }
   ],
   "source": [
    "stc_d.duplicated().sum()"
   ]
  },
  {
   "cell_type": "code",
   "execution_count": 11,
   "id": "275418dc",
   "metadata": {},
   "outputs": [],
   "source": [
    "stc_d.dropna(axis=0,inplace=True)"
   ]
  },
  {
   "cell_type": "code",
   "execution_count": 12,
   "id": "80b0aa41",
   "metadata": {},
   "outputs": [
    {
     "data": {
      "text/plain": [
       "CAL_DT              0\n",
       "MODEL_NAME          0\n",
       "BRAND_FULL_NAME     0\n",
       "BRAND_NAME          0\n",
       "VENDOR_NAME         0\n",
       "OS_NAME             0\n",
       "DEVICE_TYPE         0\n",
       "_2G_FLG             0\n",
       "_3G_FLG             0\n",
       "_4G_FLG             0\n",
       "WIFI_FLG            0\n",
       "BLUETOOTH_FLG       0\n",
       "TOUCH_SCREEN_FLG    0\n",
       "DUAL_SIM_FLG        0\n",
       "GENDER_TYPE_CD      0\n",
       "AGE_B               0\n",
       "NATIONALITY_CD      0\n",
       "NATIONALITY_NAME    0\n",
       "SAUDI_NON_SAUDI     0\n",
       "DEVICE_COUNT        0\n",
       "dtype: int64"
      ]
     },
     "execution_count": 12,
     "metadata": {},
     "output_type": "execute_result"
    }
   ],
   "source": [
    "stc_d.isna().sum()"
   ]
  },
  {
   "cell_type": "code",
   "execution_count": 13,
   "id": "7f964281",
   "metadata": {},
   "outputs": [
    {
     "name": "stdout",
     "output_type": "stream",
     "text": [
      "<class 'pandas.core.frame.DataFrame'>\n",
      "Int64Index: 836526 entries, 0 to 1048574\n",
      "Data columns (total 20 columns):\n",
      " #   Column            Non-Null Count   Dtype \n",
      "---  ------            --------------   ----- \n",
      " 0   CAL_DT            836526 non-null  object\n",
      " 1   MODEL_NAME        836526 non-null  object\n",
      " 2   BRAND_FULL_NAME   836526 non-null  object\n",
      " 3   BRAND_NAME        836526 non-null  object\n",
      " 4   VENDOR_NAME       836526 non-null  object\n",
      " 5   OS_NAME           836526 non-null  object\n",
      " 6   DEVICE_TYPE       836526 non-null  object\n",
      " 7   _2G_FLG           836526 non-null  object\n",
      " 8   _3G_FLG           836526 non-null  object\n",
      " 9   _4G_FLG           836526 non-null  object\n",
      " 10  WIFI_FLG          836526 non-null  object\n",
      " 11  BLUETOOTH_FLG     836526 non-null  object\n",
      " 12  TOUCH_SCREEN_FLG  836526 non-null  object\n",
      " 13  DUAL_SIM_FLG      836526 non-null  object\n",
      " 14  GENDER_TYPE_CD    836526 non-null  object\n",
      " 15  AGE_B             836526 non-null  object\n",
      " 16  NATIONALITY_CD    836526 non-null  object\n",
      " 17  NATIONALITY_NAME  836526 non-null  object\n",
      " 18  SAUDI_NON_SAUDI   836526 non-null  object\n",
      " 19  DEVICE_COUNT      836526 non-null  object\n",
      "dtypes: object(20)\n",
      "memory usage: 134.0+ MB\n"
     ]
    }
   ],
   "source": [
    "stc_d.info()"
   ]
  },
  {
   "cell_type": "code",
   "execution_count": 14,
   "id": "3c4bc52f",
   "metadata": {},
   "outputs": [
    {
     "name": "stdout",
     "output_type": "stream",
     "text": [
      "<class 'pandas.core.frame.DataFrame'>\n",
      "Int64Index: 836526 entries, 0 to 1048574\n",
      "Data columns (total 20 columns):\n",
      " #   Column            Non-Null Count   Dtype \n",
      "---  ------            --------------   ----- \n",
      " 0   CAL_DT            836526 non-null  object\n",
      " 1   MODEL_NAME        836526 non-null  object\n",
      " 2   BRAND_FULL_NAME   836526 non-null  object\n",
      " 3   BRAND_NAME        836526 non-null  object\n",
      " 4   VENDOR_NAME       836526 non-null  object\n",
      " 5   OS_NAME           836526 non-null  object\n",
      " 6   DEVICE_TYPE       836526 non-null  object\n",
      " 7   _2G_FLG           836526 non-null  object\n",
      " 8   _3G_FLG           836526 non-null  object\n",
      " 9   _4G_FLG           836526 non-null  object\n",
      " 10  WIFI_FLG          836526 non-null  object\n",
      " 11  BLUETOOTH_FLG     836526 non-null  object\n",
      " 12  TOUCH_SCREEN_FLG  836526 non-null  object\n",
      " 13  DUAL_SIM_FLG      836526 non-null  object\n",
      " 14  GENDER_TYPE_CD    836526 non-null  object\n",
      " 15  AGE_B             836526 non-null  object\n",
      " 16  NATIONALITY_CD    836526 non-null  object\n",
      " 17  NATIONALITY_NAME  836526 non-null  object\n",
      " 18  SAUDI_NON_SAUDI   836526 non-null  object\n",
      " 19  DEVICE_COUNT      836526 non-null  object\n",
      "dtypes: object(20)\n",
      "memory usage: 134.0+ MB\n"
     ]
    }
   ],
   "source": [
    "stc_d.info()"
   ]
  },
  {
   "cell_type": "code",
   "execution_count": 15,
   "id": "f47da15d",
   "metadata": {},
   "outputs": [
    {
     "data": {
      "text/plain": [
       "array(['1/31/2019', '12/31/2019', '4/30/2020', '8/31/2019', '6/30/2019',\n",
       "       '6/30/2020', '7/31/2020', '5/31/2020', '9/30/2020', '1/31/2020',\n",
       "       '7/31/2019', '10/31/2019', '9/30/2019', '11/30/2019', '2/28/2019',\n",
       "       '8/31/2020', '3/31/2020', '3/31/2019', '10/31/2020', '12/31/2018',\n",
       "       '4/30/2019', '11/30/2018', '2/29/2020', '5/31/2019'], dtype=object)"
      ]
     },
     "execution_count": 15,
     "metadata": {},
     "output_type": "execute_result"
    }
   ],
   "source": [
    "stc_d['CAL_DT'].unique()"
   ]
  },
  {
   "cell_type": "code",
   "execution_count": 16,
   "id": "84bd0b6a",
   "metadata": {},
   "outputs": [
    {
     "data": {
      "text/plain": [
       "array(['One x9', 'C7-00', 'Blade V7 Lite', 'i6 Metal ONE', 'One M9',\n",
       "       'ScanPal EDA50', 'Freddy Dual Sim', 'Xperia L', '101', 'Asha 311',\n",
       "       'E51', 'Tribute HD', 'Y69', 'ZenFone Live ZB501KL Dual Sim',\n",
       "       'Xperia XA1 Dual Sim', 'Grand2c', 'it1508', '1680 Classic',\n",
       "       'itell s501', 'iris 820', 'E65', 'TY301', '2051 Dual',\n",
       "       'Xperia Z1 LTE', 'SF1', '5800 XpressMusic',\n",
       "       'Moto E LTE (2nd Generation)', '3120', 'BlackBerry 9810 Torch 2',\n",
       "       'A3S Single Sim', 'F300', 'X2-01',\n",
       "       'Moto G Dual Sim (2nd Generation)', 'Fx', 'it2180', '3510i',\n",
       "       'One Touch 2012D', 'F6 Smartphone', '6 Dual Sim', 'NOTE 4 Pro',\n",
       "       '7230', '3 Triple Sim', 'X155 Max', 'Xperia Z5 Premium Dual Sim',\n",
       "       'A6000', 'F2', 'L56i', '301', '103', 'N82', 'ONE 3G HD', 'E5-00',\n",
       "       '500', 'BL60', 'ELUGA I3', 'HOT S', 'F7', 'NOTE 4 5.7', 'Y21L',\n",
       "       '3 A3000', 'Xperia Z3+ Dual', 'Xperia M2 Dual', 'N86',\n",
       "       'Asha 205 Dual SIM', 'it5616', 'Desire 816 Dual Sim', 'Q300',\n",
       "       '5130 XpressMusic', 'Asha 303', 'Xperia Z2 LTE', 'H45 BOSS',\n",
       "       'G6+ Dual Sim', '2680 Slide', 'S15', 'i550', 'One M8 Dual Sim',\n",
       "       '6230i', 'MiniX2-02', 'Desire 828 Dual Sim', 'Moto G5 Plus Dual',\n",
       "       'Q630', 'Nexus 5X', 'Redmi 3s Dual', 'P7', 'ELUGA I2', 'A39',\n",
       "       '1616', '6300', 'Mi A1', 'X21', 'BlackBerry 9700 bold',\n",
       "       'BlackBerry 9790 Bold', 'N96', 'Phantom 6', 'R11',\n",
       "       'Xperia XZ Dual Sim', 'HOT 4 LTE', 'One Touch 1054 Dual Sim',\n",
       "       'One Touch PIXI 4 (6) 3G Single Sim', 'kechaoda K116',\n",
       "       'Desire 530', 'M98', 'S850e', 'M5', 'ZenFone 5 A501CG', 'Nexus 6',\n",
       "       'E50', 'D54', 'B206 Hero', '2690', 'Y21', 'G360',\n",
       "       'Xperia M4 Aqua Dual', 'Xperia Z Ultra LTE', '206.1',\n",
       "       'U5 3G Dual Sim', 'Xperia E4 Dual', 'PHAB 2', '6085h',\n",
       "       '6303i Classic', '1800', 'One A9', 'P70', 'S302', 'S60',\n",
       "       'Stylus 2 Dual Sim', 'ELUGA I2 Activ', 'iris Fuel 60', 'Jerry',\n",
       "       'P6', 'Redmi Note 4X', 'N73', 'ZenFone Max ZC550KL', 'Pixel V2+',\n",
       "       'L25', 'Xperia Z LTE', 'Moto Z Play Droid Edition', 'Redmi 2',\n",
       "       'WT18i', 'Vibe K4 Note A7010', 'Desire 728G Dual Sim',\n",
       "       'Desire 310 Dual Sim', 'T371', 'K8 Plus',\n",
       "       'Xperia XA2 Ultra Dual Sim', 'Xperia Z2', 'A6 Note', 'Camon C8',\n",
       "       'U3 3G', 'Halo X LTE', 'C1-00', 'iris 605', 'One M8',\n",
       "       'Desire 728 LTE Dual Sim', 'One Touch 217', 'F888', 'N22',\n",
       "       'A5 LED Dual Sim', 'Mi6', '130 Dual SIM', 'U11 Plus Dual Sim',\n",
       "       '1100', 'V860', 'Vibe C2 Dual Sim', 'Redmi Note 4', 'V10 Dual Sim',\n",
       "       '2002d', '107 Dual SIM', 'A11', 'X1i-2017', '3110 Classic',\n",
       "       'MEGA ULTRA OK', '150 Dual SIM', 'Vibe K5 Note A7020',\n",
       "       '5310 XpressMusic', 'E103', 'Mi A2', 'B101', '6230', 'E71',\n",
       "       'Fire2 Air LTE', 'K10 2017 Dual Sim', 'V5 Plus', 'C1100',\n",
       "       'K580 Dual Sim', '2 LTE Dual Sim', 'A290', '230', 'B220', '5110',\n",
       "       'W76A', 'K7 LTE', 'HD7', 'One Touch PIXI 4 (6) 3G', 'it1408',\n",
       "       'V47', 'U5 HD Dual Sim', '6120 Classic', 'Asha 305',\n",
       "       '105 (2015) Dual SIM', '225', 'U11 Dual Sim', 'R9s', 'One E9+',\n",
       "       'HOT S3', '130 (2017) Dual SIM', 'Asha 502 Dual SIM', 'N79',\n",
       "       'F9 Pro', 'Desire 826', '1 Dual Sim', '2730 Classic', '2720 Fold',\n",
       "       'Moto G Dual Sim', 'M1', 'ELUGA Ray 500', 'Duo 405', '6680',\n",
       "       '108 Dual SIM', 'V11 pro', 'Desire 630 Dual Sim', 'Zero 5 Pro',\n",
       "       'C1-02', 'WX181', 'Magna Dual', '5 Dual Sim',\n",
       "       'BlackBerry 9800 Torch', 'BlackBerry 9900 Bold', 'C115',\n",
       "       'K3 Note K50a40', '6610', 'X1-01', 'T44', 'it5231', '515 Dual SIM',\n",
       "       'D19', '3', 'B312', '7610 Supernova', 'B13', '5 A5000', 'T528',\n",
       "       'Y66', 'Redmi Note 3 Pro', 'HOT Note', 'C2-00', 'Mi Max 2', '1280',\n",
       "       '220 4G Dual Sim', 'Desire 820 Dual Sim', 'K3 Note K50-t5', 'W995',\n",
       "       '220 Dual SIM', '1110i', 'Y83', 'One LTE', '3T A3010',\n",
       "       '3X Dual Sim', 'Ice Plus 2', 'K115', 'Mini2', 'Xperia X Dual',\n",
       "       'A83', 'K9', 'S4', 'Asha 500 Dual SIM', 'Asha 230 Dual SIM',\n",
       "       'Smart', '1 Plus Dual Sim', 'Phantom 6 Plus', '6021', 'Flash 2017',\n",
       "       'X Power 2 Dual Sim', 'A369i', 'BlackBerry 9360 Curve',\n",
       "       'BlackBerry 8520 Curve', 'P101', 'K500', 'L206', 'Riff', 'Y2',\n",
       "       'W3 LTE', 'T312', 'Kar3', 'G269', 'Moto G5S Plus Dual Sim',\n",
       "       'NOTE 3 Pro', 'Q5 LTE', 'Redmi 5', 'T3310', 'ELUGA Pulse X',\n",
       "       'Xperia XZ Premium Dual Sim', 'Spot M11', 'ZUK Z2',\n",
       "       '7310 Supernova', '2630', 'S650', 'Asha 200', 'Y81', 'K7 Dual Sim',\n",
       "       'C5-03', 'BOOM J8', 'Desire 650 Dual Sim', 'Desire 620G Dual Sim',\n",
       "       'Pixel', 'Xperia LT26w acro S', 'A316i', 'B12', 'Xperia SP LTE',\n",
       "       'Camon C9', 'Classic C130', 'ELUGA Arc2', 'Y51',\n",
       "       '3310 (2017) 3G Dual SIM', 'K7 SPARK', 'G9', '130', 'VAULT',\n",
       "       'Realme 1', 'T465', '7610', 'Neo 5', 'Redmi 5A',\n",
       "       'Desire 10 lifestyle Dual Sim', 'WX3', 'X8', '3500 Classic',\n",
       "       'Asha 302', 'Motion Dual Sim', 'Fire2 Plus LTE', 'Q10', '5000',\n",
       "       'One M8 Eye', 'L50', 'C88', 'WX4', 'Asha 308', 'F1 Plus', '2610',\n",
       "       '5217', 'X240 Series K8 2017 Dual Sim', 'Moto G6 Dual Sim',\n",
       "       'Xperia LT26i S', 'G6 Dual Sim', 'B102', 'E311', 'R9', 'BM50',\n",
       "       '8110 (2018) Dual Sim', 'X2-02', 'BlackBerry 9720',\n",
       "       'Asha 210 Dual SIM', 'M9+', '1208', '6100', '3310 (2017) Dual SIM',\n",
       "       'Xperia Z5 Dual', 'Xperia Miro', 'Olvio L7', 'TM506', 'Z60',\n",
       "       'Q4310 Canvas 2', 'Vibe P2', 'D22', '215', 'Y83 Pro', 'it2090',\n",
       "       'C5', 'Le 2 X526', 'A77', 'Xperia XA Ultra Dual Sim', 'it5600',\n",
       "       'V10', 'A1', 'Asha 501 Dual SIM', 'Priv', 'ONYX-1s', 'Grand2',\n",
       "       'Xperia Z3', '230 Dual SIM', 'BlackBerry P9981 Porsche Design',\n",
       "       'G Flex', 'Asha 306', '106', '6310i', 'C5-00', 'Diamond X',\n",
       "       'Lumia 625 LTE', 'One Touch 1050 Dual Sim', 'S11 Plus', 'Asha 310',\n",
       "       'HOT 5', 'Xperia XA1 Plus Dual Sim', 'iris 80', 'X2-05', 'Vibe S1',\n",
       "       'Lumia 520', 'Lumia 920 LTE', 'Q6 plus Dual Sim',\n",
       "       'ZenFone Go ZB500KG', 'Vibe B A2016a40', 'Pixel 2', 'B301', 'ONE',\n",
       "       'L23', 'G3 LTE', 'X Screen Dual Sim', 'Desire 10 pro Dual',\n",
       "       '5T A5010', 'F1805', 'One Touch PIXI 4 (5.5) Dual Sim', 'K8 Note',\n",
       "       'R1', 'B200', 'Mi Mix', 'TC56', 'T30', 'ELUGA I3 Mega', '6210',\n",
       "       'X1', 'ZenFone 3 ZE552KL', 'One Touch PIXI 3 (4) Dual',\n",
       "       '208 Dual SIM', 'Vibe K6 Dual Sim', 'U800', 'P3000',\n",
       "       'Desire 12 Dual Sim', 'Desire 830 Dual Sim', 'Vibe Shot',\n",
       "       'Camon CX', '3100', 'Vibe S1 Lite Dual Sim', 'S90 Sisley',\n",
       "       '6.1 Plus', 'ARC 101', 'U Play Dual Sim', 'S11', 'L8 Lite',\n",
       "       'A3 mini', 'Smart1', 'X9', 'ZenFone 3 Max ZC520TL', 'T347',\n",
       "       'Redmi 3S Prime', 'A1603', 'Xperia C3 Dual', 'S50', '2626',\n",
       "       'Xperia T3', '5.1 Dual Sim', 'T350', 'E6-00', 'U Ultra Dual',\n",
       "       'X803', 'ONYX-3s', 'X2 Dual SIM', 'ZVI', 'Xperia XA2 Dual Sim',\n",
       "       'B103 Joy2', 'Classic Q20', 'P12', 'Secure Phone',\n",
       "       'Axon Mini Standard', 'A3', 'Iris 41', 'P9', 'Moto G5S Dual Sim',\n",
       "       '220', '8', '100', 'W1', 'Xperia XA1 Ultra Dual', '108',\n",
       "       'U12+ Dual Sim', 'iris 860', 'E72', 'K3', 'Xperia L1 Dual Sim',\n",
       "       'One Touch PIXI 4 (4) Dual Sim', 'Fire2 LTE', 'Vibe X2 LTE',\n",
       "       '7700 KING SLIDER', 'One Touch 1013 Dual Sim', 'Iris 810', 'KP105',\n",
       "       'iris 50', 'Mi5 Standard', 'Redmi 6 Pro', 'Note Standard',\n",
       "       '6500 Slide', 'K10', 'Redmi 2 Prime', 'HOT 5 Lite', '3 Dual Sim',\n",
       "       'One Max LTE', 'Z10', 'Redmi Note 5A', 'ONYX-3+ LTE', 'Desire 12+',\n",
       "       'E63', 'L200', 'Vibe C A2020a40', 'Xperia XZ2 Dual Sim',\n",
       "       'Redmi Note 3 Pro Dual', 'A3 Dual', 'V5s', '1661', 'Hongmi Note 4',\n",
       "       'PHAB 2 Plus', 'F3', 'X2-00', 'Desire 626 NFC Dual Sim', '1202',\n",
       "       'SHF33', 'E66', 'Moto X 2017', 'Gpad G3', 'P8 Max', 'Stylo 2',\n",
       "       '3G-W6', 'RG500', 'L18', 'Desire 526G+ Dual Sim', 'V3', 'P99',\n",
       "       'A33', 'iris 758', '1110', 'V869 and i9+++', 'Xperia E3 Dual',\n",
       "       'ICON451', 'One Touch PIXI 4 (5) Dual Sim', 'NOTE 2 4G', 'I',\n",
       "       'One M9+', 'A369', 'Moto E4 Plus Dual', '6 (2018)', 'P90 LTE',\n",
       "       'A536', 'Xperia L2 Dual Sim', 'X1 Max', 'A37', '1200',\n",
       "       '105 (2015)', 'WM850K', 'Y71', 'Mi Max 3', 'S307', 'Redmi Note 3',\n",
       "       'C6-01', '3109 Classic', '150', 'ZenFone 2 ZE551ML',\n",
       "       '5030 XpressRadio', 'K37', 'Realme 2', 'Xperia Z1 Compact LTE',\n",
       "       'V49', 'S555 Max2', 'B17', 'it2150', 'Xperia Z3 Dual', 'KeyOne',\n",
       "       '2700 Classic', 'A3S', 'Xperia T2 Ultra Dual', 'Tank II',\n",
       "       'Asha 202', 'S329', 'Z14', '2323 Classic', 'ELUGA I7', 'E60',\n",
       "       '6700 Classic', '2.1 Dual Sim', 'Lumia 550', 'A395', 'Moto C Plus',\n",
       "       'Xperia C Dual', 'One Touch 1016 Dual Sim', 'One Touch 1010',\n",
       "       'SPARK Pro', 'SZL V200 S768 6612 5130', 'F1s', 'U5', 'X E1003',\n",
       "       'G4 Stylus', 'Vibe B Dual', 'Neo 7', 'A Plus Dual',\n",
       "       'Moto G (3rd Gen) Dual', 'E1272', 'S61', '7 Plus', 'Mi Mix 2',\n",
       "       'ZenFone Selfie ZD551KL', 'One Touch PIXI 4 Plus Power Dual',\n",
       "       'A606', '5230', 'E75', 'B104 Joy 3', '222 Dual SIM', 'iris 702',\n",
       "       'W3', 'V9 Single Sim', '6T A6010', '8 Sirocco', 'MC659B',\n",
       "       'One Touch POP 4+ Dual Sim', 'Sunrise', 'L24', 'W4',\n",
       "       'Lumia 535 Dual Sim', 'ZenFone 2 Laser ZE550KL', '6 A6000', 'V7+',\n",
       "       'BlackBerry 9220 Curve', 'Xperia XA Dual', 'Redmi Y1 Lite',\n",
       "       'Mi Max', 'Asha 503 Dual SIM', '6030', 'HOT 4', '105', 'Fast 2',\n",
       "       'W5 Lite', 'ELUGA Ray 550', '3 A3003', 'A516', 'Camon CM',\n",
       "       'G3 S Dual Sim', '6630', 'A850', 'B16', 'E52', 'iris 65', 'Z30',\n",
       "       'Vivo XL2', 'D52i', 'C2-01', 'A190', 'Desire 526 Dual Sim',\n",
       "       'THRILL POWER N', 'F5', 'One', 'R1s', 'Moto M Dual Sim',\n",
       "       'Lumia 635', 'ONE A9', '6131', 'A3s', 'N95', 'F286', 'R1S', 'T484',\n",
       "       'Redmi 6', 'Y55L', 'Redmi 6a', 'S185', 'Vibe K5 Dual A6020a40',\n",
       "       'L9 Plus', 'Moto G4 Plus Dual', 'One Touch 2007D', 'ELUGA Prim',\n",
       "       'R3', 'S2', 'S60-a', 'Storm 310', 'A319', 'E10', 'Eluga Mark 2',\n",
       "       'F1', '6110 Navigator', 'One Touch 1010 Dual Sim', 'S510 Grand 2',\n",
       "       'Tribute 5', 'One Dual Sim', 'One Touch PIXI First Dual Sim',\n",
       "       '110', 'Stylus 3 Dual', '1600', 'Joy 3', '6700 Slide', 'Lubi 3',\n",
       "       '8 LTE Dual Sim', 'A1000', '6555', 'P77', 'Zero 5', 'F1801',\n",
       "       'A7000', '7100 Supernova', '2008', '2710 Navigation Edition',\n",
       "       'S856', 'Y55s', 'V30+ Dual SIm', 'Optimus L7', 'Diamond Q4G Plus',\n",
       "       'Passport', 'X1-00', 'Lumia 540 Dual SIM', '2760', 'F3+',\n",
       "       'Sunny Max', 'A57', 'Nexus 5', 'C2-01.5', '700', 'Captain N1',\n",
       "       'Desire 820G+ Dual Sim', 'K116 plus', 'Lumia 640 XL Dual SIM',\n",
       "       'Asha 300', 'A6600', 'Vibe K6 Power', 'x1', 'B25', 'T401', 'V9',\n",
       "       'P75', 'Mirror 5', 'S318', 'Q397 Bolt Mega', 'Redmi 4 Dual Sim',\n",
       "       'G4 Dual', 'SQ35', 'SK1', 'C2', 'Neo 7 LTE', 'it5040',\n",
       "       'Vibe K5 Plus Dual A6020a46', 'BlackBerry 9320 Curve', '6085',\n",
       "       'ZenFone 4 Max ZC554KL', 'E170', 'One Touch PIXI', 'Key2 Dual Sim',\n",
       "       'iris 870', 'Zero 3', '225 mini', '6070', 'K10 Dual Sim', 'Mi4i',\n",
       "       'X3-00', 'Pouvoir 4 Pro', 'Diva Flex', 'Vibe Z2', 'PHAB', 'G5',\n",
       "       'A328', '1662', '10 evo', '7070 Prism', 'GX200', '6060', 'B300',\n",
       "       '114', 'Pro LTE', 'Redmi Y2', 'K350 Serie K8 Dual Sim', 'iris 51',\n",
       "       'Xperia C4 Dual', '2310', 'Z3 M', 'Desire 628 Dual Sim', 'V3Max',\n",
       "       'Vision LTE', '3C Dual Sim', 'L16', '6303 Classic', 'ELUGA A3 Pro',\n",
       "       'E4', 'X Dual SIM', 'Redmi Note 5', '1101',\n",
       "       'Moto Z2 Play Dual Sim', '112', 'A6010', 'Dolphin CT50', 'V20',\n",
       "       'Redmi 5 Plus', 'N72', 'Xperia Z3 Compact', 'ONYX-2+ LTE', 'V110',\n",
       "       'A59', 'A71', 'Redmi 3', 'Pixel XL', 'G4', 'ZUK Z1',\n",
       "       'Moto G (2nd Generation)', '1203', '215 Dual SIM', 'Desire Eye',\n",
       "       '6 A6003', '7020', 'Z3 Music', 'A37 Single Sim', 'V7', 'it5020',\n",
       "       'Slide 2', 'T349', 'Redmi 4X', 'Neffos X1', 'Lumia 630 Dual SIM',\n",
       "       'Redmi Note 5A Prime', 'Xperia TX', '216 Dual SIM', 'Xperia Z5',\n",
       "       'BL20', 'M2', 'P8', 'Droid Ultra', '2600 Classic', 'A5000', 'L800',\n",
       "       'Vibe P1 Dual Sim', 'G5 Dual', '2660', 'X6-00', '301 Dual SIM',\n",
       "       'Mi A2 Lite'], dtype=object)"
      ]
     },
     "execution_count": 16,
     "metadata": {},
     "output_type": "execute_result"
    }
   ],
   "source": [
    "stc_d['MODEL_NAME'].unique()"
   ]
  },
  {
   "cell_type": "code",
   "execution_count": 17,
   "id": "e24a5669",
   "metadata": {},
   "outputs": [
    {
     "data": {
      "text/plain": [
       "array(['HTC One x9', 'Nokia C7-00', 'ZTE Blade V7 Lite', ..., 'AGM M2',\n",
       "       'AVVIO L800', 'Xiaomi Mi A2 Lite'], dtype=object)"
      ]
     },
     "execution_count": 17,
     "metadata": {},
     "output_type": "execute_result"
    }
   ],
   "source": [
    "stc_d['BRAND_FULL_NAME'].unique()"
   ]
  },
  {
   "cell_type": "code",
   "execution_count": 18,
   "id": "ba0cc43f",
   "metadata": {},
   "outputs": [
    {
     "data": {
      "text/plain": [
       "array(['HTC', 'Nokia', 'ZTE', 'QMobile', 'Honeywell', 'Wiko', 'Sony',\n",
       "       'LG', 'Vivo', 'ASUS', 'Lava', 'Itel', 'I-Life', 'CECT', 'Alcatel',\n",
       "       'Obi', 'Motorola', 'RIM', 'Oppo', 'Tinmo', 'IKU', 'Gionee',\n",
       "       'Infinix', 'Lenovo', 'Symphony', 'Innjoo', 'Panasonic', 'OnePlus',\n",
       "       'QUISWISE', 'MOBO', 'Hope', 'VGO TEL', ' C112', 'BOCOIN', 'Xiaomi',\n",
       "       'Tecno', 'Kechao', 'HEDY', 'Meizu', 'Four', 'Bird', 'CAT',\n",
       "       'Sony Ericsson', 'Digiphone', 'CALME', 'Micromax', 'OLA',\n",
       "       'Philips', 'Hisense', 'Glida', 'Mione', 'Lemon', 'Realme',\n",
       "       'B.easy', 'Cloudfone', 'Sico', 'Darago', 'G-Tide', 'BlackBerry',\n",
       "       'Tichips', 'Magnus', 'Google', 'Rivo', 'ENES', 'iBRIT', 'Lephone',\n",
       "       'SPC', 'CORN', ' C12', 'L8star', 'Citycall', 'Walton', 'HOTWAV',\n",
       "       'Letv', 'EUROSTAR & Device', 'UMI', 'FERO', 'Zebra', 'OALE',\n",
       "       'Gfive', 'G.M', 'Star', 'ZTE Axon Mini Standard', 'Mphone',\n",
       "       'OUKITEL', 'Eyang', 'Xiaomi Mi5 Standard', 'Innjoo Note Standard',\n",
       "       'Koobee', 'LEAGOO', 'au', 'Tenda', 'RugGear', 'Anycool', 'Option',\n",
       "       'Kenxinda', 'K-Touch', 'TP-LINK', 'Longcheer', 'DADA', 'BLU',\n",
       "       'Advan', 'Microsoft', 'XDL', 'M-Tech', 'KGTEL', 'iYou', 'weiimi',\n",
       "       'EXTREME', 'YAKOYA', 'GIVA', 'Bee', 'MBO', 'Karbonn', 'Comio',\n",
       "       'XTOUCH', 'UMIDIGI', 'Vell-Com', 'M-Horse', 'Vsun', 'Cubot',\n",
       "       'Moxee', 'i mobily', 'XLTEL', 'Doro', 'Vmaxx', 'YXTEL', 'ZTC',\n",
       "       'Neffos', 'DOOGEE', 'Vestel', 'iNEW', 'IXPERIA', 'Beafon',\n",
       "       'MAXIMUS', 'Condor', 'KOLOR', 'Cagabi', 'Bontel', 'China Mobile',\n",
       "       'BenQ', 'Telego', 'Ying Tai', 'CK Telecom', 'Evercoss', 'OneClick',\n",
       "       'TKK', 'Jfone', 'Airmax Mobile', 'Vodafone', 'TRIDENT', 'zee',\n",
       "       'BUNDY MOBILE', 'STG', 'Geotel', 'Kimfly', 'Mobicel', 'Colors',\n",
       "       'Nony', '@phone', 'Ulefone', 'IPRO', 'Sugar', 'by2', 'ENERGIZER',\n",
       "       'Sansui', 'Ctroniq', 'YUHO', 'Do mobile', 'Elephone', 'Fairphone',\n",
       "       'Gresso', 'Mingren', 'GFEN', 'Vertice', 'SPINUP', 'Celkon',\n",
       "       'WESTERN', 'NSQ', 'Noal', 'Exmart', 'Mobiistar', 'CELLECOR',\n",
       "       'HC HICELL', 'Kata', 'Forme', 'Torch', 'PANCO', 'RADISSON',\n",
       "       'Anoking', 'Nubia', 'Gee Pee', 'moRebile', 'Positivo', 'MLS',\n",
       "       'Wingtech', 'Siemens', 'Egltel', 'Rocktel', 'Reeder', 'Droid Mini',\n",
       "       'AGM', 'AVVIO'], dtype=object)"
      ]
     },
     "execution_count": 18,
     "metadata": {},
     "output_type": "execute_result"
    }
   ],
   "source": [
    "stc_d['BRAND_NAME'].unique()"
   ]
  },
  {
   "cell_type": "code",
   "execution_count": 19,
   "id": "91bbedd2",
   "metadata": {},
   "outputs": [
    {
     "data": {
      "text/plain": [
       "array(['Google', 'Nokia', 'Symbian LTD', 'CECT', 'Alcatel', 'RIM',\n",
       "       'Tinmo Technology', 'IKU', 'ITEL', 'Symphony', 'QUISWISE', 'MOBO',\n",
       "       'Hope', 'VGO TEL', ' C6500', 'More International Group Limited',\n",
       "       'Kechao', 'HEDY', 'Aliyun', 'QMobile', 'Four', 'LG', 'Bird',\n",
       "       'Sony Ericsson', 'Tecno Technology', 'Digiphone', 'CALME',\n",
       "       'Gionee', 'Micromax', 'Philips', 'unknown', 'Microsoft', 'Lemon',\n",
       "       'Motorola', 'B.easy', 'Sico', 'Darago', 'Wiko',\n",
       "       'ZTS International', 'BlackBerry', 'Tichips', 'Magnus', 'Rivo',\n",
       "       'Lephone', 'Corn', ' C3000', 'L8star', 'Citycall', 'Walton',\n",
       "       'BOCOIN', 'FERO', 'Kingtech', 'Lava', 'Star', 'Express Logic',\n",
       "       'Premium Edition', 'Eyang', 'Pro Edition', 'Innjoo', 'Anycool',\n",
       "       'Kenxinda', 'K-Touch', 'BLU', 'KGTEL', 'iYou', 'Windows Mobile',\n",
       "       'YAKOYA', 'GIVA', 'Bee', 'Aolixin Technology', 'Vell-Com',\n",
       "       'i mobily', 'Doro AB', 'YXTEL', 'ZTC', 'Gfive', 'Beafon', 'Condor',\n",
       "       'Bontel', 'Vmaxx', 'Karbonn', 'ZTE', 'Ying Tai', 'CK Telecom',\n",
       "       'TKK', 'G.M', 'Vodafone', 'BUNDY MOBILE', 'Mobicel',\n",
       "       'Shenzhen Nony', 'IPRO', 'by2', 'ENERGIZER', 'LEAGOO', 'XTOUCH',\n",
       "       'Ctroniq', 'Dinuotong Technology.', 'GFEN', 'OneClick', 'Telego',\n",
       "       'CAT', 'NSQ', 'Noal Technology', 'CELLECOR', 'Anoking', 'GEEPEE',\n",
       "       'Phone Care Branch of Axiom Telecom', 'moRebile', 'Positivo',\n",
       "       'Siemens', 'EGLTEL', 'Motorola Droid Ultra', 'AGM'], dtype=object)"
      ]
     },
     "execution_count": 19,
     "metadata": {},
     "output_type": "execute_result"
    }
   ],
   "source": [
    "stc_d['VENDOR_NAME'].unique()"
   ]
  },
  {
   "cell_type": "code",
   "execution_count": 20,
   "id": "eda41099",
   "metadata": {},
   "outputs": [
    {
     "data": {
      "text/plain": [
       "array(['Android', 'Symbian', 'Proprietary', 'RIM OS', 'CORN MiniX2-02',\n",
       "       'Other', 'unknown', 'Windows Phone', 'BlackBerry OS', 'iNOVA 5217',\n",
       "       'ZTE', 'Xiaomi', 'Innjoo', 'Windows Mobile', 'Droid Maxx'],\n",
       "      dtype=object)"
      ]
     },
     "execution_count": 20,
     "metadata": {},
     "output_type": "execute_result"
    }
   ],
   "source": [
    "stc_d['OS_NAME'].unique()"
   ]
  },
  {
   "cell_type": "code",
   "execution_count": 21,
   "id": "2493bf26",
   "metadata": {},
   "outputs": [
    {
     "data": {
      "text/plain": [
       "array(['Smartphone', 'Mobile Phone', ' F1', '6700', 'Google',\n",
       "       'Droid Mini'], dtype=object)"
      ]
     },
     "execution_count": 21,
     "metadata": {},
     "output_type": "execute_result"
    }
   ],
   "source": [
    "stc_d['DEVICE_TYPE'].unique()"
   ]
  },
  {
   "cell_type": "code",
   "execution_count": 22,
   "id": "535fa695",
   "metadata": {},
   "outputs": [
    {
     "data": {
      "text/plain": [
       "array(['Y', ' C112', ' C12', 'Android', 'N', 'Motorola'], dtype=object)"
      ]
     },
     "execution_count": 22,
     "metadata": {},
     "output_type": "execute_result"
    }
   ],
   "source": [
    "stc_d['_2G_FLG'].unique()"
   ]
  },
  {
   "cell_type": "code",
   "execution_count": 23,
   "id": "dc0a9cd9",
   "metadata": {},
   "outputs": [
    {
     "data": {
      "text/plain": [
       "array(['Y', 'N', ' C6500', ' C3000', 'Smartphone', 'Google'], dtype=object)"
      ]
     },
     "execution_count": 23,
     "metadata": {},
     "output_type": "execute_result"
    }
   ],
   "source": [
    "stc_d['_3G_FLG'].unique()"
   ]
  },
  {
   "cell_type": "code",
   "execution_count": 24,
   "id": "6ea2ca0c",
   "metadata": {},
   "outputs": [
    {
     "data": {
      "text/plain": [
       "array(['Y', 'N', 'CORN', 'iNOVA', 'Android'], dtype=object)"
      ]
     },
     "execution_count": 24,
     "metadata": {},
     "output_type": "execute_result"
    }
   ],
   "source": [
    "stc_d['_4G_FLG'].unique()"
   ]
  },
  {
   "cell_type": "code",
   "execution_count": 25,
   "id": "82bbcc30",
   "metadata": {},
   "outputs": [
    {
     "data": {
      "text/plain": [
       "array(['Y', 'N', 'CXTEL', 'Z', 'Ema Telecom', 'Smartphone'], dtype=object)"
      ]
     },
     "execution_count": 25,
     "metadata": {},
     "output_type": "execute_result"
    }
   ],
   "source": [
    "stc_d['WIFI_FLG'].unique()"
   ]
  },
  {
   "cell_type": "code",
   "execution_count": 26,
   "id": "593235ff",
   "metadata": {},
   "outputs": [
    {
     "data": {
      "text/plain": [
       "array(['Y', 'N', 'Proprietary', 'Z'], dtype=object)"
      ]
     },
     "execution_count": 26,
     "metadata": {},
     "output_type": "execute_result"
    }
   ],
   "source": [
    "stc_d['BLUETOOTH_FLG'].unique()"
   ]
  },
  {
   "cell_type": "code",
   "execution_count": 27,
   "id": "a06afd01",
   "metadata": {},
   "outputs": [
    {
     "data": {
      "text/plain": [
       "array(['Y', 'N', 'Mobile Phone', 'Z'], dtype=object)"
      ]
     },
     "execution_count": 27,
     "metadata": {},
     "output_type": "execute_result"
    }
   ],
   "source": [
    "stc_d['TOUCH_SCREEN_FLG'].unique()"
   ]
  },
  {
   "cell_type": "code",
   "execution_count": 28,
   "id": "26563c89",
   "metadata": {},
   "outputs": [
    {
     "data": {
      "text/plain": [
       "array(['Y', 'N', 'Z'], dtype=object)"
      ]
     },
     "execution_count": 28,
     "metadata": {},
     "output_type": "execute_result"
    }
   ],
   "source": [
    "stc_d['DUAL_SIM_FLG'].unique()"
   ]
  },
  {
   "cell_type": "code",
   "execution_count": 29,
   "id": "c6c22524",
   "metadata": {},
   "outputs": [
    {
     "data": {
      "text/plain": [
       "array(['Male', 'Female', 'N', 'Y'], dtype=object)"
      ]
     },
     "execution_count": 29,
     "metadata": {},
     "output_type": "execute_result"
    }
   ],
   "source": [
    "stc_d['GENDER_TYPE_CD'].unique()"
   ]
  },
  {
   "cell_type": "code",
   "execution_count": 30,
   "id": "e6406486",
   "metadata": {},
   "outputs": [
    {
     "data": {
      "text/html": [
       "<div>\n",
       "<style scoped>\n",
       "    .dataframe tbody tr th:only-of-type {\n",
       "        vertical-align: middle;\n",
       "    }\n",
       "\n",
       "    .dataframe tbody tr th {\n",
       "        vertical-align: top;\n",
       "    }\n",
       "\n",
       "    .dataframe thead th {\n",
       "        text-align: right;\n",
       "    }\n",
       "</style>\n",
       "<table border=\"1\" class=\"dataframe\">\n",
       "  <thead>\n",
       "    <tr style=\"text-align: right;\">\n",
       "      <th></th>\n",
       "      <th>CAL_DT</th>\n",
       "      <th>MODEL_NAME</th>\n",
       "      <th>BRAND_FULL_NAME</th>\n",
       "      <th>BRAND_NAME</th>\n",
       "      <th>VENDOR_NAME</th>\n",
       "      <th>OS_NAME</th>\n",
       "      <th>DEVICE_TYPE</th>\n",
       "      <th>_2G_FLG</th>\n",
       "      <th>_3G_FLG</th>\n",
       "      <th>_4G_FLG</th>\n",
       "      <th>WIFI_FLG</th>\n",
       "      <th>BLUETOOTH_FLG</th>\n",
       "      <th>TOUCH_SCREEN_FLG</th>\n",
       "      <th>DUAL_SIM_FLG</th>\n",
       "      <th>GENDER_TYPE_CD</th>\n",
       "      <th>AGE_B</th>\n",
       "      <th>NATIONALITY_CD</th>\n",
       "      <th>NATIONALITY_NAME</th>\n",
       "      <th>SAUDI_NON_SAUDI</th>\n",
       "      <th>DEVICE_COUNT</th>\n",
       "    </tr>\n",
       "  </thead>\n",
       "  <tbody>\n",
       "    <tr>\n",
       "      <th>0</th>\n",
       "      <td>1/31/2019</td>\n",
       "      <td>One x9</td>\n",
       "      <td>HTC One x9</td>\n",
       "      <td>HTC</td>\n",
       "      <td>Google</td>\n",
       "      <td>Android</td>\n",
       "      <td>Smartphone</td>\n",
       "      <td>Y</td>\n",
       "      <td>Y</td>\n",
       "      <td>Y</td>\n",
       "      <td>Y</td>\n",
       "      <td>Y</td>\n",
       "      <td>Y</td>\n",
       "      <td>Y</td>\n",
       "      <td>Male</td>\n",
       "      <td>36-55</td>\n",
       "      <td>LKA</td>\n",
       "      <td>Sri Lanka</td>\n",
       "      <td>Non-Saudi</td>\n",
       "      <td>9</td>\n",
       "    </tr>\n",
       "    <tr>\n",
       "      <th>3</th>\n",
       "      <td>12/31/2019</td>\n",
       "      <td>C7-00</td>\n",
       "      <td>Nokia C7-00</td>\n",
       "      <td>Nokia</td>\n",
       "      <td>Nokia</td>\n",
       "      <td>Symbian</td>\n",
       "      <td>Smartphone</td>\n",
       "      <td>Y</td>\n",
       "      <td>Y</td>\n",
       "      <td>N</td>\n",
       "      <td>Y</td>\n",
       "      <td>Y</td>\n",
       "      <td>Y</td>\n",
       "      <td>N</td>\n",
       "      <td>Male</td>\n",
       "      <td>18-25</td>\n",
       "      <td>BGD</td>\n",
       "      <td>Bangladesh</td>\n",
       "      <td>Non-Saudi</td>\n",
       "      <td>2</td>\n",
       "    </tr>\n",
       "    <tr>\n",
       "      <th>5</th>\n",
       "      <td>4/30/2020</td>\n",
       "      <td>Blade V7 Lite</td>\n",
       "      <td>ZTE Blade V7 Lite</td>\n",
       "      <td>ZTE</td>\n",
       "      <td>Google</td>\n",
       "      <td>Android</td>\n",
       "      <td>Smartphone</td>\n",
       "      <td>Y</td>\n",
       "      <td>Y</td>\n",
       "      <td>Y</td>\n",
       "      <td>Y</td>\n",
       "      <td>Y</td>\n",
       "      <td>Y</td>\n",
       "      <td>Y</td>\n",
       "      <td>Female</td>\n",
       "      <td>&gt;55</td>\n",
       "      <td>IDN</td>\n",
       "      <td>Indonesia</td>\n",
       "      <td>Non-Saudi</td>\n",
       "      <td>1</td>\n",
       "    </tr>\n",
       "    <tr>\n",
       "      <th>6</th>\n",
       "      <td>8/31/2019</td>\n",
       "      <td>i6 Metal ONE</td>\n",
       "      <td>QMobile i6 Metal ONE</td>\n",
       "      <td>QMobile</td>\n",
       "      <td>Google</td>\n",
       "      <td>Android</td>\n",
       "      <td>Smartphone</td>\n",
       "      <td>Y</td>\n",
       "      <td>Y</td>\n",
       "      <td>N</td>\n",
       "      <td>Y</td>\n",
       "      <td>Y</td>\n",
       "      <td>Y</td>\n",
       "      <td>Y</td>\n",
       "      <td>Male</td>\n",
       "      <td>36-55</td>\n",
       "      <td>EGY</td>\n",
       "      <td>Egypt</td>\n",
       "      <td>Non-Saudi</td>\n",
       "      <td>1</td>\n",
       "    </tr>\n",
       "    <tr>\n",
       "      <th>8</th>\n",
       "      <td>6/30/2019</td>\n",
       "      <td>One M9</td>\n",
       "      <td>HTC One M9</td>\n",
       "      <td>HTC</td>\n",
       "      <td>Google</td>\n",
       "      <td>Android</td>\n",
       "      <td>Smartphone</td>\n",
       "      <td>Y</td>\n",
       "      <td>Y</td>\n",
       "      <td>Y</td>\n",
       "      <td>Y</td>\n",
       "      <td>Y</td>\n",
       "      <td>Y</td>\n",
       "      <td>N</td>\n",
       "      <td>Male</td>\n",
       "      <td>26-35</td>\n",
       "      <td>SYR</td>\n",
       "      <td>Syria</td>\n",
       "      <td>Non-Saudi</td>\n",
       "      <td>21</td>\n",
       "    </tr>\n",
       "    <tr>\n",
       "      <th>...</th>\n",
       "      <td>...</td>\n",
       "      <td>...</td>\n",
       "      <td>...</td>\n",
       "      <td>...</td>\n",
       "      <td>...</td>\n",
       "      <td>...</td>\n",
       "      <td>...</td>\n",
       "      <td>...</td>\n",
       "      <td>...</td>\n",
       "      <td>...</td>\n",
       "      <td>...</td>\n",
       "      <td>...</td>\n",
       "      <td>...</td>\n",
       "      <td>...</td>\n",
       "      <td>...</td>\n",
       "      <td>...</td>\n",
       "      <td>...</td>\n",
       "      <td>...</td>\n",
       "      <td>...</td>\n",
       "      <td>...</td>\n",
       "    </tr>\n",
       "    <tr>\n",
       "      <th>1048568</th>\n",
       "      <td>3/31/2019</td>\n",
       "      <td>E4</td>\n",
       "      <td>QMobile E4</td>\n",
       "      <td>QMobile</td>\n",
       "      <td>QMobile</td>\n",
       "      <td>Proprietary</td>\n",
       "      <td>Mobile Phone</td>\n",
       "      <td>Y</td>\n",
       "      <td>N</td>\n",
       "      <td>N</td>\n",
       "      <td>N</td>\n",
       "      <td>Y</td>\n",
       "      <td>N</td>\n",
       "      <td>Y</td>\n",
       "      <td>Male</td>\n",
       "      <td>&gt;55</td>\n",
       "      <td>SDN</td>\n",
       "      <td>Sudan</td>\n",
       "      <td>Non-Saudi</td>\n",
       "      <td>2</td>\n",
       "    </tr>\n",
       "    <tr>\n",
       "      <th>1048569</th>\n",
       "      <td>1/31/2019</td>\n",
       "      <td>F3</td>\n",
       "      <td>Oppo F3</td>\n",
       "      <td>Oppo</td>\n",
       "      <td>Google</td>\n",
       "      <td>Android</td>\n",
       "      <td>Smartphone</td>\n",
       "      <td>Y</td>\n",
       "      <td>Y</td>\n",
       "      <td>Y</td>\n",
       "      <td>Y</td>\n",
       "      <td>Y</td>\n",
       "      <td>Y</td>\n",
       "      <td>Y</td>\n",
       "      <td>Female</td>\n",
       "      <td>36-55</td>\n",
       "      <td>DZA</td>\n",
       "      <td>Algeria</td>\n",
       "      <td>Non-Saudi</td>\n",
       "      <td>1</td>\n",
       "    </tr>\n",
       "    <tr>\n",
       "      <th>1048572</th>\n",
       "      <td>5/31/2019</td>\n",
       "      <td>X2-00</td>\n",
       "      <td>Nokia X2-00</td>\n",
       "      <td>Nokia</td>\n",
       "      <td>Nokia</td>\n",
       "      <td>Proprietary</td>\n",
       "      <td>Mobile Phone</td>\n",
       "      <td>Y</td>\n",
       "      <td>N</td>\n",
       "      <td>N</td>\n",
       "      <td>N</td>\n",
       "      <td>Y</td>\n",
       "      <td>N</td>\n",
       "      <td>N</td>\n",
       "      <td>Male</td>\n",
       "      <td>36-55</td>\n",
       "      <td>SYR</td>\n",
       "      <td>Syria</td>\n",
       "      <td>Non-Saudi</td>\n",
       "      <td>16</td>\n",
       "    </tr>\n",
       "    <tr>\n",
       "      <th>1048573</th>\n",
       "      <td>7/31/2019</td>\n",
       "      <td>Desire 626 NFC Dual Sim</td>\n",
       "      <td>HTC Desire 626 NFC Dual Sim</td>\n",
       "      <td>HTC</td>\n",
       "      <td>Google</td>\n",
       "      <td>Android</td>\n",
       "      <td>Smartphone</td>\n",
       "      <td>Y</td>\n",
       "      <td>Y</td>\n",
       "      <td>Y</td>\n",
       "      <td>Y</td>\n",
       "      <td>Y</td>\n",
       "      <td>Y</td>\n",
       "      <td>Y</td>\n",
       "      <td>Male</td>\n",
       "      <td>&gt;55</td>\n",
       "      <td>BGD</td>\n",
       "      <td>Bangladesh</td>\n",
       "      <td>Non-Saudi</td>\n",
       "      <td>7</td>\n",
       "    </tr>\n",
       "    <tr>\n",
       "      <th>1048574</th>\n",
       "      <td>6/30/2020</td>\n",
       "      <td>C7-00</td>\n",
       "      <td>Nokia C7-00</td>\n",
       "      <td>Nokia</td>\n",
       "      <td>Nokia</td>\n",
       "      <td>Symbian</td>\n",
       "      <td>Smartphone</td>\n",
       "      <td>Y</td>\n",
       "      <td>Y</td>\n",
       "      <td>N</td>\n",
       "      <td>Y</td>\n",
       "      <td>Y</td>\n",
       "      <td>Y</td>\n",
       "      <td>N</td>\n",
       "      <td>Male</td>\n",
       "      <td>&gt;55</td>\n",
       "      <td>SAU</td>\n",
       "      <td>Saudi Arabia</td>\n",
       "      <td>Saudi</td>\n",
       "      <td>53</td>\n",
       "    </tr>\n",
       "  </tbody>\n",
       "</table>\n",
       "<p>833348 rows × 20 columns</p>\n",
       "</div>"
      ],
      "text/plain": [
       "             CAL_DT               MODEL_NAME              BRAND_FULL_NAME  \\\n",
       "0         1/31/2019                   One x9                   HTC One x9   \n",
       "3        12/31/2019                    C7-00                  Nokia C7-00   \n",
       "5         4/30/2020            Blade V7 Lite            ZTE Blade V7 Lite   \n",
       "6         8/31/2019             i6 Metal ONE         QMobile i6 Metal ONE   \n",
       "8         6/30/2019                   One M9                   HTC One M9   \n",
       "...             ...                      ...                          ...   \n",
       "1048568   3/31/2019                       E4                   QMobile E4   \n",
       "1048569   1/31/2019                       F3                      Oppo F3   \n",
       "1048572   5/31/2019                    X2-00                  Nokia X2-00   \n",
       "1048573   7/31/2019  Desire 626 NFC Dual Sim  HTC Desire 626 NFC Dual Sim   \n",
       "1048574   6/30/2020                    C7-00                  Nokia C7-00   \n",
       "\n",
       "        BRAND_NAME VENDOR_NAME      OS_NAME   DEVICE_TYPE _2G_FLG _3G_FLG  \\\n",
       "0              HTC      Google      Android    Smartphone       Y       Y   \n",
       "3            Nokia       Nokia      Symbian    Smartphone       Y       Y   \n",
       "5              ZTE      Google      Android    Smartphone       Y       Y   \n",
       "6          QMobile      Google      Android    Smartphone       Y       Y   \n",
       "8              HTC      Google      Android    Smartphone       Y       Y   \n",
       "...            ...         ...          ...           ...     ...     ...   \n",
       "1048568    QMobile     QMobile  Proprietary  Mobile Phone       Y       N   \n",
       "1048569       Oppo      Google      Android    Smartphone       Y       Y   \n",
       "1048572      Nokia       Nokia  Proprietary  Mobile Phone       Y       N   \n",
       "1048573        HTC      Google      Android    Smartphone       Y       Y   \n",
       "1048574      Nokia       Nokia      Symbian    Smartphone       Y       Y   \n",
       "\n",
       "        _4G_FLG WIFI_FLG BLUETOOTH_FLG TOUCH_SCREEN_FLG DUAL_SIM_FLG  \\\n",
       "0             Y        Y             Y                Y            Y   \n",
       "3             N        Y             Y                Y            N   \n",
       "5             Y        Y             Y                Y            Y   \n",
       "6             N        Y             Y                Y            Y   \n",
       "8             Y        Y             Y                Y            N   \n",
       "...         ...      ...           ...              ...          ...   \n",
       "1048568       N        N             Y                N            Y   \n",
       "1048569       Y        Y             Y                Y            Y   \n",
       "1048572       N        N             Y                N            N   \n",
       "1048573       Y        Y             Y                Y            Y   \n",
       "1048574       N        Y             Y                Y            N   \n",
       "\n",
       "        GENDER_TYPE_CD  AGE_B NATIONALITY_CD NATIONALITY_NAME SAUDI_NON_SAUDI  \\\n",
       "0                 Male  36-55            LKA        Sri Lanka       Non-Saudi   \n",
       "3                 Male  18-25            BGD       Bangladesh       Non-Saudi   \n",
       "5               Female  >55              IDN        Indonesia       Non-Saudi   \n",
       "6                 Male  36-55            EGY            Egypt       Non-Saudi   \n",
       "8                 Male  26-35            SYR            Syria       Non-Saudi   \n",
       "...                ...    ...            ...              ...             ...   \n",
       "1048568           Male  >55              SDN            Sudan       Non-Saudi   \n",
       "1048569         Female  36-55            DZA          Algeria       Non-Saudi   \n",
       "1048572           Male  36-55            SYR            Syria       Non-Saudi   \n",
       "1048573           Male  >55              BGD       Bangladesh       Non-Saudi   \n",
       "1048574           Male  >55              SAU     Saudi Arabia           Saudi   \n",
       "\n",
       "        DEVICE_COUNT  \n",
       "0                  9  \n",
       "3                  2  \n",
       "5                  1  \n",
       "6                  1  \n",
       "8                 21  \n",
       "...              ...  \n",
       "1048568            2  \n",
       "1048569            1  \n",
       "1048572           16  \n",
       "1048573            7  \n",
       "1048574           53  \n",
       "\n",
       "[833348 rows x 20 columns]"
      ]
     },
     "execution_count": 30,
     "metadata": {},
     "output_type": "execute_result"
    }
   ],
   "source": [
    "stc_d.drop(stc_d[(stc_d['GENDER_TYPE_CD']=='Y') |(stc_d['GENDER_TYPE_CD']== 'N')].index, axis=0,inplace=True)\n",
    "stc_d"
   ]
  },
  {
   "cell_type": "code",
   "execution_count": 31,
   "id": "35497032",
   "metadata": {},
   "outputs": [
    {
     "data": {
      "text/plain": [
       "array(['Male', 'Female'], dtype=object)"
      ]
     },
     "execution_count": 31,
     "metadata": {},
     "output_type": "execute_result"
    }
   ],
   "source": [
    "stc_d['GENDER_TYPE_CD'].unique()"
   ]
  },
  {
   "cell_type": "code",
   "execution_count": 32,
   "id": "e96388cc",
   "metadata": {},
   "outputs": [
    {
     "data": {
      "text/plain": [
       "array(['36-55', '18-25', '>55  ', '26-35', 'NA   ', '<18  '], dtype=object)"
      ]
     },
     "execution_count": 32,
     "metadata": {},
     "output_type": "execute_result"
    }
   ],
   "source": [
    "stc_d['AGE_B'].unique()"
   ]
  },
  {
   "cell_type": "code",
   "execution_count": 33,
   "id": "e9c52a60",
   "metadata": {},
   "outputs": [
    {
     "data": {
      "text/html": [
       "<div>\n",
       "<style scoped>\n",
       "    .dataframe tbody tr th:only-of-type {\n",
       "        vertical-align: middle;\n",
       "    }\n",
       "\n",
       "    .dataframe tbody tr th {\n",
       "        vertical-align: top;\n",
       "    }\n",
       "\n",
       "    .dataframe thead th {\n",
       "        text-align: right;\n",
       "    }\n",
       "</style>\n",
       "<table border=\"1\" class=\"dataframe\">\n",
       "  <thead>\n",
       "    <tr style=\"text-align: right;\">\n",
       "      <th></th>\n",
       "      <th>CAL_DT</th>\n",
       "      <th>MODEL_NAME</th>\n",
       "      <th>BRAND_FULL_NAME</th>\n",
       "      <th>BRAND_NAME</th>\n",
       "      <th>VENDOR_NAME</th>\n",
       "      <th>OS_NAME</th>\n",
       "      <th>DEVICE_TYPE</th>\n",
       "      <th>_2G_FLG</th>\n",
       "      <th>_3G_FLG</th>\n",
       "      <th>_4G_FLG</th>\n",
       "      <th>WIFI_FLG</th>\n",
       "      <th>BLUETOOTH_FLG</th>\n",
       "      <th>TOUCH_SCREEN_FLG</th>\n",
       "      <th>DUAL_SIM_FLG</th>\n",
       "      <th>GENDER_TYPE_CD</th>\n",
       "      <th>AGE_B</th>\n",
       "      <th>NATIONALITY_CD</th>\n",
       "      <th>NATIONALITY_NAME</th>\n",
       "      <th>SAUDI_NON_SAUDI</th>\n",
       "      <th>DEVICE_COUNT</th>\n",
       "    </tr>\n",
       "  </thead>\n",
       "  <tbody>\n",
       "    <tr>\n",
       "      <th>0</th>\n",
       "      <td>1/31/2019</td>\n",
       "      <td>One x9</td>\n",
       "      <td>HTC One x9</td>\n",
       "      <td>HTC</td>\n",
       "      <td>Google</td>\n",
       "      <td>Android</td>\n",
       "      <td>Smartphone</td>\n",
       "      <td>Y</td>\n",
       "      <td>Y</td>\n",
       "      <td>Y</td>\n",
       "      <td>Y</td>\n",
       "      <td>Y</td>\n",
       "      <td>Y</td>\n",
       "      <td>Y</td>\n",
       "      <td>Male</td>\n",
       "      <td>36-55</td>\n",
       "      <td>LKA</td>\n",
       "      <td>Sri Lanka</td>\n",
       "      <td>Non-Saudi</td>\n",
       "      <td>9</td>\n",
       "    </tr>\n",
       "    <tr>\n",
       "      <th>3</th>\n",
       "      <td>12/31/2019</td>\n",
       "      <td>C7-00</td>\n",
       "      <td>Nokia C7-00</td>\n",
       "      <td>Nokia</td>\n",
       "      <td>Nokia</td>\n",
       "      <td>Symbian</td>\n",
       "      <td>Smartphone</td>\n",
       "      <td>Y</td>\n",
       "      <td>Y</td>\n",
       "      <td>N</td>\n",
       "      <td>Y</td>\n",
       "      <td>Y</td>\n",
       "      <td>Y</td>\n",
       "      <td>N</td>\n",
       "      <td>Male</td>\n",
       "      <td>18-25</td>\n",
       "      <td>BGD</td>\n",
       "      <td>Bangladesh</td>\n",
       "      <td>Non-Saudi</td>\n",
       "      <td>2</td>\n",
       "    </tr>\n",
       "    <tr>\n",
       "      <th>5</th>\n",
       "      <td>4/30/2020</td>\n",
       "      <td>Blade V7 Lite</td>\n",
       "      <td>ZTE Blade V7 Lite</td>\n",
       "      <td>ZTE</td>\n",
       "      <td>Google</td>\n",
       "      <td>Android</td>\n",
       "      <td>Smartphone</td>\n",
       "      <td>Y</td>\n",
       "      <td>Y</td>\n",
       "      <td>Y</td>\n",
       "      <td>Y</td>\n",
       "      <td>Y</td>\n",
       "      <td>Y</td>\n",
       "      <td>Y</td>\n",
       "      <td>Female</td>\n",
       "      <td>&gt;55</td>\n",
       "      <td>IDN</td>\n",
       "      <td>Indonesia</td>\n",
       "      <td>Non-Saudi</td>\n",
       "      <td>1</td>\n",
       "    </tr>\n",
       "    <tr>\n",
       "      <th>6</th>\n",
       "      <td>8/31/2019</td>\n",
       "      <td>i6 Metal ONE</td>\n",
       "      <td>QMobile i6 Metal ONE</td>\n",
       "      <td>QMobile</td>\n",
       "      <td>Google</td>\n",
       "      <td>Android</td>\n",
       "      <td>Smartphone</td>\n",
       "      <td>Y</td>\n",
       "      <td>Y</td>\n",
       "      <td>N</td>\n",
       "      <td>Y</td>\n",
       "      <td>Y</td>\n",
       "      <td>Y</td>\n",
       "      <td>Y</td>\n",
       "      <td>Male</td>\n",
       "      <td>36-55</td>\n",
       "      <td>EGY</td>\n",
       "      <td>Egypt</td>\n",
       "      <td>Non-Saudi</td>\n",
       "      <td>1</td>\n",
       "    </tr>\n",
       "    <tr>\n",
       "      <th>8</th>\n",
       "      <td>6/30/2019</td>\n",
       "      <td>One M9</td>\n",
       "      <td>HTC One M9</td>\n",
       "      <td>HTC</td>\n",
       "      <td>Google</td>\n",
       "      <td>Android</td>\n",
       "      <td>Smartphone</td>\n",
       "      <td>Y</td>\n",
       "      <td>Y</td>\n",
       "      <td>Y</td>\n",
       "      <td>Y</td>\n",
       "      <td>Y</td>\n",
       "      <td>Y</td>\n",
       "      <td>N</td>\n",
       "      <td>Male</td>\n",
       "      <td>26-35</td>\n",
       "      <td>SYR</td>\n",
       "      <td>Syria</td>\n",
       "      <td>Non-Saudi</td>\n",
       "      <td>21</td>\n",
       "    </tr>\n",
       "    <tr>\n",
       "      <th>...</th>\n",
       "      <td>...</td>\n",
       "      <td>...</td>\n",
       "      <td>...</td>\n",
       "      <td>...</td>\n",
       "      <td>...</td>\n",
       "      <td>...</td>\n",
       "      <td>...</td>\n",
       "      <td>...</td>\n",
       "      <td>...</td>\n",
       "      <td>...</td>\n",
       "      <td>...</td>\n",
       "      <td>...</td>\n",
       "      <td>...</td>\n",
       "      <td>...</td>\n",
       "      <td>...</td>\n",
       "      <td>...</td>\n",
       "      <td>...</td>\n",
       "      <td>...</td>\n",
       "      <td>...</td>\n",
       "      <td>...</td>\n",
       "    </tr>\n",
       "    <tr>\n",
       "      <th>1048568</th>\n",
       "      <td>3/31/2019</td>\n",
       "      <td>E4</td>\n",
       "      <td>QMobile E4</td>\n",
       "      <td>QMobile</td>\n",
       "      <td>QMobile</td>\n",
       "      <td>Proprietary</td>\n",
       "      <td>Mobile Phone</td>\n",
       "      <td>Y</td>\n",
       "      <td>N</td>\n",
       "      <td>N</td>\n",
       "      <td>N</td>\n",
       "      <td>Y</td>\n",
       "      <td>N</td>\n",
       "      <td>Y</td>\n",
       "      <td>Male</td>\n",
       "      <td>&gt;55</td>\n",
       "      <td>SDN</td>\n",
       "      <td>Sudan</td>\n",
       "      <td>Non-Saudi</td>\n",
       "      <td>2</td>\n",
       "    </tr>\n",
       "    <tr>\n",
       "      <th>1048569</th>\n",
       "      <td>1/31/2019</td>\n",
       "      <td>F3</td>\n",
       "      <td>Oppo F3</td>\n",
       "      <td>Oppo</td>\n",
       "      <td>Google</td>\n",
       "      <td>Android</td>\n",
       "      <td>Smartphone</td>\n",
       "      <td>Y</td>\n",
       "      <td>Y</td>\n",
       "      <td>Y</td>\n",
       "      <td>Y</td>\n",
       "      <td>Y</td>\n",
       "      <td>Y</td>\n",
       "      <td>Y</td>\n",
       "      <td>Female</td>\n",
       "      <td>36-55</td>\n",
       "      <td>DZA</td>\n",
       "      <td>Algeria</td>\n",
       "      <td>Non-Saudi</td>\n",
       "      <td>1</td>\n",
       "    </tr>\n",
       "    <tr>\n",
       "      <th>1048572</th>\n",
       "      <td>5/31/2019</td>\n",
       "      <td>X2-00</td>\n",
       "      <td>Nokia X2-00</td>\n",
       "      <td>Nokia</td>\n",
       "      <td>Nokia</td>\n",
       "      <td>Proprietary</td>\n",
       "      <td>Mobile Phone</td>\n",
       "      <td>Y</td>\n",
       "      <td>N</td>\n",
       "      <td>N</td>\n",
       "      <td>N</td>\n",
       "      <td>Y</td>\n",
       "      <td>N</td>\n",
       "      <td>N</td>\n",
       "      <td>Male</td>\n",
       "      <td>36-55</td>\n",
       "      <td>SYR</td>\n",
       "      <td>Syria</td>\n",
       "      <td>Non-Saudi</td>\n",
       "      <td>16</td>\n",
       "    </tr>\n",
       "    <tr>\n",
       "      <th>1048573</th>\n",
       "      <td>7/31/2019</td>\n",
       "      <td>Desire 626 NFC Dual Sim</td>\n",
       "      <td>HTC Desire 626 NFC Dual Sim</td>\n",
       "      <td>HTC</td>\n",
       "      <td>Google</td>\n",
       "      <td>Android</td>\n",
       "      <td>Smartphone</td>\n",
       "      <td>Y</td>\n",
       "      <td>Y</td>\n",
       "      <td>Y</td>\n",
       "      <td>Y</td>\n",
       "      <td>Y</td>\n",
       "      <td>Y</td>\n",
       "      <td>Y</td>\n",
       "      <td>Male</td>\n",
       "      <td>&gt;55</td>\n",
       "      <td>BGD</td>\n",
       "      <td>Bangladesh</td>\n",
       "      <td>Non-Saudi</td>\n",
       "      <td>7</td>\n",
       "    </tr>\n",
       "    <tr>\n",
       "      <th>1048574</th>\n",
       "      <td>6/30/2020</td>\n",
       "      <td>C7-00</td>\n",
       "      <td>Nokia C7-00</td>\n",
       "      <td>Nokia</td>\n",
       "      <td>Nokia</td>\n",
       "      <td>Symbian</td>\n",
       "      <td>Smartphone</td>\n",
       "      <td>Y</td>\n",
       "      <td>Y</td>\n",
       "      <td>N</td>\n",
       "      <td>Y</td>\n",
       "      <td>Y</td>\n",
       "      <td>Y</td>\n",
       "      <td>N</td>\n",
       "      <td>Male</td>\n",
       "      <td>&gt;55</td>\n",
       "      <td>SAU</td>\n",
       "      <td>Saudi Arabia</td>\n",
       "      <td>Saudi</td>\n",
       "      <td>53</td>\n",
       "    </tr>\n",
       "  </tbody>\n",
       "</table>\n",
       "<p>714023 rows × 20 columns</p>\n",
       "</div>"
      ],
      "text/plain": [
       "             CAL_DT               MODEL_NAME              BRAND_FULL_NAME  \\\n",
       "0         1/31/2019                   One x9                   HTC One x9   \n",
       "3        12/31/2019                    C7-00                  Nokia C7-00   \n",
       "5         4/30/2020            Blade V7 Lite            ZTE Blade V7 Lite   \n",
       "6         8/31/2019             i6 Metal ONE         QMobile i6 Metal ONE   \n",
       "8         6/30/2019                   One M9                   HTC One M9   \n",
       "...             ...                      ...                          ...   \n",
       "1048568   3/31/2019                       E4                   QMobile E4   \n",
       "1048569   1/31/2019                       F3                      Oppo F3   \n",
       "1048572   5/31/2019                    X2-00                  Nokia X2-00   \n",
       "1048573   7/31/2019  Desire 626 NFC Dual Sim  HTC Desire 626 NFC Dual Sim   \n",
       "1048574   6/30/2020                    C7-00                  Nokia C7-00   \n",
       "\n",
       "        BRAND_NAME VENDOR_NAME      OS_NAME   DEVICE_TYPE _2G_FLG _3G_FLG  \\\n",
       "0              HTC      Google      Android    Smartphone       Y       Y   \n",
       "3            Nokia       Nokia      Symbian    Smartphone       Y       Y   \n",
       "5              ZTE      Google      Android    Smartphone       Y       Y   \n",
       "6          QMobile      Google      Android    Smartphone       Y       Y   \n",
       "8              HTC      Google      Android    Smartphone       Y       Y   \n",
       "...            ...         ...          ...           ...     ...     ...   \n",
       "1048568    QMobile     QMobile  Proprietary  Mobile Phone       Y       N   \n",
       "1048569       Oppo      Google      Android    Smartphone       Y       Y   \n",
       "1048572      Nokia       Nokia  Proprietary  Mobile Phone       Y       N   \n",
       "1048573        HTC      Google      Android    Smartphone       Y       Y   \n",
       "1048574      Nokia       Nokia      Symbian    Smartphone       Y       Y   \n",
       "\n",
       "        _4G_FLG WIFI_FLG BLUETOOTH_FLG TOUCH_SCREEN_FLG DUAL_SIM_FLG  \\\n",
       "0             Y        Y             Y                Y            Y   \n",
       "3             N        Y             Y                Y            N   \n",
       "5             Y        Y             Y                Y            Y   \n",
       "6             N        Y             Y                Y            Y   \n",
       "8             Y        Y             Y                Y            N   \n",
       "...         ...      ...           ...              ...          ...   \n",
       "1048568       N        N             Y                N            Y   \n",
       "1048569       Y        Y             Y                Y            Y   \n",
       "1048572       N        N             Y                N            N   \n",
       "1048573       Y        Y             Y                Y            Y   \n",
       "1048574       N        Y             Y                Y            N   \n",
       "\n",
       "        GENDER_TYPE_CD  AGE_B NATIONALITY_CD NATIONALITY_NAME SAUDI_NON_SAUDI  \\\n",
       "0                 Male  36-55            LKA        Sri Lanka       Non-Saudi   \n",
       "3                 Male  18-25            BGD       Bangladesh       Non-Saudi   \n",
       "5               Female  >55              IDN        Indonesia       Non-Saudi   \n",
       "6                 Male  36-55            EGY            Egypt       Non-Saudi   \n",
       "8                 Male  26-35            SYR            Syria       Non-Saudi   \n",
       "...                ...    ...            ...              ...             ...   \n",
       "1048568           Male  >55              SDN            Sudan       Non-Saudi   \n",
       "1048569         Female  36-55            DZA          Algeria       Non-Saudi   \n",
       "1048572           Male  36-55            SYR            Syria       Non-Saudi   \n",
       "1048573           Male  >55              BGD       Bangladesh       Non-Saudi   \n",
       "1048574           Male  >55              SAU     Saudi Arabia           Saudi   \n",
       "\n",
       "        DEVICE_COUNT  \n",
       "0                  9  \n",
       "3                  2  \n",
       "5                  1  \n",
       "6                  1  \n",
       "8                 21  \n",
       "...              ...  \n",
       "1048568            2  \n",
       "1048569            1  \n",
       "1048572           16  \n",
       "1048573            7  \n",
       "1048574           53  \n",
       "\n",
       "[714023 rows x 20 columns]"
      ]
     },
     "execution_count": 33,
     "metadata": {},
     "output_type": "execute_result"
    }
   ],
   "source": [
    "stc_d.drop(stc_d[(stc_d['AGE_B']=='Y') | (stc_d['AGE_B']== 'N') | (stc_d['AGE_B']== 'NA   ')].index, axis=0,inplace=True)\n",
    "stc_d"
   ]
  },
  {
   "cell_type": "code",
   "execution_count": 34,
   "id": "9cd63c0f",
   "metadata": {},
   "outputs": [
    {
     "data": {
      "text/plain": [
       "array(['36-55', '18-25', '>55  ', '26-35', '<18  '], dtype=object)"
      ]
     },
     "execution_count": 34,
     "metadata": {},
     "output_type": "execute_result"
    }
   ],
   "source": [
    "stc_d['AGE_B'].unique()"
   ]
  },
  {
   "cell_type": "code",
   "execution_count": 35,
   "id": "83a8ed77",
   "metadata": {},
   "outputs": [
    {
     "data": {
      "text/plain": [
       "array(['LKA', 'BGD', 'IDN', 'EGY', 'SYR', 'SAU', 'MRT', 'SDN', 'PAK',\n",
       "       'UGA', 'YEM', 'MDG', 'IND', 'AFG', 'GBR', 'GHA', 'CYM', 'CMR',\n",
       "       'ITA', 'SOM', 'NER', 'MAR', 'LBN', 'TUR', 'BHR', 'NPL', 'PHL',\n",
       "       'LBY', 'BEL', 'ETH', 'UKR', 'OMN', 'NGA', 'TCD', 'NAM', 'JOR',\n",
       "       'KGZ', 'BFA', 'TUN', 'PSE', 'IRN', 'IRQ', 'UZB', 'MYS', 'CHN',\n",
       "       'DZA', 'KEN', 'ERI', 'MLI', 'IRL', 'CAN', 'ZAF', 'HND', 'MLT',\n",
       "       'ALB', 'ARE', 'ROM', 'FRA', 'KWT', 'MOZ', 'THA', 'ESP', 'DEU',\n",
       "       'CIV', 'BRN', 'SGP', 'TJK', 'LAO', 'AIA', 'DNK', 'BIH', 'BDI',\n",
       "       'MWI', 'ATG', 'AUS', 'GIN', 'VNM', 'SLE', 'QAT', 'ARM', 'AND',\n",
       "       'TGO', 'CUB', 'SRB', 'BTN', 'TZA', 'SEN', 'GRC', 'SVK', 'ANT',\n",
       "       'POL', 'KOR', 'CAF', 'AZE', 'SWE', 'MUS', 'GMB', 'DJI', 'JPN',\n",
       "       'MAD IS', 'ABW', 'BRB', 'KAZ', 'HRV', 'AUT', 'FIN', 'GUF', 'FRO',\n",
       "       'BMU', 'LBR', 'VEN', 'NZL', 'COL', 'KHM', 'PRT', 'TWN', 'BEN',\n",
       "       'BLR', 'NCL', 'TKM', 'COM', 'BRA', 'COK', 'CZE', 'NOR', 'CHL',\n",
       "       'BGR', 'MKD', 'AGO', 'MEX', 'PAN', 'CYP', 'NIC', 'ZMB', 'BAL IS',\n",
       "       'EST', 'PNG', 'JAM', 'CRI', 'LIE', 'SUR', 'MHL', 'UN', 'RWA',\n",
       "       'CHE', 'MMR', 'ZWE', 'TTO', 'HKG', 'MCO', 'PER', 'BHS', 'HUN',\n",
       "       'FJI', 'RUS', 'WLF', 'GEO', 'BWA', 'PLW', 'GAB', 'GUM', 'BLZ',\n",
       "       'VGB', 'ARG', 'SVN', 'NLD', 'GRD', 'MAC', 'ISL', 'BOL', 'TMP',\n",
       "       'MDA', 'LTU', 'PRK', 'DMA', 'NRU', 'LSO', 'ECU', 'GIB', 'USA',\n",
       "       'URY', 'MNE', 'MDV', 'DGA', 'GUY', 'CPV', 'LUX', 'GNQ', 'CAN IS',\n",
       "       'HTI', 'PRI', 'DOM', 'WSM', 'SHN', 'TAH', 'MNG', 'NIU', 'KNA'],\n",
       "      dtype=object)"
      ]
     },
     "execution_count": 35,
     "metadata": {},
     "output_type": "execute_result"
    }
   ],
   "source": [
    "stc_d['NATIONALITY_CD'].unique()"
   ]
  },
  {
   "cell_type": "code",
   "execution_count": 36,
   "id": "9c35eead",
   "metadata": {},
   "outputs": [
    {
     "data": {
      "text/html": [
       "<div>\n",
       "<style scoped>\n",
       "    .dataframe tbody tr th:only-of-type {\n",
       "        vertical-align: middle;\n",
       "    }\n",
       "\n",
       "    .dataframe tbody tr th {\n",
       "        vertical-align: top;\n",
       "    }\n",
       "\n",
       "    .dataframe thead th {\n",
       "        text-align: right;\n",
       "    }\n",
       "</style>\n",
       "<table border=\"1\" class=\"dataframe\">\n",
       "  <thead>\n",
       "    <tr style=\"text-align: right;\">\n",
       "      <th></th>\n",
       "      <th>CAL_DT</th>\n",
       "      <th>MODEL_NAME</th>\n",
       "      <th>BRAND_FULL_NAME</th>\n",
       "      <th>BRAND_NAME</th>\n",
       "      <th>VENDOR_NAME</th>\n",
       "      <th>OS_NAME</th>\n",
       "      <th>DEVICE_TYPE</th>\n",
       "      <th>_2G_FLG</th>\n",
       "      <th>_3G_FLG</th>\n",
       "      <th>_4G_FLG</th>\n",
       "      <th>WIFI_FLG</th>\n",
       "      <th>BLUETOOTH_FLG</th>\n",
       "      <th>TOUCH_SCREEN_FLG</th>\n",
       "      <th>DUAL_SIM_FLG</th>\n",
       "      <th>GENDER_TYPE_CD</th>\n",
       "      <th>AGE_B</th>\n",
       "      <th>NATIONALITY_CD</th>\n",
       "      <th>NATIONALITY_NAME</th>\n",
       "      <th>SAUDI_NON_SAUDI</th>\n",
       "      <th>DEVICE_COUNT</th>\n",
       "    </tr>\n",
       "  </thead>\n",
       "  <tbody>\n",
       "    <tr>\n",
       "      <th>0</th>\n",
       "      <td>1/31/2019</td>\n",
       "      <td>One x9</td>\n",
       "      <td>HTC One x9</td>\n",
       "      <td>HTC</td>\n",
       "      <td>Google</td>\n",
       "      <td>Android</td>\n",
       "      <td>Smartphone</td>\n",
       "      <td>Y</td>\n",
       "      <td>Y</td>\n",
       "      <td>Y</td>\n",
       "      <td>Y</td>\n",
       "      <td>Y</td>\n",
       "      <td>Y</td>\n",
       "      <td>Y</td>\n",
       "      <td>Male</td>\n",
       "      <td>36-55</td>\n",
       "      <td>LKA</td>\n",
       "      <td>Sri Lanka</td>\n",
       "      <td>Non-Saudi</td>\n",
       "      <td>9</td>\n",
       "    </tr>\n",
       "    <tr>\n",
       "      <th>3</th>\n",
       "      <td>12/31/2019</td>\n",
       "      <td>C7-00</td>\n",
       "      <td>Nokia C7-00</td>\n",
       "      <td>Nokia</td>\n",
       "      <td>Nokia</td>\n",
       "      <td>Symbian</td>\n",
       "      <td>Smartphone</td>\n",
       "      <td>Y</td>\n",
       "      <td>Y</td>\n",
       "      <td>N</td>\n",
       "      <td>Y</td>\n",
       "      <td>Y</td>\n",
       "      <td>Y</td>\n",
       "      <td>N</td>\n",
       "      <td>Male</td>\n",
       "      <td>18-25</td>\n",
       "      <td>BGD</td>\n",
       "      <td>Bangladesh</td>\n",
       "      <td>Non-Saudi</td>\n",
       "      <td>2</td>\n",
       "    </tr>\n",
       "    <tr>\n",
       "      <th>5</th>\n",
       "      <td>4/30/2020</td>\n",
       "      <td>Blade V7 Lite</td>\n",
       "      <td>ZTE Blade V7 Lite</td>\n",
       "      <td>ZTE</td>\n",
       "      <td>Google</td>\n",
       "      <td>Android</td>\n",
       "      <td>Smartphone</td>\n",
       "      <td>Y</td>\n",
       "      <td>Y</td>\n",
       "      <td>Y</td>\n",
       "      <td>Y</td>\n",
       "      <td>Y</td>\n",
       "      <td>Y</td>\n",
       "      <td>Y</td>\n",
       "      <td>Female</td>\n",
       "      <td>&gt;55</td>\n",
       "      <td>IDN</td>\n",
       "      <td>Indonesia</td>\n",
       "      <td>Non-Saudi</td>\n",
       "      <td>1</td>\n",
       "    </tr>\n",
       "    <tr>\n",
       "      <th>6</th>\n",
       "      <td>8/31/2019</td>\n",
       "      <td>i6 Metal ONE</td>\n",
       "      <td>QMobile i6 Metal ONE</td>\n",
       "      <td>QMobile</td>\n",
       "      <td>Google</td>\n",
       "      <td>Android</td>\n",
       "      <td>Smartphone</td>\n",
       "      <td>Y</td>\n",
       "      <td>Y</td>\n",
       "      <td>N</td>\n",
       "      <td>Y</td>\n",
       "      <td>Y</td>\n",
       "      <td>Y</td>\n",
       "      <td>Y</td>\n",
       "      <td>Male</td>\n",
       "      <td>36-55</td>\n",
       "      <td>EGY</td>\n",
       "      <td>Egypt</td>\n",
       "      <td>Non-Saudi</td>\n",
       "      <td>1</td>\n",
       "    </tr>\n",
       "    <tr>\n",
       "      <th>8</th>\n",
       "      <td>6/30/2019</td>\n",
       "      <td>One M9</td>\n",
       "      <td>HTC One M9</td>\n",
       "      <td>HTC</td>\n",
       "      <td>Google</td>\n",
       "      <td>Android</td>\n",
       "      <td>Smartphone</td>\n",
       "      <td>Y</td>\n",
       "      <td>Y</td>\n",
       "      <td>Y</td>\n",
       "      <td>Y</td>\n",
       "      <td>Y</td>\n",
       "      <td>Y</td>\n",
       "      <td>N</td>\n",
       "      <td>Male</td>\n",
       "      <td>26-35</td>\n",
       "      <td>SYR</td>\n",
       "      <td>Syria</td>\n",
       "      <td>Non-Saudi</td>\n",
       "      <td>21</td>\n",
       "    </tr>\n",
       "    <tr>\n",
       "      <th>...</th>\n",
       "      <td>...</td>\n",
       "      <td>...</td>\n",
       "      <td>...</td>\n",
       "      <td>...</td>\n",
       "      <td>...</td>\n",
       "      <td>...</td>\n",
       "      <td>...</td>\n",
       "      <td>...</td>\n",
       "      <td>...</td>\n",
       "      <td>...</td>\n",
       "      <td>...</td>\n",
       "      <td>...</td>\n",
       "      <td>...</td>\n",
       "      <td>...</td>\n",
       "      <td>...</td>\n",
       "      <td>...</td>\n",
       "      <td>...</td>\n",
       "      <td>...</td>\n",
       "      <td>...</td>\n",
       "      <td>...</td>\n",
       "    </tr>\n",
       "    <tr>\n",
       "      <th>1048568</th>\n",
       "      <td>3/31/2019</td>\n",
       "      <td>E4</td>\n",
       "      <td>QMobile E4</td>\n",
       "      <td>QMobile</td>\n",
       "      <td>QMobile</td>\n",
       "      <td>Proprietary</td>\n",
       "      <td>Mobile Phone</td>\n",
       "      <td>Y</td>\n",
       "      <td>N</td>\n",
       "      <td>N</td>\n",
       "      <td>N</td>\n",
       "      <td>Y</td>\n",
       "      <td>N</td>\n",
       "      <td>Y</td>\n",
       "      <td>Male</td>\n",
       "      <td>&gt;55</td>\n",
       "      <td>SDN</td>\n",
       "      <td>Sudan</td>\n",
       "      <td>Non-Saudi</td>\n",
       "      <td>2</td>\n",
       "    </tr>\n",
       "    <tr>\n",
       "      <th>1048569</th>\n",
       "      <td>1/31/2019</td>\n",
       "      <td>F3</td>\n",
       "      <td>Oppo F3</td>\n",
       "      <td>Oppo</td>\n",
       "      <td>Google</td>\n",
       "      <td>Android</td>\n",
       "      <td>Smartphone</td>\n",
       "      <td>Y</td>\n",
       "      <td>Y</td>\n",
       "      <td>Y</td>\n",
       "      <td>Y</td>\n",
       "      <td>Y</td>\n",
       "      <td>Y</td>\n",
       "      <td>Y</td>\n",
       "      <td>Female</td>\n",
       "      <td>36-55</td>\n",
       "      <td>DZA</td>\n",
       "      <td>Algeria</td>\n",
       "      <td>Non-Saudi</td>\n",
       "      <td>1</td>\n",
       "    </tr>\n",
       "    <tr>\n",
       "      <th>1048572</th>\n",
       "      <td>5/31/2019</td>\n",
       "      <td>X2-00</td>\n",
       "      <td>Nokia X2-00</td>\n",
       "      <td>Nokia</td>\n",
       "      <td>Nokia</td>\n",
       "      <td>Proprietary</td>\n",
       "      <td>Mobile Phone</td>\n",
       "      <td>Y</td>\n",
       "      <td>N</td>\n",
       "      <td>N</td>\n",
       "      <td>N</td>\n",
       "      <td>Y</td>\n",
       "      <td>N</td>\n",
       "      <td>N</td>\n",
       "      <td>Male</td>\n",
       "      <td>36-55</td>\n",
       "      <td>SYR</td>\n",
       "      <td>Syria</td>\n",
       "      <td>Non-Saudi</td>\n",
       "      <td>16</td>\n",
       "    </tr>\n",
       "    <tr>\n",
       "      <th>1048573</th>\n",
       "      <td>7/31/2019</td>\n",
       "      <td>Desire 626 NFC Dual Sim</td>\n",
       "      <td>HTC Desire 626 NFC Dual Sim</td>\n",
       "      <td>HTC</td>\n",
       "      <td>Google</td>\n",
       "      <td>Android</td>\n",
       "      <td>Smartphone</td>\n",
       "      <td>Y</td>\n",
       "      <td>Y</td>\n",
       "      <td>Y</td>\n",
       "      <td>Y</td>\n",
       "      <td>Y</td>\n",
       "      <td>Y</td>\n",
       "      <td>Y</td>\n",
       "      <td>Male</td>\n",
       "      <td>&gt;55</td>\n",
       "      <td>BGD</td>\n",
       "      <td>Bangladesh</td>\n",
       "      <td>Non-Saudi</td>\n",
       "      <td>7</td>\n",
       "    </tr>\n",
       "    <tr>\n",
       "      <th>1048574</th>\n",
       "      <td>6/30/2020</td>\n",
       "      <td>C7-00</td>\n",
       "      <td>Nokia C7-00</td>\n",
       "      <td>Nokia</td>\n",
       "      <td>Nokia</td>\n",
       "      <td>Symbian</td>\n",
       "      <td>Smartphone</td>\n",
       "      <td>Y</td>\n",
       "      <td>Y</td>\n",
       "      <td>N</td>\n",
       "      <td>Y</td>\n",
       "      <td>Y</td>\n",
       "      <td>Y</td>\n",
       "      <td>N</td>\n",
       "      <td>Male</td>\n",
       "      <td>&gt;55</td>\n",
       "      <td>SAU</td>\n",
       "      <td>Saudi Arabia</td>\n",
       "      <td>Saudi</td>\n",
       "      <td>53</td>\n",
       "    </tr>\n",
       "  </tbody>\n",
       "</table>\n",
       "<p>714023 rows × 20 columns</p>\n",
       "</div>"
      ],
      "text/plain": [
       "             CAL_DT               MODEL_NAME              BRAND_FULL_NAME  \\\n",
       "0         1/31/2019                   One x9                   HTC One x9   \n",
       "3        12/31/2019                    C7-00                  Nokia C7-00   \n",
       "5         4/30/2020            Blade V7 Lite            ZTE Blade V7 Lite   \n",
       "6         8/31/2019             i6 Metal ONE         QMobile i6 Metal ONE   \n",
       "8         6/30/2019                   One M9                   HTC One M9   \n",
       "...             ...                      ...                          ...   \n",
       "1048568   3/31/2019                       E4                   QMobile E4   \n",
       "1048569   1/31/2019                       F3                      Oppo F3   \n",
       "1048572   5/31/2019                    X2-00                  Nokia X2-00   \n",
       "1048573   7/31/2019  Desire 626 NFC Dual Sim  HTC Desire 626 NFC Dual Sim   \n",
       "1048574   6/30/2020                    C7-00                  Nokia C7-00   \n",
       "\n",
       "        BRAND_NAME VENDOR_NAME      OS_NAME   DEVICE_TYPE _2G_FLG _3G_FLG  \\\n",
       "0              HTC      Google      Android    Smartphone       Y       Y   \n",
       "3            Nokia       Nokia      Symbian    Smartphone       Y       Y   \n",
       "5              ZTE      Google      Android    Smartphone       Y       Y   \n",
       "6          QMobile      Google      Android    Smartphone       Y       Y   \n",
       "8              HTC      Google      Android    Smartphone       Y       Y   \n",
       "...            ...         ...          ...           ...     ...     ...   \n",
       "1048568    QMobile     QMobile  Proprietary  Mobile Phone       Y       N   \n",
       "1048569       Oppo      Google      Android    Smartphone       Y       Y   \n",
       "1048572      Nokia       Nokia  Proprietary  Mobile Phone       Y       N   \n",
       "1048573        HTC      Google      Android    Smartphone       Y       Y   \n",
       "1048574      Nokia       Nokia      Symbian    Smartphone       Y       Y   \n",
       "\n",
       "        _4G_FLG WIFI_FLG BLUETOOTH_FLG TOUCH_SCREEN_FLG DUAL_SIM_FLG  \\\n",
       "0             Y        Y             Y                Y            Y   \n",
       "3             N        Y             Y                Y            N   \n",
       "5             Y        Y             Y                Y            Y   \n",
       "6             N        Y             Y                Y            Y   \n",
       "8             Y        Y             Y                Y            N   \n",
       "...         ...      ...           ...              ...          ...   \n",
       "1048568       N        N             Y                N            Y   \n",
       "1048569       Y        Y             Y                Y            Y   \n",
       "1048572       N        N             Y                N            N   \n",
       "1048573       Y        Y             Y                Y            Y   \n",
       "1048574       N        Y             Y                Y            N   \n",
       "\n",
       "        GENDER_TYPE_CD  AGE_B NATIONALITY_CD NATIONALITY_NAME SAUDI_NON_SAUDI  \\\n",
       "0                 Male  36-55            LKA        Sri Lanka       Non-Saudi   \n",
       "3                 Male  18-25            BGD       Bangladesh       Non-Saudi   \n",
       "5               Female  >55              IDN        Indonesia       Non-Saudi   \n",
       "6                 Male  36-55            EGY            Egypt       Non-Saudi   \n",
       "8                 Male  26-35            SYR            Syria       Non-Saudi   \n",
       "...                ...    ...            ...              ...             ...   \n",
       "1048568           Male  >55              SDN            Sudan       Non-Saudi   \n",
       "1048569         Female  36-55            DZA          Algeria       Non-Saudi   \n",
       "1048572           Male  36-55            SYR            Syria       Non-Saudi   \n",
       "1048573           Male  >55              BGD       Bangladesh       Non-Saudi   \n",
       "1048574           Male  >55              SAU     Saudi Arabia           Saudi   \n",
       "\n",
       "        DEVICE_COUNT  \n",
       "0                  9  \n",
       "3                  2  \n",
       "5                  1  \n",
       "6                  1  \n",
       "8                 21  \n",
       "...              ...  \n",
       "1048568            2  \n",
       "1048569            1  \n",
       "1048572           16  \n",
       "1048573            7  \n",
       "1048574           53  \n",
       "\n",
       "[714023 rows x 20 columns]"
      ]
     },
     "execution_count": 36,
     "metadata": {},
     "output_type": "execute_result"
    }
   ],
   "source": [
    "stc_d.drop(stc_d[(stc_d['NATIONALITY_CD']=='Female') | (stc_d['AGE_B']== 'N') | (stc_d['NATIONALITY_CD']== 'Male')].index, axis=0,inplace=True)\n",
    "stc_d"
   ]
  },
  {
   "cell_type": "code",
   "execution_count": 37,
   "id": "f5ecce25",
   "metadata": {},
   "outputs": [
    {
     "data": {
      "text/plain": [
       "array(['LKA', 'BGD', 'IDN', 'EGY', 'SYR', 'SAU', 'MRT', 'SDN', 'PAK',\n",
       "       'UGA', 'YEM', 'MDG', 'IND', 'AFG', 'GBR', 'GHA', 'CYM', 'CMR',\n",
       "       'ITA', 'SOM', 'NER', 'MAR', 'LBN', 'TUR', 'BHR', 'NPL', 'PHL',\n",
       "       'LBY', 'BEL', 'ETH', 'UKR', 'OMN', 'NGA', 'TCD', 'NAM', 'JOR',\n",
       "       'KGZ', 'BFA', 'TUN', 'PSE', 'IRN', 'IRQ', 'UZB', 'MYS', 'CHN',\n",
       "       'DZA', 'KEN', 'ERI', 'MLI', 'IRL', 'CAN', 'ZAF', 'HND', 'MLT',\n",
       "       'ALB', 'ARE', 'ROM', 'FRA', 'KWT', 'MOZ', 'THA', 'ESP', 'DEU',\n",
       "       'CIV', 'BRN', 'SGP', 'TJK', 'LAO', 'AIA', 'DNK', 'BIH', 'BDI',\n",
       "       'MWI', 'ATG', 'AUS', 'GIN', 'VNM', 'SLE', 'QAT', 'ARM', 'AND',\n",
       "       'TGO', 'CUB', 'SRB', 'BTN', 'TZA', 'SEN', 'GRC', 'SVK', 'ANT',\n",
       "       'POL', 'KOR', 'CAF', 'AZE', 'SWE', 'MUS', 'GMB', 'DJI', 'JPN',\n",
       "       'MAD IS', 'ABW', 'BRB', 'KAZ', 'HRV', 'AUT', 'FIN', 'GUF', 'FRO',\n",
       "       'BMU', 'LBR', 'VEN', 'NZL', 'COL', 'KHM', 'PRT', 'TWN', 'BEN',\n",
       "       'BLR', 'NCL', 'TKM', 'COM', 'BRA', 'COK', 'CZE', 'NOR', 'CHL',\n",
       "       'BGR', 'MKD', 'AGO', 'MEX', 'PAN', 'CYP', 'NIC', 'ZMB', 'BAL IS',\n",
       "       'EST', 'PNG', 'JAM', 'CRI', 'LIE', 'SUR', 'MHL', 'UN', 'RWA',\n",
       "       'CHE', 'MMR', 'ZWE', 'TTO', 'HKG', 'MCO', 'PER', 'BHS', 'HUN',\n",
       "       'FJI', 'RUS', 'WLF', 'GEO', 'BWA', 'PLW', 'GAB', 'GUM', 'BLZ',\n",
       "       'VGB', 'ARG', 'SVN', 'NLD', 'GRD', 'MAC', 'ISL', 'BOL', 'TMP',\n",
       "       'MDA', 'LTU', 'PRK', 'DMA', 'NRU', 'LSO', 'ECU', 'GIB', 'USA',\n",
       "       'URY', 'MNE', 'MDV', 'DGA', 'GUY', 'CPV', 'LUX', 'GNQ', 'CAN IS',\n",
       "       'HTI', 'PRI', 'DOM', 'WSM', 'SHN', 'TAH', 'MNG', 'NIU', 'KNA'],\n",
       "      dtype=object)"
      ]
     },
     "execution_count": 37,
     "metadata": {},
     "output_type": "execute_result"
    }
   ],
   "source": [
    "stc_d['NATIONALITY_CD'].unique()"
   ]
  },
  {
   "cell_type": "code",
   "execution_count": 38,
   "id": "d9c5dae3",
   "metadata": {},
   "outputs": [
    {
     "data": {
      "text/plain": [
       "array(['Sri Lanka', 'Bangladesh', 'Indonesia', 'Egypt', 'Syria',\n",
       "       'Saudi Arabia', 'Mauritania', 'Sudan', 'Pakistan', 'Uganda',\n",
       "       'Yemen', 'Madagascar', 'India', 'Afghanistan', 'United Kingdom',\n",
       "       'Ghana', 'Cayman Islands', 'Cameroon', 'Italy', 'Somalia', 'Niger',\n",
       "       'Morocco', 'Lebanon', 'Turkey', 'Bahrain', 'Nepal', 'Philippines',\n",
       "       'Libya', 'Belgium', 'Ethiopia', 'Ukraine', 'Oman', 'Nigerian',\n",
       "       'Chad', 'Namibia', 'Jordan', 'Kyrgyzstan', 'Burkina Faso',\n",
       "       'Tunisia', 'Palestine', 'Iran', 'Iraq', 'Uzbekistan', 'Malaysia',\n",
       "       'China', 'Algeria', 'Kenya', 'Eritrea', 'Mali', 'Ireland',\n",
       "       'Canada', 'South Africa', 'Honduras', 'Malta', 'Albania',\n",
       "       'United Arab Emirates', 'Romania', 'France', 'Kuwait',\n",
       "       'Mozambique', 'Thailand', 'Spain', 'Germany', 'Cote De Voire',\n",
       "       'Brunei', 'Singapore', 'Tajikistan', 'Laos', 'Anguilla', 'Denmark',\n",
       "       'Bosnia and Herzegovina', 'Burundi', 'Malawi', 'Antigua',\n",
       "       'Australia', 'Guinea', 'Vietnam', 'Sierra Leone', 'Qatar',\n",
       "       'Armenia', 'Andorra', 'Togo', 'Cuba', 'Serbia', 'Bhutan',\n",
       "       'Tanzania', 'Senegal', 'Greece', 'Solvakian',\n",
       "       'Netherlands Antilles islands', 'Poland', 'South Korea',\n",
       "       'Central African Republic', 'Azerbaijan', 'Sweden', 'Mauritius',\n",
       "       'Gambia', 'Djibouti', 'Japan', 'Madeira Islands', 'Aruba',\n",
       "       'Barbados', 'Kazakhstan', 'Croatia', 'Austria', 'Finland',\n",
       "       'French Guiana', 'Faroe Islands', 'Bermuda', 'Liberia',\n",
       "       'Venezuela', 'New Zealand', 'Colombia', 'Cambodia', 'Portugal',\n",
       "       'Taiwan', 'Benin', 'Belarus', 'Caledonia', 'Turkmenistan',\n",
       "       'Comoros Islands', 'Brazil', 'Cook Islands', 'Czech Republic',\n",
       "       'Norway', 'Chile', 'Bulgaria', 'Macedonia', 'Angola', 'Mexico',\n",
       "       'Panama', 'Cyprus', 'Nicaragua', 'Zambia', 'Balearic Islands',\n",
       "       'Estonia', 'Papua New Guinea', 'Jamaica', 'Coasta Rican',\n",
       "       'Liechtenstein', 'Suriname', 'Marshall Islands', 'United Nations',\n",
       "       'Rwanda', 'Switzerland', 'Burma (Myanmar)', 'Zimbabwe',\n",
       "       'Trinidad and Tobago', 'Hong Kong', 'Monaco', 'Peru', 'Bahamas',\n",
       "       'Hungary', 'Fiji', 'Russia', 'Wallis and Futuna', 'Georgia',\n",
       "       'Botswana', 'Palau', 'Gabon', 'Guam', 'Belize',\n",
       "       'British Virgin Islands', 'Argentina', 'Slovenia', 'Netherlands',\n",
       "       'Grenada', 'Macau', 'Iceland', 'Bolivia', 'East Timor', 'Moldova',\n",
       "       'Lithuania', 'North Korea', 'Dominica', 'Nauru', 'Lesotho',\n",
       "       'Ecuador', 'Gibraltar', 'United States', 'Uruguay', 'Montenegro',\n",
       "       'Maldives', 'Diego Garcia', 'British Guyana', 'Cape Verde',\n",
       "       'Luxembourg', 'Equatorial Guinea', 'Canary Islands', 'Haiti',\n",
       "       'Puerto Rico', 'Dominican Republic', 'Samoa', 'Saint Helena',\n",
       "       'Tahiti', 'Mongolia', 'Niue Islands', 'Saint Kitts and Nevis'],\n",
       "      dtype=object)"
      ]
     },
     "execution_count": 38,
     "metadata": {},
     "output_type": "execute_result"
    }
   ],
   "source": [
    "stc_d['NATIONALITY_NAME'].unique()"
   ]
  },
  {
   "cell_type": "code",
   "execution_count": 39,
   "id": "357495aa",
   "metadata": {},
   "outputs": [
    {
     "data": {
      "text/html": [
       "<div>\n",
       "<style scoped>\n",
       "    .dataframe tbody tr th:only-of-type {\n",
       "        vertical-align: middle;\n",
       "    }\n",
       "\n",
       "    .dataframe tbody tr th {\n",
       "        vertical-align: top;\n",
       "    }\n",
       "\n",
       "    .dataframe thead th {\n",
       "        text-align: right;\n",
       "    }\n",
       "</style>\n",
       "<table border=\"1\" class=\"dataframe\">\n",
       "  <thead>\n",
       "    <tr style=\"text-align: right;\">\n",
       "      <th></th>\n",
       "      <th>CAL_DT</th>\n",
       "      <th>MODEL_NAME</th>\n",
       "      <th>BRAND_FULL_NAME</th>\n",
       "      <th>BRAND_NAME</th>\n",
       "      <th>VENDOR_NAME</th>\n",
       "      <th>OS_NAME</th>\n",
       "      <th>DEVICE_TYPE</th>\n",
       "      <th>_2G_FLG</th>\n",
       "      <th>_3G_FLG</th>\n",
       "      <th>_4G_FLG</th>\n",
       "      <th>WIFI_FLG</th>\n",
       "      <th>BLUETOOTH_FLG</th>\n",
       "      <th>TOUCH_SCREEN_FLG</th>\n",
       "      <th>DUAL_SIM_FLG</th>\n",
       "      <th>GENDER_TYPE_CD</th>\n",
       "      <th>AGE_B</th>\n",
       "      <th>NATIONALITY_CD</th>\n",
       "      <th>NATIONALITY_NAME</th>\n",
       "      <th>SAUDI_NON_SAUDI</th>\n",
       "      <th>DEVICE_COUNT</th>\n",
       "    </tr>\n",
       "  </thead>\n",
       "  <tbody>\n",
       "    <tr>\n",
       "      <th>0</th>\n",
       "      <td>1/31/2019</td>\n",
       "      <td>One x9</td>\n",
       "      <td>HTC One x9</td>\n",
       "      <td>HTC</td>\n",
       "      <td>Google</td>\n",
       "      <td>Android</td>\n",
       "      <td>Smartphone</td>\n",
       "      <td>Y</td>\n",
       "      <td>Y</td>\n",
       "      <td>Y</td>\n",
       "      <td>Y</td>\n",
       "      <td>Y</td>\n",
       "      <td>Y</td>\n",
       "      <td>Y</td>\n",
       "      <td>Male</td>\n",
       "      <td>36-55</td>\n",
       "      <td>LKA</td>\n",
       "      <td>Sri Lanka</td>\n",
       "      <td>Non-Saudi</td>\n",
       "      <td>9</td>\n",
       "    </tr>\n",
       "    <tr>\n",
       "      <th>3</th>\n",
       "      <td>12/31/2019</td>\n",
       "      <td>C7-00</td>\n",
       "      <td>Nokia C7-00</td>\n",
       "      <td>Nokia</td>\n",
       "      <td>Nokia</td>\n",
       "      <td>Symbian</td>\n",
       "      <td>Smartphone</td>\n",
       "      <td>Y</td>\n",
       "      <td>Y</td>\n",
       "      <td>N</td>\n",
       "      <td>Y</td>\n",
       "      <td>Y</td>\n",
       "      <td>Y</td>\n",
       "      <td>N</td>\n",
       "      <td>Male</td>\n",
       "      <td>18-25</td>\n",
       "      <td>BGD</td>\n",
       "      <td>Bangladesh</td>\n",
       "      <td>Non-Saudi</td>\n",
       "      <td>2</td>\n",
       "    </tr>\n",
       "    <tr>\n",
       "      <th>5</th>\n",
       "      <td>4/30/2020</td>\n",
       "      <td>Blade V7 Lite</td>\n",
       "      <td>ZTE Blade V7 Lite</td>\n",
       "      <td>ZTE</td>\n",
       "      <td>Google</td>\n",
       "      <td>Android</td>\n",
       "      <td>Smartphone</td>\n",
       "      <td>Y</td>\n",
       "      <td>Y</td>\n",
       "      <td>Y</td>\n",
       "      <td>Y</td>\n",
       "      <td>Y</td>\n",
       "      <td>Y</td>\n",
       "      <td>Y</td>\n",
       "      <td>Female</td>\n",
       "      <td>&gt;55</td>\n",
       "      <td>IDN</td>\n",
       "      <td>Indonesia</td>\n",
       "      <td>Non-Saudi</td>\n",
       "      <td>1</td>\n",
       "    </tr>\n",
       "    <tr>\n",
       "      <th>6</th>\n",
       "      <td>8/31/2019</td>\n",
       "      <td>i6 Metal ONE</td>\n",
       "      <td>QMobile i6 Metal ONE</td>\n",
       "      <td>QMobile</td>\n",
       "      <td>Google</td>\n",
       "      <td>Android</td>\n",
       "      <td>Smartphone</td>\n",
       "      <td>Y</td>\n",
       "      <td>Y</td>\n",
       "      <td>N</td>\n",
       "      <td>Y</td>\n",
       "      <td>Y</td>\n",
       "      <td>Y</td>\n",
       "      <td>Y</td>\n",
       "      <td>Male</td>\n",
       "      <td>36-55</td>\n",
       "      <td>EGY</td>\n",
       "      <td>Egypt</td>\n",
       "      <td>Non-Saudi</td>\n",
       "      <td>1</td>\n",
       "    </tr>\n",
       "    <tr>\n",
       "      <th>8</th>\n",
       "      <td>6/30/2019</td>\n",
       "      <td>One M9</td>\n",
       "      <td>HTC One M9</td>\n",
       "      <td>HTC</td>\n",
       "      <td>Google</td>\n",
       "      <td>Android</td>\n",
       "      <td>Smartphone</td>\n",
       "      <td>Y</td>\n",
       "      <td>Y</td>\n",
       "      <td>Y</td>\n",
       "      <td>Y</td>\n",
       "      <td>Y</td>\n",
       "      <td>Y</td>\n",
       "      <td>N</td>\n",
       "      <td>Male</td>\n",
       "      <td>26-35</td>\n",
       "      <td>SYR</td>\n",
       "      <td>Syria</td>\n",
       "      <td>Non-Saudi</td>\n",
       "      <td>21</td>\n",
       "    </tr>\n",
       "    <tr>\n",
       "      <th>...</th>\n",
       "      <td>...</td>\n",
       "      <td>...</td>\n",
       "      <td>...</td>\n",
       "      <td>...</td>\n",
       "      <td>...</td>\n",
       "      <td>...</td>\n",
       "      <td>...</td>\n",
       "      <td>...</td>\n",
       "      <td>...</td>\n",
       "      <td>...</td>\n",
       "      <td>...</td>\n",
       "      <td>...</td>\n",
       "      <td>...</td>\n",
       "      <td>...</td>\n",
       "      <td>...</td>\n",
       "      <td>...</td>\n",
       "      <td>...</td>\n",
       "      <td>...</td>\n",
       "      <td>...</td>\n",
       "      <td>...</td>\n",
       "    </tr>\n",
       "    <tr>\n",
       "      <th>1048568</th>\n",
       "      <td>3/31/2019</td>\n",
       "      <td>E4</td>\n",
       "      <td>QMobile E4</td>\n",
       "      <td>QMobile</td>\n",
       "      <td>QMobile</td>\n",
       "      <td>Proprietary</td>\n",
       "      <td>Mobile Phone</td>\n",
       "      <td>Y</td>\n",
       "      <td>N</td>\n",
       "      <td>N</td>\n",
       "      <td>N</td>\n",
       "      <td>Y</td>\n",
       "      <td>N</td>\n",
       "      <td>Y</td>\n",
       "      <td>Male</td>\n",
       "      <td>&gt;55</td>\n",
       "      <td>SDN</td>\n",
       "      <td>Sudan</td>\n",
       "      <td>Non-Saudi</td>\n",
       "      <td>2</td>\n",
       "    </tr>\n",
       "    <tr>\n",
       "      <th>1048569</th>\n",
       "      <td>1/31/2019</td>\n",
       "      <td>F3</td>\n",
       "      <td>Oppo F3</td>\n",
       "      <td>Oppo</td>\n",
       "      <td>Google</td>\n",
       "      <td>Android</td>\n",
       "      <td>Smartphone</td>\n",
       "      <td>Y</td>\n",
       "      <td>Y</td>\n",
       "      <td>Y</td>\n",
       "      <td>Y</td>\n",
       "      <td>Y</td>\n",
       "      <td>Y</td>\n",
       "      <td>Y</td>\n",
       "      <td>Female</td>\n",
       "      <td>36-55</td>\n",
       "      <td>DZA</td>\n",
       "      <td>Algeria</td>\n",
       "      <td>Non-Saudi</td>\n",
       "      <td>1</td>\n",
       "    </tr>\n",
       "    <tr>\n",
       "      <th>1048572</th>\n",
       "      <td>5/31/2019</td>\n",
       "      <td>X2-00</td>\n",
       "      <td>Nokia X2-00</td>\n",
       "      <td>Nokia</td>\n",
       "      <td>Nokia</td>\n",
       "      <td>Proprietary</td>\n",
       "      <td>Mobile Phone</td>\n",
       "      <td>Y</td>\n",
       "      <td>N</td>\n",
       "      <td>N</td>\n",
       "      <td>N</td>\n",
       "      <td>Y</td>\n",
       "      <td>N</td>\n",
       "      <td>N</td>\n",
       "      <td>Male</td>\n",
       "      <td>36-55</td>\n",
       "      <td>SYR</td>\n",
       "      <td>Syria</td>\n",
       "      <td>Non-Saudi</td>\n",
       "      <td>16</td>\n",
       "    </tr>\n",
       "    <tr>\n",
       "      <th>1048573</th>\n",
       "      <td>7/31/2019</td>\n",
       "      <td>Desire 626 NFC Dual Sim</td>\n",
       "      <td>HTC Desire 626 NFC Dual Sim</td>\n",
       "      <td>HTC</td>\n",
       "      <td>Google</td>\n",
       "      <td>Android</td>\n",
       "      <td>Smartphone</td>\n",
       "      <td>Y</td>\n",
       "      <td>Y</td>\n",
       "      <td>Y</td>\n",
       "      <td>Y</td>\n",
       "      <td>Y</td>\n",
       "      <td>Y</td>\n",
       "      <td>Y</td>\n",
       "      <td>Male</td>\n",
       "      <td>&gt;55</td>\n",
       "      <td>BGD</td>\n",
       "      <td>Bangladesh</td>\n",
       "      <td>Non-Saudi</td>\n",
       "      <td>7</td>\n",
       "    </tr>\n",
       "    <tr>\n",
       "      <th>1048574</th>\n",
       "      <td>6/30/2020</td>\n",
       "      <td>C7-00</td>\n",
       "      <td>Nokia C7-00</td>\n",
       "      <td>Nokia</td>\n",
       "      <td>Nokia</td>\n",
       "      <td>Symbian</td>\n",
       "      <td>Smartphone</td>\n",
       "      <td>Y</td>\n",
       "      <td>Y</td>\n",
       "      <td>N</td>\n",
       "      <td>Y</td>\n",
       "      <td>Y</td>\n",
       "      <td>Y</td>\n",
       "      <td>N</td>\n",
       "      <td>Male</td>\n",
       "      <td>&gt;55</td>\n",
       "      <td>SAU</td>\n",
       "      <td>Saudi Arabia</td>\n",
       "      <td>Saudi</td>\n",
       "      <td>53</td>\n",
       "    </tr>\n",
       "  </tbody>\n",
       "</table>\n",
       "<p>714023 rows × 20 columns</p>\n",
       "</div>"
      ],
      "text/plain": [
       "             CAL_DT               MODEL_NAME              BRAND_FULL_NAME  \\\n",
       "0         1/31/2019                   One x9                   HTC One x9   \n",
       "3        12/31/2019                    C7-00                  Nokia C7-00   \n",
       "5         4/30/2020            Blade V7 Lite            ZTE Blade V7 Lite   \n",
       "6         8/31/2019             i6 Metal ONE         QMobile i6 Metal ONE   \n",
       "8         6/30/2019                   One M9                   HTC One M9   \n",
       "...             ...                      ...                          ...   \n",
       "1048568   3/31/2019                       E4                   QMobile E4   \n",
       "1048569   1/31/2019                       F3                      Oppo F3   \n",
       "1048572   5/31/2019                    X2-00                  Nokia X2-00   \n",
       "1048573   7/31/2019  Desire 626 NFC Dual Sim  HTC Desire 626 NFC Dual Sim   \n",
       "1048574   6/30/2020                    C7-00                  Nokia C7-00   \n",
       "\n",
       "        BRAND_NAME VENDOR_NAME      OS_NAME   DEVICE_TYPE _2G_FLG _3G_FLG  \\\n",
       "0              HTC      Google      Android    Smartphone       Y       Y   \n",
       "3            Nokia       Nokia      Symbian    Smartphone       Y       Y   \n",
       "5              ZTE      Google      Android    Smartphone       Y       Y   \n",
       "6          QMobile      Google      Android    Smartphone       Y       Y   \n",
       "8              HTC      Google      Android    Smartphone       Y       Y   \n",
       "...            ...         ...          ...           ...     ...     ...   \n",
       "1048568    QMobile     QMobile  Proprietary  Mobile Phone       Y       N   \n",
       "1048569       Oppo      Google      Android    Smartphone       Y       Y   \n",
       "1048572      Nokia       Nokia  Proprietary  Mobile Phone       Y       N   \n",
       "1048573        HTC      Google      Android    Smartphone       Y       Y   \n",
       "1048574      Nokia       Nokia      Symbian    Smartphone       Y       Y   \n",
       "\n",
       "        _4G_FLG WIFI_FLG BLUETOOTH_FLG TOUCH_SCREEN_FLG DUAL_SIM_FLG  \\\n",
       "0             Y        Y             Y                Y            Y   \n",
       "3             N        Y             Y                Y            N   \n",
       "5             Y        Y             Y                Y            Y   \n",
       "6             N        Y             Y                Y            Y   \n",
       "8             Y        Y             Y                Y            N   \n",
       "...         ...      ...           ...              ...          ...   \n",
       "1048568       N        N             Y                N            Y   \n",
       "1048569       Y        Y             Y                Y            Y   \n",
       "1048572       N        N             Y                N            N   \n",
       "1048573       Y        Y             Y                Y            Y   \n",
       "1048574       N        Y             Y                Y            N   \n",
       "\n",
       "        GENDER_TYPE_CD  AGE_B NATIONALITY_CD NATIONALITY_NAME SAUDI_NON_SAUDI  \\\n",
       "0                 Male  36-55            LKA        Sri Lanka       Non-Saudi   \n",
       "3                 Male  18-25            BGD       Bangladesh       Non-Saudi   \n",
       "5               Female  >55              IDN        Indonesia       Non-Saudi   \n",
       "6                 Male  36-55            EGY            Egypt       Non-Saudi   \n",
       "8                 Male  26-35            SYR            Syria       Non-Saudi   \n",
       "...                ...    ...            ...              ...             ...   \n",
       "1048568           Male  >55              SDN            Sudan       Non-Saudi   \n",
       "1048569         Female  36-55            DZA          Algeria       Non-Saudi   \n",
       "1048572           Male  36-55            SYR            Syria       Non-Saudi   \n",
       "1048573           Male  >55              BGD       Bangladesh       Non-Saudi   \n",
       "1048574           Male  >55              SAU     Saudi Arabia           Saudi   \n",
       "\n",
       "        DEVICE_COUNT  \n",
       "0                  9  \n",
       "3                  2  \n",
       "5                  1  \n",
       "6                  1  \n",
       "8                 21  \n",
       "...              ...  \n",
       "1048568            2  \n",
       "1048569            1  \n",
       "1048572           16  \n",
       "1048573            7  \n",
       "1048574           53  \n",
       "\n",
       "[714023 rows x 20 columns]"
      ]
     },
     "execution_count": 39,
     "metadata": {},
     "output_type": "execute_result"
    }
   ],
   "source": [
    "stc_d.drop(stc_d[(stc_d['NATIONALITY_NAME']=='18-25') | (stc_d['NATIONALITY_NAME']== '<18  ') | (stc_d['NATIONALITY_NAME']== 'N') | (stc_d['NATIONALITY_NAME']== 'NA   ')].index, axis=0,inplace=True)\n",
    "stc_d"
   ]
  },
  {
   "cell_type": "code",
   "execution_count": 40,
   "id": "1f0e8560",
   "metadata": {},
   "outputs": [
    {
     "data": {
      "text/plain": [
       "array(['Sri Lanka', 'Bangladesh', 'Indonesia', 'Egypt', 'Syria',\n",
       "       'Saudi Arabia', 'Mauritania', 'Sudan', 'Pakistan', 'Uganda',\n",
       "       'Yemen', 'Madagascar', 'India', 'Afghanistan', 'United Kingdom',\n",
       "       'Ghana', 'Cayman Islands', 'Cameroon', 'Italy', 'Somalia', 'Niger',\n",
       "       'Morocco', 'Lebanon', 'Turkey', 'Bahrain', 'Nepal', 'Philippines',\n",
       "       'Libya', 'Belgium', 'Ethiopia', 'Ukraine', 'Oman', 'Nigerian',\n",
       "       'Chad', 'Namibia', 'Jordan', 'Kyrgyzstan', 'Burkina Faso',\n",
       "       'Tunisia', 'Palestine', 'Iran', 'Iraq', 'Uzbekistan', 'Malaysia',\n",
       "       'China', 'Algeria', 'Kenya', 'Eritrea', 'Mali', 'Ireland',\n",
       "       'Canada', 'South Africa', 'Honduras', 'Malta', 'Albania',\n",
       "       'United Arab Emirates', 'Romania', 'France', 'Kuwait',\n",
       "       'Mozambique', 'Thailand', 'Spain', 'Germany', 'Cote De Voire',\n",
       "       'Brunei', 'Singapore', 'Tajikistan', 'Laos', 'Anguilla', 'Denmark',\n",
       "       'Bosnia and Herzegovina', 'Burundi', 'Malawi', 'Antigua',\n",
       "       'Australia', 'Guinea', 'Vietnam', 'Sierra Leone', 'Qatar',\n",
       "       'Armenia', 'Andorra', 'Togo', 'Cuba', 'Serbia', 'Bhutan',\n",
       "       'Tanzania', 'Senegal', 'Greece', 'Solvakian',\n",
       "       'Netherlands Antilles islands', 'Poland', 'South Korea',\n",
       "       'Central African Republic', 'Azerbaijan', 'Sweden', 'Mauritius',\n",
       "       'Gambia', 'Djibouti', 'Japan', 'Madeira Islands', 'Aruba',\n",
       "       'Barbados', 'Kazakhstan', 'Croatia', 'Austria', 'Finland',\n",
       "       'French Guiana', 'Faroe Islands', 'Bermuda', 'Liberia',\n",
       "       'Venezuela', 'New Zealand', 'Colombia', 'Cambodia', 'Portugal',\n",
       "       'Taiwan', 'Benin', 'Belarus', 'Caledonia', 'Turkmenistan',\n",
       "       'Comoros Islands', 'Brazil', 'Cook Islands', 'Czech Republic',\n",
       "       'Norway', 'Chile', 'Bulgaria', 'Macedonia', 'Angola', 'Mexico',\n",
       "       'Panama', 'Cyprus', 'Nicaragua', 'Zambia', 'Balearic Islands',\n",
       "       'Estonia', 'Papua New Guinea', 'Jamaica', 'Coasta Rican',\n",
       "       'Liechtenstein', 'Suriname', 'Marshall Islands', 'United Nations',\n",
       "       'Rwanda', 'Switzerland', 'Burma (Myanmar)', 'Zimbabwe',\n",
       "       'Trinidad and Tobago', 'Hong Kong', 'Monaco', 'Peru', 'Bahamas',\n",
       "       'Hungary', 'Fiji', 'Russia', 'Wallis and Futuna', 'Georgia',\n",
       "       'Botswana', 'Palau', 'Gabon', 'Guam', 'Belize',\n",
       "       'British Virgin Islands', 'Argentina', 'Slovenia', 'Netherlands',\n",
       "       'Grenada', 'Macau', 'Iceland', 'Bolivia', 'East Timor', 'Moldova',\n",
       "       'Lithuania', 'North Korea', 'Dominica', 'Nauru', 'Lesotho',\n",
       "       'Ecuador', 'Gibraltar', 'United States', 'Uruguay', 'Montenegro',\n",
       "       'Maldives', 'Diego Garcia', 'British Guyana', 'Cape Verde',\n",
       "       'Luxembourg', 'Equatorial Guinea', 'Canary Islands', 'Haiti',\n",
       "       'Puerto Rico', 'Dominican Republic', 'Samoa', 'Saint Helena',\n",
       "       'Tahiti', 'Mongolia', 'Niue Islands', 'Saint Kitts and Nevis'],\n",
       "      dtype=object)"
      ]
     },
     "execution_count": 40,
     "metadata": {},
     "output_type": "execute_result"
    }
   ],
   "source": [
    "stc_d['NATIONALITY_NAME'].unique()"
   ]
  },
  {
   "cell_type": "code",
   "execution_count": 41,
   "id": "9912d327",
   "metadata": {},
   "outputs": [
    {
     "data": {
      "text/plain": [
       "array(['Non-Saudi', 'Saudi'], dtype=object)"
      ]
     },
     "execution_count": 41,
     "metadata": {},
     "output_type": "execute_result"
    }
   ],
   "source": [
    "stc_d['SAUDI_NON_SAUDI'].unique()"
   ]
  },
  {
   "cell_type": "code",
   "execution_count": 42,
   "id": "189a434c",
   "metadata": {},
   "outputs": [
    {
     "data": {
      "text/html": [
       "<div>\n",
       "<style scoped>\n",
       "    .dataframe tbody tr th:only-of-type {\n",
       "        vertical-align: middle;\n",
       "    }\n",
       "\n",
       "    .dataframe tbody tr th {\n",
       "        vertical-align: top;\n",
       "    }\n",
       "\n",
       "    .dataframe thead th {\n",
       "        text-align: right;\n",
       "    }\n",
       "</style>\n",
       "<table border=\"1\" class=\"dataframe\">\n",
       "  <thead>\n",
       "    <tr style=\"text-align: right;\">\n",
       "      <th></th>\n",
       "      <th>CAL_DT</th>\n",
       "      <th>MODEL_NAME</th>\n",
       "      <th>BRAND_FULL_NAME</th>\n",
       "      <th>BRAND_NAME</th>\n",
       "      <th>VENDOR_NAME</th>\n",
       "      <th>OS_NAME</th>\n",
       "      <th>DEVICE_TYPE</th>\n",
       "      <th>_2G_FLG</th>\n",
       "      <th>_3G_FLG</th>\n",
       "      <th>_4G_FLG</th>\n",
       "      <th>WIFI_FLG</th>\n",
       "      <th>BLUETOOTH_FLG</th>\n",
       "      <th>TOUCH_SCREEN_FLG</th>\n",
       "      <th>DUAL_SIM_FLG</th>\n",
       "      <th>GENDER_TYPE_CD</th>\n",
       "      <th>AGE_B</th>\n",
       "      <th>NATIONALITY_CD</th>\n",
       "      <th>NATIONALITY_NAME</th>\n",
       "      <th>SAUDI_NON_SAUDI</th>\n",
       "      <th>DEVICE_COUNT</th>\n",
       "    </tr>\n",
       "  </thead>\n",
       "  <tbody>\n",
       "    <tr>\n",
       "      <th>0</th>\n",
       "      <td>1/31/2019</td>\n",
       "      <td>One x9</td>\n",
       "      <td>HTC One x9</td>\n",
       "      <td>HTC</td>\n",
       "      <td>Google</td>\n",
       "      <td>Android</td>\n",
       "      <td>Smartphone</td>\n",
       "      <td>Y</td>\n",
       "      <td>Y</td>\n",
       "      <td>Y</td>\n",
       "      <td>Y</td>\n",
       "      <td>Y</td>\n",
       "      <td>Y</td>\n",
       "      <td>Y</td>\n",
       "      <td>Male</td>\n",
       "      <td>36-55</td>\n",
       "      <td>LKA</td>\n",
       "      <td>Sri Lanka</td>\n",
       "      <td>Non-Saudi</td>\n",
       "      <td>9</td>\n",
       "    </tr>\n",
       "    <tr>\n",
       "      <th>3</th>\n",
       "      <td>12/31/2019</td>\n",
       "      <td>C7-00</td>\n",
       "      <td>Nokia C7-00</td>\n",
       "      <td>Nokia</td>\n",
       "      <td>Nokia</td>\n",
       "      <td>Symbian</td>\n",
       "      <td>Smartphone</td>\n",
       "      <td>Y</td>\n",
       "      <td>Y</td>\n",
       "      <td>N</td>\n",
       "      <td>Y</td>\n",
       "      <td>Y</td>\n",
       "      <td>Y</td>\n",
       "      <td>N</td>\n",
       "      <td>Male</td>\n",
       "      <td>18-25</td>\n",
       "      <td>BGD</td>\n",
       "      <td>Bangladesh</td>\n",
       "      <td>Non-Saudi</td>\n",
       "      <td>2</td>\n",
       "    </tr>\n",
       "    <tr>\n",
       "      <th>5</th>\n",
       "      <td>4/30/2020</td>\n",
       "      <td>Blade V7 Lite</td>\n",
       "      <td>ZTE Blade V7 Lite</td>\n",
       "      <td>ZTE</td>\n",
       "      <td>Google</td>\n",
       "      <td>Android</td>\n",
       "      <td>Smartphone</td>\n",
       "      <td>Y</td>\n",
       "      <td>Y</td>\n",
       "      <td>Y</td>\n",
       "      <td>Y</td>\n",
       "      <td>Y</td>\n",
       "      <td>Y</td>\n",
       "      <td>Y</td>\n",
       "      <td>Female</td>\n",
       "      <td>&gt;55</td>\n",
       "      <td>IDN</td>\n",
       "      <td>Indonesia</td>\n",
       "      <td>Non-Saudi</td>\n",
       "      <td>1</td>\n",
       "    </tr>\n",
       "    <tr>\n",
       "      <th>6</th>\n",
       "      <td>8/31/2019</td>\n",
       "      <td>i6 Metal ONE</td>\n",
       "      <td>QMobile i6 Metal ONE</td>\n",
       "      <td>QMobile</td>\n",
       "      <td>Google</td>\n",
       "      <td>Android</td>\n",
       "      <td>Smartphone</td>\n",
       "      <td>Y</td>\n",
       "      <td>Y</td>\n",
       "      <td>N</td>\n",
       "      <td>Y</td>\n",
       "      <td>Y</td>\n",
       "      <td>Y</td>\n",
       "      <td>Y</td>\n",
       "      <td>Male</td>\n",
       "      <td>36-55</td>\n",
       "      <td>EGY</td>\n",
       "      <td>Egypt</td>\n",
       "      <td>Non-Saudi</td>\n",
       "      <td>1</td>\n",
       "    </tr>\n",
       "    <tr>\n",
       "      <th>8</th>\n",
       "      <td>6/30/2019</td>\n",
       "      <td>One M9</td>\n",
       "      <td>HTC One M9</td>\n",
       "      <td>HTC</td>\n",
       "      <td>Google</td>\n",
       "      <td>Android</td>\n",
       "      <td>Smartphone</td>\n",
       "      <td>Y</td>\n",
       "      <td>Y</td>\n",
       "      <td>Y</td>\n",
       "      <td>Y</td>\n",
       "      <td>Y</td>\n",
       "      <td>Y</td>\n",
       "      <td>N</td>\n",
       "      <td>Male</td>\n",
       "      <td>26-35</td>\n",
       "      <td>SYR</td>\n",
       "      <td>Syria</td>\n",
       "      <td>Non-Saudi</td>\n",
       "      <td>21</td>\n",
       "    </tr>\n",
       "    <tr>\n",
       "      <th>...</th>\n",
       "      <td>...</td>\n",
       "      <td>...</td>\n",
       "      <td>...</td>\n",
       "      <td>...</td>\n",
       "      <td>...</td>\n",
       "      <td>...</td>\n",
       "      <td>...</td>\n",
       "      <td>...</td>\n",
       "      <td>...</td>\n",
       "      <td>...</td>\n",
       "      <td>...</td>\n",
       "      <td>...</td>\n",
       "      <td>...</td>\n",
       "      <td>...</td>\n",
       "      <td>...</td>\n",
       "      <td>...</td>\n",
       "      <td>...</td>\n",
       "      <td>...</td>\n",
       "      <td>...</td>\n",
       "      <td>...</td>\n",
       "    </tr>\n",
       "    <tr>\n",
       "      <th>1048568</th>\n",
       "      <td>3/31/2019</td>\n",
       "      <td>E4</td>\n",
       "      <td>QMobile E4</td>\n",
       "      <td>QMobile</td>\n",
       "      <td>QMobile</td>\n",
       "      <td>Proprietary</td>\n",
       "      <td>Mobile Phone</td>\n",
       "      <td>Y</td>\n",
       "      <td>N</td>\n",
       "      <td>N</td>\n",
       "      <td>N</td>\n",
       "      <td>Y</td>\n",
       "      <td>N</td>\n",
       "      <td>Y</td>\n",
       "      <td>Male</td>\n",
       "      <td>&gt;55</td>\n",
       "      <td>SDN</td>\n",
       "      <td>Sudan</td>\n",
       "      <td>Non-Saudi</td>\n",
       "      <td>2</td>\n",
       "    </tr>\n",
       "    <tr>\n",
       "      <th>1048569</th>\n",
       "      <td>1/31/2019</td>\n",
       "      <td>F3</td>\n",
       "      <td>Oppo F3</td>\n",
       "      <td>Oppo</td>\n",
       "      <td>Google</td>\n",
       "      <td>Android</td>\n",
       "      <td>Smartphone</td>\n",
       "      <td>Y</td>\n",
       "      <td>Y</td>\n",
       "      <td>Y</td>\n",
       "      <td>Y</td>\n",
       "      <td>Y</td>\n",
       "      <td>Y</td>\n",
       "      <td>Y</td>\n",
       "      <td>Female</td>\n",
       "      <td>36-55</td>\n",
       "      <td>DZA</td>\n",
       "      <td>Algeria</td>\n",
       "      <td>Non-Saudi</td>\n",
       "      <td>1</td>\n",
       "    </tr>\n",
       "    <tr>\n",
       "      <th>1048572</th>\n",
       "      <td>5/31/2019</td>\n",
       "      <td>X2-00</td>\n",
       "      <td>Nokia X2-00</td>\n",
       "      <td>Nokia</td>\n",
       "      <td>Nokia</td>\n",
       "      <td>Proprietary</td>\n",
       "      <td>Mobile Phone</td>\n",
       "      <td>Y</td>\n",
       "      <td>N</td>\n",
       "      <td>N</td>\n",
       "      <td>N</td>\n",
       "      <td>Y</td>\n",
       "      <td>N</td>\n",
       "      <td>N</td>\n",
       "      <td>Male</td>\n",
       "      <td>36-55</td>\n",
       "      <td>SYR</td>\n",
       "      <td>Syria</td>\n",
       "      <td>Non-Saudi</td>\n",
       "      <td>16</td>\n",
       "    </tr>\n",
       "    <tr>\n",
       "      <th>1048573</th>\n",
       "      <td>7/31/2019</td>\n",
       "      <td>Desire 626 NFC Dual Sim</td>\n",
       "      <td>HTC Desire 626 NFC Dual Sim</td>\n",
       "      <td>HTC</td>\n",
       "      <td>Google</td>\n",
       "      <td>Android</td>\n",
       "      <td>Smartphone</td>\n",
       "      <td>Y</td>\n",
       "      <td>Y</td>\n",
       "      <td>Y</td>\n",
       "      <td>Y</td>\n",
       "      <td>Y</td>\n",
       "      <td>Y</td>\n",
       "      <td>Y</td>\n",
       "      <td>Male</td>\n",
       "      <td>&gt;55</td>\n",
       "      <td>BGD</td>\n",
       "      <td>Bangladesh</td>\n",
       "      <td>Non-Saudi</td>\n",
       "      <td>7</td>\n",
       "    </tr>\n",
       "    <tr>\n",
       "      <th>1048574</th>\n",
       "      <td>6/30/2020</td>\n",
       "      <td>C7-00</td>\n",
       "      <td>Nokia C7-00</td>\n",
       "      <td>Nokia</td>\n",
       "      <td>Nokia</td>\n",
       "      <td>Symbian</td>\n",
       "      <td>Smartphone</td>\n",
       "      <td>Y</td>\n",
       "      <td>Y</td>\n",
       "      <td>N</td>\n",
       "      <td>Y</td>\n",
       "      <td>Y</td>\n",
       "      <td>Y</td>\n",
       "      <td>N</td>\n",
       "      <td>Male</td>\n",
       "      <td>&gt;55</td>\n",
       "      <td>SAU</td>\n",
       "      <td>Saudi Arabia</td>\n",
       "      <td>Saudi</td>\n",
       "      <td>53</td>\n",
       "    </tr>\n",
       "  </tbody>\n",
       "</table>\n",
       "<p>714023 rows × 20 columns</p>\n",
       "</div>"
      ],
      "text/plain": [
       "             CAL_DT               MODEL_NAME              BRAND_FULL_NAME  \\\n",
       "0         1/31/2019                   One x9                   HTC One x9   \n",
       "3        12/31/2019                    C7-00                  Nokia C7-00   \n",
       "5         4/30/2020            Blade V7 Lite            ZTE Blade V7 Lite   \n",
       "6         8/31/2019             i6 Metal ONE         QMobile i6 Metal ONE   \n",
       "8         6/30/2019                   One M9                   HTC One M9   \n",
       "...             ...                      ...                          ...   \n",
       "1048568   3/31/2019                       E4                   QMobile E4   \n",
       "1048569   1/31/2019                       F3                      Oppo F3   \n",
       "1048572   5/31/2019                    X2-00                  Nokia X2-00   \n",
       "1048573   7/31/2019  Desire 626 NFC Dual Sim  HTC Desire 626 NFC Dual Sim   \n",
       "1048574   6/30/2020                    C7-00                  Nokia C7-00   \n",
       "\n",
       "        BRAND_NAME VENDOR_NAME      OS_NAME   DEVICE_TYPE _2G_FLG _3G_FLG  \\\n",
       "0              HTC      Google      Android    Smartphone       Y       Y   \n",
       "3            Nokia       Nokia      Symbian    Smartphone       Y       Y   \n",
       "5              ZTE      Google      Android    Smartphone       Y       Y   \n",
       "6          QMobile      Google      Android    Smartphone       Y       Y   \n",
       "8              HTC      Google      Android    Smartphone       Y       Y   \n",
       "...            ...         ...          ...           ...     ...     ...   \n",
       "1048568    QMobile     QMobile  Proprietary  Mobile Phone       Y       N   \n",
       "1048569       Oppo      Google      Android    Smartphone       Y       Y   \n",
       "1048572      Nokia       Nokia  Proprietary  Mobile Phone       Y       N   \n",
       "1048573        HTC      Google      Android    Smartphone       Y       Y   \n",
       "1048574      Nokia       Nokia      Symbian    Smartphone       Y       Y   \n",
       "\n",
       "        _4G_FLG WIFI_FLG BLUETOOTH_FLG TOUCH_SCREEN_FLG DUAL_SIM_FLG  \\\n",
       "0             Y        Y             Y                Y            Y   \n",
       "3             N        Y             Y                Y            N   \n",
       "5             Y        Y             Y                Y            Y   \n",
       "6             N        Y             Y                Y            Y   \n",
       "8             Y        Y             Y                Y            N   \n",
       "...         ...      ...           ...              ...          ...   \n",
       "1048568       N        N             Y                N            Y   \n",
       "1048569       Y        Y             Y                Y            Y   \n",
       "1048572       N        N             Y                N            N   \n",
       "1048573       Y        Y             Y                Y            Y   \n",
       "1048574       N        Y             Y                Y            N   \n",
       "\n",
       "        GENDER_TYPE_CD  AGE_B NATIONALITY_CD NATIONALITY_NAME SAUDI_NON_SAUDI  \\\n",
       "0                 Male  36-55            LKA        Sri Lanka       Non-Saudi   \n",
       "3                 Male  18-25            BGD       Bangladesh       Non-Saudi   \n",
       "5               Female  >55              IDN        Indonesia       Non-Saudi   \n",
       "6                 Male  36-55            EGY            Egypt       Non-Saudi   \n",
       "8                 Male  26-35            SYR            Syria       Non-Saudi   \n",
       "...                ...    ...            ...              ...             ...   \n",
       "1048568           Male  >55              SDN            Sudan       Non-Saudi   \n",
       "1048569         Female  36-55            DZA          Algeria       Non-Saudi   \n",
       "1048572           Male  36-55            SYR            Syria       Non-Saudi   \n",
       "1048573           Male  >55              BGD       Bangladesh       Non-Saudi   \n",
       "1048574           Male  >55              SAU     Saudi Arabia           Saudi   \n",
       "\n",
       "        DEVICE_COUNT  \n",
       "0                  9  \n",
       "3                  2  \n",
       "5                  1  \n",
       "6                  1  \n",
       "8                 21  \n",
       "...              ...  \n",
       "1048568            2  \n",
       "1048569            1  \n",
       "1048572           16  \n",
       "1048573            7  \n",
       "1048574           53  \n",
       "\n",
       "[714023 rows x 20 columns]"
      ]
     },
     "execution_count": 42,
     "metadata": {},
     "output_type": "execute_result"
    }
   ],
   "source": [
    "stc_d.drop(stc_d[(stc_d['SAUDI_NON_SAUDI']=='Male') | (stc_d['SAUDI_NON_SAUDI']== 'Female') | (stc_d['SAUDI_NON_SAUDI']== 'N')].index, axis=0,inplace=True)\n",
    "stc_d"
   ]
  },
  {
   "cell_type": "code",
   "execution_count": 43,
   "id": "70d69444",
   "metadata": {},
   "outputs": [
    {
     "data": {
      "text/plain": [
       "array(['Non-Saudi', 'Saudi'], dtype=object)"
      ]
     },
     "execution_count": 43,
     "metadata": {},
     "output_type": "execute_result"
    }
   ],
   "source": [
    "stc_d['SAUDI_NON_SAUDI'].unique()"
   ]
  },
  {
   "cell_type": "code",
   "execution_count": 44,
   "id": "b83a7082",
   "metadata": {},
   "outputs": [
    {
     "data": {
      "text/plain": [
       "array(['9', '2', '1', ..., '32685', '602', '12023'], dtype=object)"
      ]
     },
     "execution_count": 44,
     "metadata": {},
     "output_type": "execute_result"
    }
   ],
   "source": [
    "stc_d['DEVICE_COUNT'].unique()"
   ]
  },
  {
   "cell_type": "code",
   "execution_count": 45,
   "id": "50e2c785",
   "metadata": {},
   "outputs": [],
   "source": [
    "stc_d[\"CAL_DT\"]=pd.to_datetime(stc_d[\"CAL_DT\"]).dt.strftime('%Y')"
   ]
  },
  {
   "cell_type": "code",
   "execution_count": 46,
   "id": "4317b8cf",
   "metadata": {},
   "outputs": [
    {
     "data": {
      "text/html": [
       "<div>\n",
       "<style scoped>\n",
       "    .dataframe tbody tr th:only-of-type {\n",
       "        vertical-align: middle;\n",
       "    }\n",
       "\n",
       "    .dataframe tbody tr th {\n",
       "        vertical-align: top;\n",
       "    }\n",
       "\n",
       "    .dataframe thead th {\n",
       "        text-align: right;\n",
       "    }\n",
       "</style>\n",
       "<table border=\"1\" class=\"dataframe\">\n",
       "  <thead>\n",
       "    <tr style=\"text-align: right;\">\n",
       "      <th></th>\n",
       "      <th>CAL_DT</th>\n",
       "      <th>MODEL_NAME</th>\n",
       "      <th>BRAND_FULL_NAME</th>\n",
       "      <th>BRAND_NAME</th>\n",
       "      <th>VENDOR_NAME</th>\n",
       "      <th>OS_NAME</th>\n",
       "      <th>DEVICE_TYPE</th>\n",
       "      <th>_2G_FLG</th>\n",
       "      <th>_3G_FLG</th>\n",
       "      <th>_4G_FLG</th>\n",
       "      <th>WIFI_FLG</th>\n",
       "      <th>BLUETOOTH_FLG</th>\n",
       "      <th>TOUCH_SCREEN_FLG</th>\n",
       "      <th>DUAL_SIM_FLG</th>\n",
       "      <th>GENDER_TYPE_CD</th>\n",
       "      <th>AGE_B</th>\n",
       "      <th>NATIONALITY_CD</th>\n",
       "      <th>NATIONALITY_NAME</th>\n",
       "      <th>SAUDI_NON_SAUDI</th>\n",
       "      <th>DEVICE_COUNT</th>\n",
       "    </tr>\n",
       "  </thead>\n",
       "  <tbody>\n",
       "    <tr>\n",
       "      <th>0</th>\n",
       "      <td>2019</td>\n",
       "      <td>One x9</td>\n",
       "      <td>HTC One x9</td>\n",
       "      <td>HTC</td>\n",
       "      <td>Google</td>\n",
       "      <td>Android</td>\n",
       "      <td>Smartphone</td>\n",
       "      <td>Y</td>\n",
       "      <td>Y</td>\n",
       "      <td>Y</td>\n",
       "      <td>Y</td>\n",
       "      <td>Y</td>\n",
       "      <td>Y</td>\n",
       "      <td>Y</td>\n",
       "      <td>Male</td>\n",
       "      <td>36-55</td>\n",
       "      <td>LKA</td>\n",
       "      <td>Sri Lanka</td>\n",
       "      <td>Non-Saudi</td>\n",
       "      <td>9</td>\n",
       "    </tr>\n",
       "    <tr>\n",
       "      <th>3</th>\n",
       "      <td>2019</td>\n",
       "      <td>C7-00</td>\n",
       "      <td>Nokia C7-00</td>\n",
       "      <td>Nokia</td>\n",
       "      <td>Nokia</td>\n",
       "      <td>Symbian</td>\n",
       "      <td>Smartphone</td>\n",
       "      <td>Y</td>\n",
       "      <td>Y</td>\n",
       "      <td>N</td>\n",
       "      <td>Y</td>\n",
       "      <td>Y</td>\n",
       "      <td>Y</td>\n",
       "      <td>N</td>\n",
       "      <td>Male</td>\n",
       "      <td>18-25</td>\n",
       "      <td>BGD</td>\n",
       "      <td>Bangladesh</td>\n",
       "      <td>Non-Saudi</td>\n",
       "      <td>2</td>\n",
       "    </tr>\n",
       "    <tr>\n",
       "      <th>5</th>\n",
       "      <td>2020</td>\n",
       "      <td>Blade V7 Lite</td>\n",
       "      <td>ZTE Blade V7 Lite</td>\n",
       "      <td>ZTE</td>\n",
       "      <td>Google</td>\n",
       "      <td>Android</td>\n",
       "      <td>Smartphone</td>\n",
       "      <td>Y</td>\n",
       "      <td>Y</td>\n",
       "      <td>Y</td>\n",
       "      <td>Y</td>\n",
       "      <td>Y</td>\n",
       "      <td>Y</td>\n",
       "      <td>Y</td>\n",
       "      <td>Female</td>\n",
       "      <td>&gt;55</td>\n",
       "      <td>IDN</td>\n",
       "      <td>Indonesia</td>\n",
       "      <td>Non-Saudi</td>\n",
       "      <td>1</td>\n",
       "    </tr>\n",
       "    <tr>\n",
       "      <th>6</th>\n",
       "      <td>2019</td>\n",
       "      <td>i6 Metal ONE</td>\n",
       "      <td>QMobile i6 Metal ONE</td>\n",
       "      <td>QMobile</td>\n",
       "      <td>Google</td>\n",
       "      <td>Android</td>\n",
       "      <td>Smartphone</td>\n",
       "      <td>Y</td>\n",
       "      <td>Y</td>\n",
       "      <td>N</td>\n",
       "      <td>Y</td>\n",
       "      <td>Y</td>\n",
       "      <td>Y</td>\n",
       "      <td>Y</td>\n",
       "      <td>Male</td>\n",
       "      <td>36-55</td>\n",
       "      <td>EGY</td>\n",
       "      <td>Egypt</td>\n",
       "      <td>Non-Saudi</td>\n",
       "      <td>1</td>\n",
       "    </tr>\n",
       "    <tr>\n",
       "      <th>8</th>\n",
       "      <td>2019</td>\n",
       "      <td>One M9</td>\n",
       "      <td>HTC One M9</td>\n",
       "      <td>HTC</td>\n",
       "      <td>Google</td>\n",
       "      <td>Android</td>\n",
       "      <td>Smartphone</td>\n",
       "      <td>Y</td>\n",
       "      <td>Y</td>\n",
       "      <td>Y</td>\n",
       "      <td>Y</td>\n",
       "      <td>Y</td>\n",
       "      <td>Y</td>\n",
       "      <td>N</td>\n",
       "      <td>Male</td>\n",
       "      <td>26-35</td>\n",
       "      <td>SYR</td>\n",
       "      <td>Syria</td>\n",
       "      <td>Non-Saudi</td>\n",
       "      <td>21</td>\n",
       "    </tr>\n",
       "  </tbody>\n",
       "</table>\n",
       "</div>"
      ],
      "text/plain": [
       "  CAL_DT     MODEL_NAME       BRAND_FULL_NAME BRAND_NAME VENDOR_NAME  OS_NAME  \\\n",
       "0   2019         One x9            HTC One x9        HTC      Google  Android   \n",
       "3   2019          C7-00           Nokia C7-00      Nokia       Nokia  Symbian   \n",
       "5   2020  Blade V7 Lite     ZTE Blade V7 Lite        ZTE      Google  Android   \n",
       "6   2019   i6 Metal ONE  QMobile i6 Metal ONE    QMobile      Google  Android   \n",
       "8   2019         One M9            HTC One M9        HTC      Google  Android   \n",
       "\n",
       "  DEVICE_TYPE _2G_FLG _3G_FLG _4G_FLG WIFI_FLG BLUETOOTH_FLG TOUCH_SCREEN_FLG  \\\n",
       "0  Smartphone       Y       Y       Y        Y             Y                Y   \n",
       "3  Smartphone       Y       Y       N        Y             Y                Y   \n",
       "5  Smartphone       Y       Y       Y        Y             Y                Y   \n",
       "6  Smartphone       Y       Y       N        Y             Y                Y   \n",
       "8  Smartphone       Y       Y       Y        Y             Y                Y   \n",
       "\n",
       "  DUAL_SIM_FLG GENDER_TYPE_CD  AGE_B NATIONALITY_CD NATIONALITY_NAME  \\\n",
       "0            Y           Male  36-55            LKA        Sri Lanka   \n",
       "3            N           Male  18-25            BGD       Bangladesh   \n",
       "5            Y         Female  >55              IDN        Indonesia   \n",
       "6            Y           Male  36-55            EGY            Egypt   \n",
       "8            N           Male  26-35            SYR            Syria   \n",
       "\n",
       "  SAUDI_NON_SAUDI DEVICE_COUNT  \n",
       "0       Non-Saudi            9  \n",
       "3       Non-Saudi            2  \n",
       "5       Non-Saudi            1  \n",
       "6       Non-Saudi            1  \n",
       "8       Non-Saudi           21  "
      ]
     },
     "execution_count": 46,
     "metadata": {},
     "output_type": "execute_result"
    }
   ],
   "source": [
    "stc_d.head()"
   ]
  },
  {
   "cell_type": "code",
   "execution_count": 47,
   "id": "f6730187",
   "metadata": {},
   "outputs": [],
   "source": [
    "stc_d.drop(columns=\"BRAND_FULL_NAME\",axis=1,inplace=True)"
   ]
  },
  {
   "cell_type": "code",
   "execution_count": 48,
   "id": "317ba90a",
   "metadata": {},
   "outputs": [],
   "source": [
    "stc_d.drop(columns=\"NATIONALITY_CD\",axis=1,inplace=True)"
   ]
  },
  {
   "cell_type": "code",
   "execution_count": 49,
   "id": "0e9a0fb0",
   "metadata": {},
   "outputs": [],
   "source": [
    "stc_d[\"CAL_DT\"]=pd.to_datetime(stc_d[\"CAL_DT\"])"
   ]
  },
  {
   "cell_type": "code",
   "execution_count": 50,
   "id": "0f8756aa",
   "metadata": {},
   "outputs": [
    {
     "name": "stdout",
     "output_type": "stream",
     "text": [
      "<class 'pandas.core.frame.DataFrame'>\n",
      "Int64Index: 714023 entries, 0 to 1048574\n",
      "Data columns (total 18 columns):\n",
      " #   Column            Non-Null Count   Dtype         \n",
      "---  ------            --------------   -----         \n",
      " 0   CAL_DT            714023 non-null  datetime64[ns]\n",
      " 1   MODEL_NAME        714023 non-null  object        \n",
      " 2   BRAND_NAME        714023 non-null  object        \n",
      " 3   VENDOR_NAME       714023 non-null  object        \n",
      " 4   OS_NAME           714023 non-null  object        \n",
      " 5   DEVICE_TYPE       714023 non-null  object        \n",
      " 6   _2G_FLG           714023 non-null  object        \n",
      " 7   _3G_FLG           714023 non-null  object        \n",
      " 8   _4G_FLG           714023 non-null  object        \n",
      " 9   WIFI_FLG          714023 non-null  object        \n",
      " 10  BLUETOOTH_FLG     714023 non-null  object        \n",
      " 11  TOUCH_SCREEN_FLG  714023 non-null  object        \n",
      " 12  DUAL_SIM_FLG      714023 non-null  object        \n",
      " 13  GENDER_TYPE_CD    714023 non-null  object        \n",
      " 14  AGE_B             714023 non-null  object        \n",
      " 15  NATIONALITY_NAME  714023 non-null  object        \n",
      " 16  SAUDI_NON_SAUDI   714023 non-null  object        \n",
      " 17  DEVICE_COUNT      714023 non-null  object        \n",
      "dtypes: datetime64[ns](1), object(17)\n",
      "memory usage: 119.6+ MB\n"
     ]
    }
   ],
   "source": [
    "stc_d.info()"
   ]
  },
  {
   "cell_type": "code",
   "execution_count": 51,
   "id": "a02a9ffd",
   "metadata": {},
   "outputs": [],
   "source": [
    "stc_d[\"DEVICE_COUNT\"]=stc_d[\"DEVICE_COUNT\"].astype(str).astype(int)"
   ]
  },
  {
   "cell_type": "code",
   "execution_count": 52,
   "id": "f3a74f67",
   "metadata": {},
   "outputs": [
    {
     "name": "stdout",
     "output_type": "stream",
     "text": [
      "<class 'pandas.core.frame.DataFrame'>\n",
      "Int64Index: 714023 entries, 0 to 1048574\n",
      "Data columns (total 18 columns):\n",
      " #   Column            Non-Null Count   Dtype         \n",
      "---  ------            --------------   -----         \n",
      " 0   CAL_DT            714023 non-null  datetime64[ns]\n",
      " 1   MODEL_NAME        714023 non-null  object        \n",
      " 2   BRAND_NAME        714023 non-null  object        \n",
      " 3   VENDOR_NAME       714023 non-null  object        \n",
      " 4   OS_NAME           714023 non-null  object        \n",
      " 5   DEVICE_TYPE       714023 non-null  object        \n",
      " 6   _2G_FLG           714023 non-null  object        \n",
      " 7   _3G_FLG           714023 non-null  object        \n",
      " 8   _4G_FLG           714023 non-null  object        \n",
      " 9   WIFI_FLG          714023 non-null  object        \n",
      " 10  BLUETOOTH_FLG     714023 non-null  object        \n",
      " 11  TOUCH_SCREEN_FLG  714023 non-null  object        \n",
      " 12  DUAL_SIM_FLG      714023 non-null  object        \n",
      " 13  GENDER_TYPE_CD    714023 non-null  object        \n",
      " 14  AGE_B             714023 non-null  object        \n",
      " 15  NATIONALITY_NAME  714023 non-null  object        \n",
      " 16  SAUDI_NON_SAUDI   714023 non-null  object        \n",
      " 17  DEVICE_COUNT      714023 non-null  int32         \n",
      "dtypes: datetime64[ns](1), int32(1), object(16)\n",
      "memory usage: 116.9+ MB\n"
     ]
    }
   ],
   "source": [
    "stc_d.info()"
   ]
  },
  {
   "cell_type": "code",
   "execution_count": 53,
   "id": "b03f5f3e",
   "metadata": {},
   "outputs": [],
   "source": [
    "le = preprocessing.LabelEncoder()\n",
    "stc_d[\"2G_FLG\"]=le.fit_transform(stc_d[\"_2G_FLG\"])\n",
    "stc_d[\"3G_FLG\"]=le.fit_transform(stc_d[\"_3G_FLG\"])\n",
    "stc_d[\"4G_FLG\"]=le.fit_transform(stc_d[\"_4G_FLG\"])\n",
    "stc_d[\"WIFI\"]=le.fit_transform(stc_d[\"WIFI_FLG\"])\n",
    "stc_d[\"BLUETOOTH\"]=le.fit_transform(stc_d[\"BLUETOOTH_FLG\"])\n",
    "stc_d[\"TOUCH_SCREEN\"]=le.fit_transform(stc_d[\"TOUCH_SCREEN_FLG\"])\n",
    "stc_d[\"DUAL_SIM\"]=le.fit_transform(stc_d[\"DUAL_SIM_FLG\"])\n",
    "stc_d[\"GENDER\"]=le.fit_transform(stc_d[\"GENDER_TYPE_CD\"])\n",
    "stc_d[\"MODEL\"]=le.fit_transform(stc_d[\"MODEL_NAME\"])\n",
    "stc_d[\"BRAND\"]=le.fit_transform(stc_d[\"BRAND_NAME\"])\n",
    "stc_d[\"VENDOR\"]=le.fit_transform(stc_d[\"VENDOR_NAME\"])\n",
    "stc_d[\"OS\"]=le.fit_transform(stc_d[\"OS_NAME\"])\n",
    "stc_d[\"DEVICE\"]=le.fit_transform(stc_d[\"DEVICE_TYPE\"])\n",
    "stc_d[\"AGE\"]=le.fit_transform(stc_d[\"AGE_B\"])\n",
    "stc_d[\"NATIONALITY\"]=le.fit_transform(stc_d[\"NATIONALITY_NAME\"])\n",
    "stc_d[\"SAUDI\"]=le.fit_transform(stc_d[\"SAUDI_NON_SAUDI\"])"
   ]
  },
  {
   "cell_type": "code",
   "execution_count": 54,
   "id": "b7f1dc9c",
   "metadata": {},
   "outputs": [
    {
     "data": {
      "text/html": [
       "<div>\n",
       "<style scoped>\n",
       "    .dataframe tbody tr th:only-of-type {\n",
       "        vertical-align: middle;\n",
       "    }\n",
       "\n",
       "    .dataframe tbody tr th {\n",
       "        vertical-align: top;\n",
       "    }\n",
       "\n",
       "    .dataframe thead th {\n",
       "        text-align: right;\n",
       "    }\n",
       "</style>\n",
       "<table border=\"1\" class=\"dataframe\">\n",
       "  <thead>\n",
       "    <tr style=\"text-align: right;\">\n",
       "      <th></th>\n",
       "      <th>CAL_DT</th>\n",
       "      <th>MODEL_NAME</th>\n",
       "      <th>BRAND_NAME</th>\n",
       "      <th>VENDOR_NAME</th>\n",
       "      <th>OS_NAME</th>\n",
       "      <th>DEVICE_TYPE</th>\n",
       "      <th>_2G_FLG</th>\n",
       "      <th>_3G_FLG</th>\n",
       "      <th>_4G_FLG</th>\n",
       "      <th>WIFI_FLG</th>\n",
       "      <th>...</th>\n",
       "      <th>DUAL_SIM</th>\n",
       "      <th>GENDER</th>\n",
       "      <th>MODEL</th>\n",
       "      <th>BRAND</th>\n",
       "      <th>VENDOR</th>\n",
       "      <th>OS</th>\n",
       "      <th>DEVICE</th>\n",
       "      <th>AGE</th>\n",
       "      <th>NATIONALITY</th>\n",
       "      <th>SAUDI</th>\n",
       "    </tr>\n",
       "  </thead>\n",
       "  <tbody>\n",
       "    <tr>\n",
       "      <th>0</th>\n",
       "      <td>2019-01-01</td>\n",
       "      <td>One x9</td>\n",
       "      <td>HTC</td>\n",
       "      <td>Google</td>\n",
       "      <td>Android</td>\n",
       "      <td>Smartphone</td>\n",
       "      <td>Y</td>\n",
       "      <td>Y</td>\n",
       "      <td>Y</td>\n",
       "      <td>Y</td>\n",
       "      <td>...</td>\n",
       "      <td>1</td>\n",
       "      <td>1</td>\n",
       "      <td>510</td>\n",
       "      <td>68</td>\n",
       "      <td>40</td>\n",
       "      <td>0</td>\n",
       "      <td>1</td>\n",
       "      <td>2</td>\n",
       "      <td>168</td>\n",
       "      <td>0</td>\n",
       "    </tr>\n",
       "    <tr>\n",
       "      <th>3</th>\n",
       "      <td>2019-01-01</td>\n",
       "      <td>C7-00</td>\n",
       "      <td>Nokia</td>\n",
       "      <td>Nokia</td>\n",
       "      <td>Symbian</td>\n",
       "      <td>Smartphone</td>\n",
       "      <td>Y</td>\n",
       "      <td>Y</td>\n",
       "      <td>N</td>\n",
       "      <td>Y</td>\n",
       "      <td>...</td>\n",
       "      <td>0</td>\n",
       "      <td>1</td>\n",
       "      <td>244</td>\n",
       "      <td>118</td>\n",
       "      <td>68</td>\n",
       "      <td>5</td>\n",
       "      <td>1</td>\n",
       "      <td>0</td>\n",
       "      <td>16</td>\n",
       "      <td>0</td>\n",
       "    </tr>\n",
       "    <tr>\n",
       "      <th>5</th>\n",
       "      <td>2020-01-01</td>\n",
       "      <td>Blade V7 Lite</td>\n",
       "      <td>ZTE</td>\n",
       "      <td>Google</td>\n",
       "      <td>Android</td>\n",
       "      <td>Smartphone</td>\n",
       "      <td>Y</td>\n",
       "      <td>Y</td>\n",
       "      <td>Y</td>\n",
       "      <td>Y</td>\n",
       "      <td>...</td>\n",
       "      <td>1</td>\n",
       "      <td>0</td>\n",
       "      <td>231</td>\n",
       "      <td>186</td>\n",
       "      <td>40</td>\n",
       "      <td>0</td>\n",
       "      <td>1</td>\n",
       "      <td>4</td>\n",
       "      <td>88</td>\n",
       "      <td>0</td>\n",
       "    </tr>\n",
       "    <tr>\n",
       "      <th>6</th>\n",
       "      <td>2019-01-01</td>\n",
       "      <td>i6 Metal ONE</td>\n",
       "      <td>QMobile</td>\n",
       "      <td>Google</td>\n",
       "      <td>Android</td>\n",
       "      <td>Smartphone</td>\n",
       "      <td>Y</td>\n",
       "      <td>Y</td>\n",
       "      <td>N</td>\n",
       "      <td>Y</td>\n",
       "      <td>...</td>\n",
       "      <td>1</td>\n",
       "      <td>1</td>\n",
       "      <td>794</td>\n",
       "      <td>133</td>\n",
       "      <td>40</td>\n",
       "      <td>0</td>\n",
       "      <td>1</td>\n",
       "      <td>2</td>\n",
       "      <td>62</td>\n",
       "      <td>0</td>\n",
       "    </tr>\n",
       "    <tr>\n",
       "      <th>8</th>\n",
       "      <td>2019-01-01</td>\n",
       "      <td>One M9</td>\n",
       "      <td>HTC</td>\n",
       "      <td>Google</td>\n",
       "      <td>Android</td>\n",
       "      <td>Smartphone</td>\n",
       "      <td>Y</td>\n",
       "      <td>Y</td>\n",
       "      <td>Y</td>\n",
       "      <td>Y</td>\n",
       "      <td>...</td>\n",
       "      <td>0</td>\n",
       "      <td>1</td>\n",
       "      <td>488</td>\n",
       "      <td>68</td>\n",
       "      <td>40</td>\n",
       "      <td>0</td>\n",
       "      <td>1</td>\n",
       "      <td>1</td>\n",
       "      <td>173</td>\n",
       "      <td>0</td>\n",
       "    </tr>\n",
       "  </tbody>\n",
       "</table>\n",
       "<p>5 rows × 34 columns</p>\n",
       "</div>"
      ],
      "text/plain": [
       "      CAL_DT     MODEL_NAME BRAND_NAME VENDOR_NAME  OS_NAME DEVICE_TYPE  \\\n",
       "0 2019-01-01         One x9        HTC      Google  Android  Smartphone   \n",
       "3 2019-01-01          C7-00      Nokia       Nokia  Symbian  Smartphone   \n",
       "5 2020-01-01  Blade V7 Lite        ZTE      Google  Android  Smartphone   \n",
       "6 2019-01-01   i6 Metal ONE    QMobile      Google  Android  Smartphone   \n",
       "8 2019-01-01         One M9        HTC      Google  Android  Smartphone   \n",
       "\n",
       "  _2G_FLG _3G_FLG _4G_FLG WIFI_FLG  ... DUAL_SIM GENDER MODEL BRAND VENDOR OS  \\\n",
       "0       Y       Y       Y        Y  ...        1      1   510    68     40  0   \n",
       "3       Y       Y       N        Y  ...        0      1   244   118     68  5   \n",
       "5       Y       Y       Y        Y  ...        1      0   231   186     40  0   \n",
       "6       Y       Y       N        Y  ...        1      1   794   133     40  0   \n",
       "8       Y       Y       Y        Y  ...        0      1   488    68     40  0   \n",
       "\n",
       "  DEVICE  AGE  NATIONALITY  SAUDI  \n",
       "0      1    2          168      0  \n",
       "3      1    0           16      0  \n",
       "5      1    4           88      0  \n",
       "6      1    2           62      0  \n",
       "8      1    1          173      0  \n",
       "\n",
       "[5 rows x 34 columns]"
      ]
     },
     "execution_count": 54,
     "metadata": {},
     "output_type": "execute_result"
    }
   ],
   "source": [
    "stc_d.head()"
   ]
  },
  {
   "cell_type": "code",
   "execution_count": 55,
   "id": "9df00e56",
   "metadata": {},
   "outputs": [],
   "source": [
    "stc_d.drop(columns=\"_3G_FLG\",axis=1,inplace=True)\n",
    "stc_d.drop(columns=\"_2G_FLG\",axis=1,inplace=True)\n",
    "stc_d.drop(columns=\"_4G_FLG\",axis=1,inplace=True)\n",
    "stc_d.drop(columns=\"WIFI_FLG\",axis=1,inplace=True)\n",
    "stc_d.drop(columns=\"MODEL_NAME\",axis=1,inplace=True)\n",
    "stc_d.drop(columns=\"OS_NAME\",axis=1,inplace=True)\n",
    "stc_d.drop(columns=\"VENDOR_NAME\",axis=1,inplace=True)\n",
    "stc_d.drop(columns=\"BRAND_NAME\",axis=1,inplace=True)\n",
    "stc_d.drop(columns=\"DEVICE_TYPE\",axis=1,inplace=True)\n",
    "stc_d.drop(columns=\"SAUDI_NON_SAUDI\",axis=1,inplace=True)\n",
    "stc_d.drop(columns=\"NATIONALITY_NAME\",axis=1,inplace=True)\n",
    "stc_d.drop(columns=\"AGE_B\",axis=1,inplace=True)\n",
    "stc_d.drop(columns=\"GENDER_TYPE_CD\",axis=1,inplace=True)\n",
    "stc_d.drop(columns=\"DUAL_SIM_FLG\",axis=1,inplace=True)\n",
    "stc_d.drop(columns=\"TOUCH_SCREEN_FLG\",axis=1,inplace=True)\n",
    "stc_d.drop(columns=\"BLUETOOTH_FLG\",axis=1,inplace=True)"
   ]
  },
  {
   "cell_type": "code",
   "execution_count": 56,
   "id": "11576a6a",
   "metadata": {},
   "outputs": [
    {
     "name": "stdout",
     "output_type": "stream",
     "text": [
      "<class 'pandas.core.frame.DataFrame'>\n",
      "Int64Index: 714023 entries, 0 to 1048574\n",
      "Data columns (total 18 columns):\n",
      " #   Column        Non-Null Count   Dtype         \n",
      "---  ------        --------------   -----         \n",
      " 0   CAL_DT        714023 non-null  datetime64[ns]\n",
      " 1   DEVICE_COUNT  714023 non-null  int32         \n",
      " 2   2G_FLG        714023 non-null  int32         \n",
      " 3   3G_FLG        714023 non-null  int32         \n",
      " 4   4G_FLG        714023 non-null  int32         \n",
      " 5   WIFI          714023 non-null  int32         \n",
      " 6   BLUETOOTH     714023 non-null  int32         \n",
      " 7   TOUCH_SCREEN  714023 non-null  int32         \n",
      " 8   DUAL_SIM      714023 non-null  int32         \n",
      " 9   GENDER        714023 non-null  int32         \n",
      " 10  MODEL         714023 non-null  int32         \n",
      " 11  BRAND         714023 non-null  int32         \n",
      " 12  VENDOR        714023 non-null  int32         \n",
      " 13  OS            714023 non-null  int32         \n",
      " 14  DEVICE        714023 non-null  int32         \n",
      " 15  AGE           714023 non-null  int32         \n",
      " 16  NATIONALITY   714023 non-null  int32         \n",
      " 17  SAUDI         714023 non-null  int32         \n",
      "dtypes: datetime64[ns](1), int32(17)\n",
      "memory usage: 73.3 MB\n"
     ]
    }
   ],
   "source": [
    "stc_d.info()"
   ]
  },
  {
   "cell_type": "code",
   "execution_count": 57,
   "id": "519871f4",
   "metadata": {},
   "outputs": [
    {
     "data": {
      "text/html": [
       "<div>\n",
       "<style scoped>\n",
       "    .dataframe tbody tr th:only-of-type {\n",
       "        vertical-align: middle;\n",
       "    }\n",
       "\n",
       "    .dataframe tbody tr th {\n",
       "        vertical-align: top;\n",
       "    }\n",
       "\n",
       "    .dataframe thead th {\n",
       "        text-align: right;\n",
       "    }\n",
       "</style>\n",
       "<table border=\"1\" class=\"dataframe\">\n",
       "  <thead>\n",
       "    <tr style=\"text-align: right;\">\n",
       "      <th></th>\n",
       "      <th>CAL_DT</th>\n",
       "      <th>DEVICE_COUNT</th>\n",
       "      <th>2G_FLG</th>\n",
       "      <th>3G_FLG</th>\n",
       "      <th>4G_FLG</th>\n",
       "      <th>WIFI</th>\n",
       "      <th>BLUETOOTH</th>\n",
       "      <th>TOUCH_SCREEN</th>\n",
       "      <th>DUAL_SIM</th>\n",
       "      <th>GENDER</th>\n",
       "      <th>MODEL</th>\n",
       "      <th>BRAND</th>\n",
       "      <th>VENDOR</th>\n",
       "      <th>OS</th>\n",
       "      <th>DEVICE</th>\n",
       "      <th>AGE</th>\n",
       "      <th>NATIONALITY</th>\n",
       "      <th>SAUDI</th>\n",
       "    </tr>\n",
       "  </thead>\n",
       "  <tbody>\n",
       "    <tr>\n",
       "      <th>0</th>\n",
       "      <td>2019-01-01</td>\n",
       "      <td>9</td>\n",
       "      <td>1</td>\n",
       "      <td>1</td>\n",
       "      <td>1</td>\n",
       "      <td>1</td>\n",
       "      <td>1</td>\n",
       "      <td>1</td>\n",
       "      <td>1</td>\n",
       "      <td>1</td>\n",
       "      <td>510</td>\n",
       "      <td>68</td>\n",
       "      <td>40</td>\n",
       "      <td>0</td>\n",
       "      <td>1</td>\n",
       "      <td>2</td>\n",
       "      <td>168</td>\n",
       "      <td>0</td>\n",
       "    </tr>\n",
       "    <tr>\n",
       "      <th>3</th>\n",
       "      <td>2019-01-01</td>\n",
       "      <td>2</td>\n",
       "      <td>1</td>\n",
       "      <td>1</td>\n",
       "      <td>0</td>\n",
       "      <td>1</td>\n",
       "      <td>1</td>\n",
       "      <td>1</td>\n",
       "      <td>0</td>\n",
       "      <td>1</td>\n",
       "      <td>244</td>\n",
       "      <td>118</td>\n",
       "      <td>68</td>\n",
       "      <td>5</td>\n",
       "      <td>1</td>\n",
       "      <td>0</td>\n",
       "      <td>16</td>\n",
       "      <td>0</td>\n",
       "    </tr>\n",
       "    <tr>\n",
       "      <th>5</th>\n",
       "      <td>2020-01-01</td>\n",
       "      <td>1</td>\n",
       "      <td>1</td>\n",
       "      <td>1</td>\n",
       "      <td>1</td>\n",
       "      <td>1</td>\n",
       "      <td>1</td>\n",
       "      <td>1</td>\n",
       "      <td>1</td>\n",
       "      <td>0</td>\n",
       "      <td>231</td>\n",
       "      <td>186</td>\n",
       "      <td>40</td>\n",
       "      <td>0</td>\n",
       "      <td>1</td>\n",
       "      <td>4</td>\n",
       "      <td>88</td>\n",
       "      <td>0</td>\n",
       "    </tr>\n",
       "    <tr>\n",
       "      <th>6</th>\n",
       "      <td>2019-01-01</td>\n",
       "      <td>1</td>\n",
       "      <td>1</td>\n",
       "      <td>1</td>\n",
       "      <td>0</td>\n",
       "      <td>1</td>\n",
       "      <td>1</td>\n",
       "      <td>1</td>\n",
       "      <td>1</td>\n",
       "      <td>1</td>\n",
       "      <td>794</td>\n",
       "      <td>133</td>\n",
       "      <td>40</td>\n",
       "      <td>0</td>\n",
       "      <td>1</td>\n",
       "      <td>2</td>\n",
       "      <td>62</td>\n",
       "      <td>0</td>\n",
       "    </tr>\n",
       "    <tr>\n",
       "      <th>8</th>\n",
       "      <td>2019-01-01</td>\n",
       "      <td>21</td>\n",
       "      <td>1</td>\n",
       "      <td>1</td>\n",
       "      <td>1</td>\n",
       "      <td>1</td>\n",
       "      <td>1</td>\n",
       "      <td>1</td>\n",
       "      <td>0</td>\n",
       "      <td>1</td>\n",
       "      <td>488</td>\n",
       "      <td>68</td>\n",
       "      <td>40</td>\n",
       "      <td>0</td>\n",
       "      <td>1</td>\n",
       "      <td>1</td>\n",
       "      <td>173</td>\n",
       "      <td>0</td>\n",
       "    </tr>\n",
       "  </tbody>\n",
       "</table>\n",
       "</div>"
      ],
      "text/plain": [
       "      CAL_DT  DEVICE_COUNT  2G_FLG  3G_FLG  4G_FLG  WIFI  BLUETOOTH  \\\n",
       "0 2019-01-01             9       1       1       1     1          1   \n",
       "3 2019-01-01             2       1       1       0     1          1   \n",
       "5 2020-01-01             1       1       1       1     1          1   \n",
       "6 2019-01-01             1       1       1       0     1          1   \n",
       "8 2019-01-01            21       1       1       1     1          1   \n",
       "\n",
       "   TOUCH_SCREEN  DUAL_SIM  GENDER  MODEL  BRAND  VENDOR  OS  DEVICE  AGE  \\\n",
       "0             1         1       1    510     68      40   0       1    2   \n",
       "3             1         0       1    244    118      68   5       1    0   \n",
       "5             1         1       0    231    186      40   0       1    4   \n",
       "6             1         1       1    794    133      40   0       1    2   \n",
       "8             1         0       1    488     68      40   0       1    1   \n",
       "\n",
       "   NATIONALITY  SAUDI  \n",
       "0          168      0  \n",
       "3           16      0  \n",
       "5           88      0  \n",
       "6           62      0  \n",
       "8          173      0  "
      ]
     },
     "execution_count": 57,
     "metadata": {},
     "output_type": "execute_result"
    }
   ],
   "source": [
    "stc_d.head()"
   ]
  },
  {
   "cell_type": "code",
   "execution_count": 58,
   "id": "fa54b390",
   "metadata": {},
   "outputs": [
    {
     "data": {
      "text/plain": [
       "1       325651\n",
       "2       106861\n",
       "3        56302\n",
       "4        35701\n",
       "5        24786\n",
       "         ...  \n",
       "1757         1\n",
       "735          1\n",
       "1247         1\n",
       "736          1\n",
       "2047         1\n",
       "Name: DEVICE_COUNT, Length: 1633, dtype: int64"
      ]
     },
     "execution_count": 58,
     "metadata": {},
     "output_type": "execute_result"
    }
   ],
   "source": [
    "stc_d['DEVICE_COUNT'].value_counts()"
   ]
  },
  {
   "cell_type": "code",
   "execution_count": 59,
   "id": "c858264a",
   "metadata": {},
   "outputs": [
    {
     "data": {
      "text/plain": [
       "array([    9,     2,     1, ..., 32685,   602, 12023])"
      ]
     },
     "execution_count": 59,
     "metadata": {},
     "output_type": "execute_result"
    }
   ],
   "source": [
    "stc_d['DEVICE_COUNT'].unique()"
   ]
  },
  {
   "cell_type": "code",
   "execution_count": 60,
   "id": "07461926",
   "metadata": {},
   "outputs": [
    {
     "data": {
      "text/plain": [
       "45792"
      ]
     },
     "execution_count": 60,
     "metadata": {},
     "output_type": "execute_result"
    }
   ],
   "source": [
    "stc_d['DEVICE_COUNT'].max()"
   ]
  },
  {
   "cell_type": "code",
   "execution_count": 61,
   "id": "99d9291c",
   "metadata": {},
   "outputs": [
    {
     "data": {
      "text/plain": [
       "-45791"
      ]
     },
     "execution_count": 61,
     "metadata": {},
     "output_type": "execute_result"
    }
   ],
   "source": [
    "(stc_d['DEVICE_COUNT'].min())-(stc_d['DEVICE_COUNT'].max())"
   ]
  },
  {
   "cell_type": "code",
   "execution_count": 62,
   "id": "479312b9",
   "metadata": {},
   "outputs": [
    {
     "data": {
      "text/plain": [
       "437.2461726883037"
      ]
     },
     "execution_count": 62,
     "metadata": {},
     "output_type": "execute_result"
    }
   ],
   "source": [
    "stc_d['DEVICE_COUNT'].value_counts().mean()"
   ]
  },
  {
   "cell_type": "code",
   "execution_count": 63,
   "id": "9ca5fc8c",
   "metadata": {},
   "outputs": [],
   "source": [
    "stc_d.drop(stc_d[stc_d['DEVICE_COUNT'] > 15000 ].index ,axis=0, inplace = True) "
   ]
  },
  {
   "cell_type": "code",
   "execution_count": 64,
   "id": "71e4e648",
   "metadata": {},
   "outputs": [],
   "source": [
    "Q1 = np.percentile(stc_d['DEVICE_COUNT'] , 25) # 1\n",
    "Q3 =np.percentile(stc_d['DEVICE_COUNT'] , 75) # 5.0\n",
    "IQR = Q3 - Q1  # 4.0\n",
    "lower = 1 - (1.5*4.0)#1\n",
    "higher = 5 + (1.5*4.0) # 5.0"
   ]
  },
  {
   "cell_type": "code",
   "execution_count": 65,
   "id": "234ed06b",
   "metadata": {},
   "outputs": [
    {
     "data": {
      "text/plain": [
       "1.0"
      ]
     },
     "execution_count": 65,
     "metadata": {},
     "output_type": "execute_result"
    }
   ],
   "source": [
    "Q1"
   ]
  },
  {
   "cell_type": "code",
   "execution_count": 66,
   "id": "83f716a6",
   "metadata": {},
   "outputs": [
    {
     "data": {
      "text/plain": [
       "5.0"
      ]
     },
     "execution_count": 66,
     "metadata": {},
     "output_type": "execute_result"
    }
   ],
   "source": [
    "Q3"
   ]
  },
  {
   "cell_type": "code",
   "execution_count": 67,
   "id": "03bed5db",
   "metadata": {},
   "outputs": [
    {
     "data": {
      "text/plain": [
       "-5.0"
      ]
     },
     "execution_count": 67,
     "metadata": {},
     "output_type": "execute_result"
    }
   ],
   "source": [
    "lower"
   ]
  },
  {
   "cell_type": "code",
   "execution_count": 68,
   "id": "b7389dd7",
   "metadata": {},
   "outputs": [
    {
     "data": {
      "text/plain": [
       "11.0"
      ]
     },
     "execution_count": 68,
     "metadata": {},
     "output_type": "execute_result"
    }
   ],
   "source": [
    "higher"
   ]
  },
  {
   "cell_type": "code",
   "execution_count": 69,
   "id": "1c67db07",
   "metadata": {},
   "outputs": [
    {
     "data": {
      "text/plain": [
       "4.0"
      ]
     },
     "execution_count": 69,
     "metadata": {},
     "output_type": "execute_result"
    }
   ],
   "source": [
    "IQR"
   ]
  },
  {
   "cell_type": "code",
   "execution_count": 70,
   "id": "35179e51",
   "metadata": {},
   "outputs": [
    {
     "data": {
      "image/png": "[encoded data removed]",
      "text/plain": [
       "<Figure size 432x288 with 1 Axes>"
      ]
     },
     "metadata": {
      "needs_background": "light"
     },
     "output_type": "display_data"
    }
   ],
   "source": [
    "plt.boxplot(stc_d[\"DEVICE_COUNT\"]);"
   ]
  },
  {
   "cell_type": "code",
   "execution_count": 71,
   "id": "89dcb2a7",
   "metadata": {},
   "outputs": [],
   "source": [
    "PERFORMANCE=pd.cut(stc_d[\"DEVICE_COUNT\"],bins=[0,10,50,100,500,1000,5000,10000,15000],\n",
    "                   labels=['Extremely poor','Poor','Below average','Acceptable','Good','Very good','Excellent','Exceptional'])\n",
    "\n",
    "stc_d['PERFORMANCE'] = PERFORMANCE"
   ]
  },
  {
   "cell_type": "code",
   "execution_count": 72,
   "id": "4f732f70",
   "metadata": {},
   "outputs": [
    {
     "data": {
      "text/plain": [
       "0          Extremely poor\n",
       "3          Extremely poor\n",
       "5          Extremely poor\n",
       "6          Extremely poor\n",
       "8                    Poor\n",
       "                ...      \n",
       "1048568    Extremely poor\n",
       "1048569    Extremely poor\n",
       "1048572              Poor\n",
       "1048573    Extremely poor\n",
       "1048574     Below average\n",
       "Name: DEVICE_COUNT, Length: 714002, dtype: category\n",
       "Categories (8, object): ['Extremely poor' < 'Poor' < 'Below average' < 'Acceptable' < 'Good' < 'Very good' < 'Excellent' < 'Exceptional']"
      ]
     },
     "execution_count": 72,
     "metadata": {},
     "output_type": "execute_result"
    }
   ],
   "source": [
    "PERFORMANCE"
   ]
  },
  {
   "cell_type": "code",
   "execution_count": 73,
   "id": "1bde0d9e",
   "metadata": {},
   "outputs": [
    {
     "data": {
      "text/html": [
       "<div>\n",
       "<style scoped>\n",
       "    .dataframe tbody tr th:only-of-type {\n",
       "        vertical-align: middle;\n",
       "    }\n",
       "\n",
       "    .dataframe tbody tr th {\n",
       "        vertical-align: top;\n",
       "    }\n",
       "\n",
       "    .dataframe thead th {\n",
       "        text-align: right;\n",
       "    }\n",
       "</style>\n",
       "<table border=\"1\" class=\"dataframe\">\n",
       "  <thead>\n",
       "    <tr style=\"text-align: right;\">\n",
       "      <th></th>\n",
       "      <th>CAL_DT</th>\n",
       "      <th>DEVICE_COUNT</th>\n",
       "      <th>2G_FLG</th>\n",
       "      <th>3G_FLG</th>\n",
       "      <th>4G_FLG</th>\n",
       "      <th>WIFI</th>\n",
       "      <th>BLUETOOTH</th>\n",
       "      <th>TOUCH_SCREEN</th>\n",
       "      <th>DUAL_SIM</th>\n",
       "      <th>GENDER</th>\n",
       "      <th>MODEL</th>\n",
       "      <th>BRAND</th>\n",
       "      <th>VENDOR</th>\n",
       "      <th>OS</th>\n",
       "      <th>DEVICE</th>\n",
       "      <th>AGE</th>\n",
       "      <th>NATIONALITY</th>\n",
       "      <th>SAUDI</th>\n",
       "      <th>PERFORMANCE</th>\n",
       "    </tr>\n",
       "  </thead>\n",
       "  <tbody>\n",
       "    <tr>\n",
       "      <th>0</th>\n",
       "      <td>2019-01-01</td>\n",
       "      <td>9</td>\n",
       "      <td>1</td>\n",
       "      <td>1</td>\n",
       "      <td>1</td>\n",
       "      <td>1</td>\n",
       "      <td>1</td>\n",
       "      <td>1</td>\n",
       "      <td>1</td>\n",
       "      <td>1</td>\n",
       "      <td>510</td>\n",
       "      <td>68</td>\n",
       "      <td>40</td>\n",
       "      <td>0</td>\n",
       "      <td>1</td>\n",
       "      <td>2</td>\n",
       "      <td>168</td>\n",
       "      <td>0</td>\n",
       "      <td>Extremely poor</td>\n",
       "    </tr>\n",
       "    <tr>\n",
       "      <th>3</th>\n",
       "      <td>2019-01-01</td>\n",
       "      <td>2</td>\n",
       "      <td>1</td>\n",
       "      <td>1</td>\n",
       "      <td>0</td>\n",
       "      <td>1</td>\n",
       "      <td>1</td>\n",
       "      <td>1</td>\n",
       "      <td>0</td>\n",
       "      <td>1</td>\n",
       "      <td>244</td>\n",
       "      <td>118</td>\n",
       "      <td>68</td>\n",
       "      <td>5</td>\n",
       "      <td>1</td>\n",
       "      <td>0</td>\n",
       "      <td>16</td>\n",
       "      <td>0</td>\n",
       "      <td>Extremely poor</td>\n",
       "    </tr>\n",
       "    <tr>\n",
       "      <th>5</th>\n",
       "      <td>2020-01-01</td>\n",
       "      <td>1</td>\n",
       "      <td>1</td>\n",
       "      <td>1</td>\n",
       "      <td>1</td>\n",
       "      <td>1</td>\n",
       "      <td>1</td>\n",
       "      <td>1</td>\n",
       "      <td>1</td>\n",
       "      <td>0</td>\n",
       "      <td>231</td>\n",
       "      <td>186</td>\n",
       "      <td>40</td>\n",
       "      <td>0</td>\n",
       "      <td>1</td>\n",
       "      <td>4</td>\n",
       "      <td>88</td>\n",
       "      <td>0</td>\n",
       "      <td>Extremely poor</td>\n",
       "    </tr>\n",
       "    <tr>\n",
       "      <th>6</th>\n",
       "      <td>2019-01-01</td>\n",
       "      <td>1</td>\n",
       "      <td>1</td>\n",
       "      <td>1</td>\n",
       "      <td>0</td>\n",
       "      <td>1</td>\n",
       "      <td>1</td>\n",
       "      <td>1</td>\n",
       "      <td>1</td>\n",
       "      <td>1</td>\n",
       "      <td>794</td>\n",
       "      <td>133</td>\n",
       "      <td>40</td>\n",
       "      <td>0</td>\n",
       "      <td>1</td>\n",
       "      <td>2</td>\n",
       "      <td>62</td>\n",
       "      <td>0</td>\n",
       "      <td>Extremely poor</td>\n",
       "    </tr>\n",
       "    <tr>\n",
       "      <th>8</th>\n",
       "      <td>2019-01-01</td>\n",
       "      <td>21</td>\n",
       "      <td>1</td>\n",
       "      <td>1</td>\n",
       "      <td>1</td>\n",
       "      <td>1</td>\n",
       "      <td>1</td>\n",
       "      <td>1</td>\n",
       "      <td>0</td>\n",
       "      <td>1</td>\n",
       "      <td>488</td>\n",
       "      <td>68</td>\n",
       "      <td>40</td>\n",
       "      <td>0</td>\n",
       "      <td>1</td>\n",
       "      <td>1</td>\n",
       "      <td>173</td>\n",
       "      <td>0</td>\n",
       "      <td>Poor</td>\n",
       "    </tr>\n",
       "  </tbody>\n",
       "</table>\n",
       "</div>"
      ],
      "text/plain": [
       "      CAL_DT  DEVICE_COUNT  2G_FLG  3G_FLG  4G_FLG  WIFI  BLUETOOTH  \\\n",
       "0 2019-01-01             9       1       1       1     1          1   \n",
       "3 2019-01-01             2       1       1       0     1          1   \n",
       "5 2020-01-01             1       1       1       1     1          1   \n",
       "6 2019-01-01             1       1       1       0     1          1   \n",
       "8 2019-01-01            21       1       1       1     1          1   \n",
       "\n",
       "   TOUCH_SCREEN  DUAL_SIM  GENDER  MODEL  BRAND  VENDOR  OS  DEVICE  AGE  \\\n",
       "0             1         1       1    510     68      40   0       1    2   \n",
       "3             1         0       1    244    118      68   5       1    0   \n",
       "5             1         1       0    231    186      40   0       1    4   \n",
       "6             1         1       1    794    133      40   0       1    2   \n",
       "8             1         0       1    488     68      40   0       1    1   \n",
       "\n",
       "   NATIONALITY  SAUDI     PERFORMANCE  \n",
       "0          168      0  Extremely poor  \n",
       "3           16      0  Extremely poor  \n",
       "5           88      0  Extremely poor  \n",
       "6           62      0  Extremely poor  \n",
       "8          173      0            Poor  "
      ]
     },
     "execution_count": 73,
     "metadata": {},
     "output_type": "execute_result"
    }
   ],
   "source": [
    "stc_d.head()"
   ]
  },
  {
   "cell_type": "code",
   "execution_count": null,
   "id": "21513c5b",
   "metadata": {},
   "outputs": [],
   "source": []
  },
  {
   "cell_type": "code",
   "execution_count": 74,
   "id": "70ad8c17",
   "metadata": {},
   "outputs": [
    {
     "data": {
      "text/html": [
       "<div>\n",
       "<style scoped>\n",
       "    .dataframe tbody tr th:only-of-type {\n",
       "        vertical-align: middle;\n",
       "    }\n",
       "\n",
       "    .dataframe tbody tr th {\n",
       "        vertical-align: top;\n",
       "    }\n",
       "\n",
       "    .dataframe thead th {\n",
       "        text-align: right;\n",
       "    }\n",
       "</style>\n",
       "<table border=\"1\" class=\"dataframe\">\n",
       "  <thead>\n",
       "    <tr style=\"text-align: right;\">\n",
       "      <th></th>\n",
       "      <th>CAL_DT</th>\n",
       "      <th>DEVICE_COUNT</th>\n",
       "      <th>2G_FLG</th>\n",
       "      <th>3G_FLG</th>\n",
       "      <th>4G_FLG</th>\n",
       "      <th>WIFI</th>\n",
       "      <th>BLUETOOTH</th>\n",
       "      <th>TOUCH_SCREEN</th>\n",
       "      <th>DUAL_SIM</th>\n",
       "      <th>GENDER</th>\n",
       "      <th>MODEL</th>\n",
       "      <th>BRAND</th>\n",
       "      <th>VENDOR</th>\n",
       "      <th>OS</th>\n",
       "      <th>DEVICE</th>\n",
       "      <th>AGE</th>\n",
       "      <th>NATIONALITY</th>\n",
       "      <th>SAUDI</th>\n",
       "      <th>PERFORMANCE</th>\n",
       "    </tr>\n",
       "  </thead>\n",
       "  <tbody>\n",
       "    <tr>\n",
       "      <th>1047194</th>\n",
       "      <td>2020-01-01</td>\n",
       "      <td>12023</td>\n",
       "      <td>1</td>\n",
       "      <td>0</td>\n",
       "      <td>0</td>\n",
       "      <td>0</td>\n",
       "      <td>0</td>\n",
       "      <td>0</td>\n",
       "      <td>1</td>\n",
       "      <td>1</td>\n",
       "      <td>8</td>\n",
       "      <td>118</td>\n",
       "      <td>68</td>\n",
       "      <td>2</td>\n",
       "      <td>0</td>\n",
       "      <td>1</td>\n",
       "      <td>157</td>\n",
       "      <td>1</td>\n",
       "      <td>Exceptional</td>\n",
       "    </tr>\n",
       "  </tbody>\n",
       "</table>\n",
       "</div>"
      ],
      "text/plain": [
       "            CAL_DT  DEVICE_COUNT  2G_FLG  3G_FLG  4G_FLG  WIFI  BLUETOOTH  \\\n",
       "1047194 2020-01-01         12023       1       0       0     0          0   \n",
       "\n",
       "         TOUCH_SCREEN  DUAL_SIM  GENDER  MODEL  BRAND  VENDOR  OS  DEVICE  \\\n",
       "1047194             0         1       1      8    118      68   2       0   \n",
       "\n",
       "         AGE  NATIONALITY  SAUDI  PERFORMANCE  \n",
       "1047194    1          157      1  Exceptional  "
      ]
     },
     "execution_count": 74,
     "metadata": {},
     "output_type": "execute_result"
    }
   ],
   "source": [
    "stc_d[stc_d[\"DEVICE_COUNT\"]==12023]"
   ]
  },
  {
   "cell_type": "code",
   "execution_count": 75,
   "id": "e64380da",
   "metadata": {},
   "outputs": [
    {
     "data": {
      "text/plain": [
       "0"
      ]
     },
     "execution_count": 75,
     "metadata": {},
     "output_type": "execute_result"
    }
   ],
   "source": [
    "stc_d['PERFORMANCE'].isnull().sum()"
   ]
  },
  {
   "cell_type": "code",
   "execution_count": 76,
   "id": "9a7776e0",
   "metadata": {},
   "outputs": [
    {
     "data": {
      "text/plain": [
       "0"
      ]
     },
     "execution_count": 76,
     "metadata": {},
     "output_type": "execute_result"
    }
   ],
   "source": [
    "stc_d['PERFORMANCE'].isna().sum()"
   ]
  },
  {
   "cell_type": "code",
   "execution_count": 77,
   "id": "ead8b2aa",
   "metadata": {},
   "outputs": [],
   "source": [
    "stc_d.drop(columns='CAL_DT',axis=1, inplace=True)"
   ]
  },
  {
   "cell_type": "markdown",
   "id": "b04df931",
   "metadata": {},
   "source": [
    "# Classification Model"
   ]
  },
  {
   "cell_type": "markdown",
   "id": "f4c2c19f",
   "metadata": {},
   "source": [
    "## Logistic Regression"
   ]
  },
  {
   "cell_type": "code",
   "execution_count": 78,
   "id": "75f53f20",
   "metadata": {},
   "outputs": [],
   "source": [
    "training, test = train_test_split(\n",
    "    stc_d, \n",
    "    train_size=0.8, # 80% of data to train\n",
    "    test_size=0.2, # 20% of data to test\n",
    "    random_state=42 # so that regardless of how many times I run the code I will have the \"exact\" points\n",
    ")"
   ]
  },
  {
   "cell_type": "code",
   "execution_count": 79,
   "id": "95f8bdc8",
   "metadata": {},
   "outputs": [],
   "source": [
    "target='PERFORMANCE'\n",
    "X_train = training.drop(columns=stc_d[[\"PERFORMANCE\", \"DEVICE_COUNT\"]], axis=1)\n",
    "y_train = training[target]\n",
    "\n",
    "X_test = test.drop(columns=stc_d[[\"PERFORMANCE\", \"DEVICE_COUNT\"]], axis=1)\n",
    "y_test = test[target]"
   ]
  },
  {
   "cell_type": "code",
   "execution_count": 80,
   "id": "84f61584",
   "metadata": {},
   "outputs": [
    {
     "name": "stderr",
     "output_type": "stream",
     "text": [
      "C:\\Users\\DELL\\anaconda3\\lib\\site-packages\\sklearn\\linear_model\\_logistic.py:763: ConvergenceWarning: lbfgs failed to converge (status=1):\n",
      "STOP: TOTAL NO. of ITERATIONS REACHED LIMIT.\n",
      "\n",
      "Increase the number of iterations (max_iter) or scale the data as shown in:\n",
      "    https://scikit-learn.org/stable/modules/preprocessing.html\n",
      "Please also refer to the documentation for alternative solver options:\n",
      "    https://scikit-learn.org/stable/modules/linear_model.html#logistic-regression\n",
      "  n_iter_i = _check_optimize_result(\n"
     ]
    },
    {
     "data": {
      "text/plain": [
       "LogisticRegression(random_state=0)"
      ]
     },
     "execution_count": 80,
     "metadata": {},
     "output_type": "execute_result"
    }
   ],
   "source": [
    "classifier = LogisticRegression(random_state = 0)\n",
    "\n",
    "classifier.fit(X_train, y_train)"
   ]
  },
  {
   "cell_type": "code",
   "execution_count": 81,
   "id": "0a4c8b2a",
   "metadata": {},
   "outputs": [],
   "source": [
    "y_pred = classifier.predict(X_test)"
   ]
  },
  {
   "cell_type": "code",
   "execution_count": 82,
   "id": "1af6ef33",
   "metadata": {},
   "outputs": [
    {
     "data": {
      "text/html": [
       "<div>\n",
       "<style scoped>\n",
       "    .dataframe tbody tr th:only-of-type {\n",
       "        vertical-align: middle;\n",
       "    }\n",
       "\n",
       "    .dataframe tbody tr th {\n",
       "        vertical-align: top;\n",
       "    }\n",
       "\n",
       "    .dataframe thead th {\n",
       "        text-align: right;\n",
       "    }\n",
       "</style>\n",
       "<table border=\"1\" class=\"dataframe\">\n",
       "  <thead>\n",
       "    <tr style=\"text-align: right;\">\n",
       "      <th></th>\n",
       "      <th>DEVICE_COUNT</th>\n",
       "      <th>Actual</th>\n",
       "      <th>Predict</th>\n",
       "    </tr>\n",
       "  </thead>\n",
       "  <tbody>\n",
       "    <tr>\n",
       "      <th>43186</th>\n",
       "      <td>NaN</td>\n",
       "      <td>Extremely poor</td>\n",
       "      <td>Extremely poor</td>\n",
       "    </tr>\n",
       "    <tr>\n",
       "      <th>879529</th>\n",
       "      <td>NaN</td>\n",
       "      <td>Extremely poor</td>\n",
       "      <td>Extremely poor</td>\n",
       "    </tr>\n",
       "    <tr>\n",
       "      <th>852964</th>\n",
       "      <td>NaN</td>\n",
       "      <td>Extremely poor</td>\n",
       "      <td>Extremely poor</td>\n",
       "    </tr>\n",
       "    <tr>\n",
       "      <th>423568</th>\n",
       "      <td>NaN</td>\n",
       "      <td>Poor</td>\n",
       "      <td>Extremely poor</td>\n",
       "    </tr>\n",
       "    <tr>\n",
       "      <th>387874</th>\n",
       "      <td>NaN</td>\n",
       "      <td>Extremely poor</td>\n",
       "      <td>Extremely poor</td>\n",
       "    </tr>\n",
       "    <tr>\n",
       "      <th>...</th>\n",
       "      <td>...</td>\n",
       "      <td>...</td>\n",
       "      <td>...</td>\n",
       "    </tr>\n",
       "    <tr>\n",
       "      <th>400469</th>\n",
       "      <td>NaN</td>\n",
       "      <td>Extremely poor</td>\n",
       "      <td>Extremely poor</td>\n",
       "    </tr>\n",
       "    <tr>\n",
       "      <th>355565</th>\n",
       "      <td>NaN</td>\n",
       "      <td>Extremely poor</td>\n",
       "      <td>Extremely poor</td>\n",
       "    </tr>\n",
       "    <tr>\n",
       "      <th>1005471</th>\n",
       "      <td>NaN</td>\n",
       "      <td>Extremely poor</td>\n",
       "      <td>Extremely poor</td>\n",
       "    </tr>\n",
       "    <tr>\n",
       "      <th>449718</th>\n",
       "      <td>NaN</td>\n",
       "      <td>Extremely poor</td>\n",
       "      <td>Extremely poor</td>\n",
       "    </tr>\n",
       "    <tr>\n",
       "      <th>229859</th>\n",
       "      <td>NaN</td>\n",
       "      <td>Extremely poor</td>\n",
       "      <td>Extremely poor</td>\n",
       "    </tr>\n",
       "  </tbody>\n",
       "</table>\n",
       "<p>142801 rows × 3 columns</p>\n",
       "</div>"
      ],
      "text/plain": [
       "         DEVICE_COUNT          Actual         Predict\n",
       "43186             NaN  Extremely poor  Extremely poor\n",
       "879529            NaN  Extremely poor  Extremely poor\n",
       "852964            NaN  Extremely poor  Extremely poor\n",
       "423568            NaN            Poor  Extremely poor\n",
       "387874            NaN  Extremely poor  Extremely poor\n",
       "...               ...             ...             ...\n",
       "400469            NaN  Extremely poor  Extremely poor\n",
       "355565            NaN  Extremely poor  Extremely poor\n",
       "1005471           NaN  Extremely poor  Extremely poor\n",
       "449718            NaN  Extremely poor  Extremely poor\n",
       "229859            NaN  Extremely poor  Extremely poor\n",
       "\n",
       "[142801 rows x 3 columns]"
      ]
     },
     "execution_count": 82,
     "metadata": {},
     "output_type": "execute_result"
    }
   ],
   "source": [
    "test_dataset = pd.DataFrame(X_test, columns= ['DEVICE_COUNT'])\n",
    "\n",
    "test_dataset['Actual'] = y_test.to_numpy()\n",
    "test_dataset['Predict'] = y_pred\n",
    "\n",
    "test_dataset"
   ]
  },
  {
   "cell_type": "code",
   "execution_count": 83,
   "id": "52c69240",
   "metadata": {},
   "outputs": [
    {
     "data": {
      "text/plain": [
       "True     122538\n",
       "False     20263\n",
       "dtype: int64"
      ]
     },
     "execution_count": 83,
     "metadata": {},
     "output_type": "execute_result"
    }
   ],
   "source": [
    "(test_dataset['Actual'] == test_dataset['Predict']).value_counts()"
   ]
  },
  {
   "cell_type": "code",
   "execution_count": 84,
   "id": "d5fede36",
   "metadata": {},
   "outputs": [
    {
     "data": {
      "text/plain": [
       "0.8581032345711864"
      ]
     },
     "execution_count": 84,
     "metadata": {},
     "output_type": "execute_result"
    }
   ],
   "source": [
    "accuracy_score(test_dataset['Actual'],test_dataset['Predict'],normalize=True)"
   ]
  },
  {
   "cell_type": "code",
   "execution_count": 85,
   "id": "ad8d7cc5",
   "metadata": {},
   "outputs": [
    {
     "data": {
      "text/plain": [
       "array([[     0,      0,      0,      0,   2077,      0,      0,      0],\n",
       "       [     0,      0,      0,      0,   2645,      0,      0,      0],\n",
       "       [     0,      0,      0,      0,     15,      0,      0,      0],\n",
       "       [     0,      0,      0,      0,      5,      0,      0,      0],\n",
       "       [     0,      0,      0,      0, 122538,      0,      0,      0],\n",
       "       [     0,      0,      0,      0,    193,      0,      0,      0],\n",
       "       [     0,      0,      0,      0,  15195,      0,      0,      0],\n",
       "       [     0,      0,      0,      0,    133,      0,      0,      0]],\n",
       "      dtype=int64)"
      ]
     },
     "execution_count": 85,
     "metadata": {},
     "output_type": "execute_result"
    }
   ],
   "source": [
    "cm = confusion_matrix(y_test, y_pred)\n",
    "cm"
   ]
  },
  {
   "cell_type": "code",
   "execution_count": 86,
   "id": "7330588d",
   "metadata": {},
   "outputs": [
    {
     "name": "stderr",
     "output_type": "stream",
     "text": [
      "C:\\Users\\DELL\\anaconda3\\lib\\site-packages\\sklearn\\metrics\\_classification.py:1245: UndefinedMetricWarning: Precision and F-score are ill-defined and being set to 0.0 in labels with no predicted samples. Use `zero_division` parameter to control this behavior.\n",
      "  _warn_prf(average, modifier, msg_start, len(result))\n",
      "C:\\Users\\DELL\\anaconda3\\lib\\site-packages\\sklearn\\metrics\\_classification.py:1245: UndefinedMetricWarning: Precision and F-score are ill-defined and being set to 0.0 in labels with no predicted samples. Use `zero_division` parameter to control this behavior.\n",
      "  _warn_prf(average, modifier, msg_start, len(result))\n"
     ]
    },
    {
     "name": "stdout",
     "output_type": "stream",
     "text": [
      "                precision    recall  f1-score   support\n",
      "\n",
      "    Acceptable       0.00      0.00      0.00      2077\n",
      " Below average       0.00      0.00      0.00      2645\n",
      "     Excellent       0.00      0.00      0.00        15\n",
      "   Exceptional       0.00      0.00      0.00         5\n",
      "Extremely poor       0.86      1.00      0.92    122538\n",
      "          Good       0.00      0.00      0.00       193\n",
      "          Poor       0.00      0.00      0.00     15195\n",
      "     Very good       0.00      0.00      0.00       133\n",
      "\n",
      "      accuracy                           0.86    142801\n",
      "     macro avg       0.11      0.12      0.12    142801\n",
      "  weighted avg       0.74      0.86      0.79    142801\n",
      "\n"
     ]
    },
    {
     "name": "stderr",
     "output_type": "stream",
     "text": [
      "C:\\Users\\DELL\\anaconda3\\lib\\site-packages\\sklearn\\metrics\\_classification.py:1245: UndefinedMetricWarning: Precision and F-score are ill-defined and being set to 0.0 in labels with no predicted samples. Use `zero_division` parameter to control this behavior.\n",
      "  _warn_prf(average, modifier, msg_start, len(result))\n"
     ]
    }
   ],
   "source": [
    "#\n",
    "print(classification_report(y_test, y_pred))"
   ]
  },
  {
   "cell_type": "markdown",
   "id": "5d9444d5",
   "metadata": {},
   "source": [
    "### Tunning the model:"
   ]
  },
  {
   "cell_type": "code",
   "execution_count": 88,
   "id": "b64cae3c",
   "metadata": {},
   "outputs": [],
   "source": [
    "# Instantiate Standard Scaler\n",
    "scaler = StandardScaler()\n",
    "# Fit & transform data.\n",
    "scaled_df = scaler.fit_transform(X_train)"
   ]
  },
  {
   "cell_type": "code",
   "execution_count": 89,
   "id": "0b00b9d0",
   "metadata": {},
   "outputs": [
    {
     "data": {
      "text/plain": [
       "PCA()"
      ]
     },
     "execution_count": 89,
     "metadata": {},
     "output_type": "execute_result"
    }
   ],
   "source": [
    "# Instantiate & fit data using PCA\n",
    "pca = PCA()\n",
    "pca.fit(scaled_df)"
   ]
  },
  {
   "cell_type": "code",
   "execution_count": 90,
   "id": "3f1f2af5",
   "metadata": {},
   "outputs": [
    {
     "name": "stderr",
     "output_type": "stream",
     "text": [
      "C:\\Users\\DELL\\anaconda3\\lib\\site-packages\\sklearn\\linear_model\\_logistic.py:763: ConvergenceWarning: lbfgs failed to converge (status=1):\n",
      "STOP: TOTAL NO. of ITERATIONS REACHED LIMIT.\n",
      "\n",
      "Increase the number of iterations (max_iter) or scale the data as shown in:\n",
      "    https://scikit-learn.org/stable/modules/preprocessing.html\n",
      "Please also refer to the documentation for alternative solver options:\n",
      "    https://scikit-learn.org/stable/modules/linear_model.html#logistic-regression\n",
      "  n_iter_i = _check_optimize_result(\n"
     ]
    },
    {
     "data": {
      "text/plain": [
       "0.8581032345711864"
      ]
     },
     "execution_count": 90,
     "metadata": {},
     "output_type": "execute_result"
    }
   ],
   "source": [
    "pipe = make_pipeline(\n",
    "    PCA(n_components=5),\n",
    "    classifier\n",
    ")\n",
    "\n",
    "pipe.fit(X_train, y_train)\n",
    "pipe.score(X_test, y_test)"
   ]
  },
  {
   "cell_type": "code",
   "execution_count": 91,
   "id": "64f6a4b0",
   "metadata": {},
   "outputs": [
    {
     "name": "stderr",
     "output_type": "stream",
     "text": [
      "C:\\Users\\DELL\\anaconda3\\lib\\site-packages\\sklearn\\metrics\\_classification.py:1245: UndefinedMetricWarning: Precision and F-score are ill-defined and being set to 0.0 in labels with no predicted samples. Use `zero_division` parameter to control this behavior.\n",
      "  _warn_prf(average, modifier, msg_start, len(result))\n",
      "C:\\Users\\DELL\\anaconda3\\lib\\site-packages\\sklearn\\metrics\\_classification.py:1245: UndefinedMetricWarning: Precision and F-score are ill-defined and being set to 0.0 in labels with no predicted samples. Use `zero_division` parameter to control this behavior.\n",
      "  _warn_prf(average, modifier, msg_start, len(result))\n"
     ]
    },
    {
     "name": "stdout",
     "output_type": "stream",
     "text": [
      "                precision    recall  f1-score   support\n",
      "\n",
      "    Acceptable       0.00      0.00      0.00      2077\n",
      " Below average       0.00      0.00      0.00      2645\n",
      "     Excellent       0.00      0.00      0.00        15\n",
      "   Exceptional       0.00      0.00      0.00         5\n",
      "Extremely poor       0.86      1.00      0.92    122538\n",
      "          Good       0.00      0.00      0.00       193\n",
      "          Poor       0.00      0.00      0.00     15195\n",
      "     Very good       0.00      0.00      0.00       133\n",
      "\n",
      "      accuracy                           0.86    142801\n",
      "     macro avg       0.11      0.12      0.12    142801\n",
      "  weighted avg       0.74      0.86      0.79    142801\n",
      "\n"
     ]
    },
    {
     "name": "stderr",
     "output_type": "stream",
     "text": [
      "C:\\Users\\DELL\\anaconda3\\lib\\site-packages\\sklearn\\metrics\\_classification.py:1245: UndefinedMetricWarning: Precision and F-score are ill-defined and being set to 0.0 in labels with no predicted samples. Use `zero_division` parameter to control this behavior.\n",
      "  _warn_prf(average, modifier, msg_start, len(result))\n"
     ]
    }
   ],
   "source": [
    "pred = pipe.predict(X_test)\n",
    "print(classification_report(y_test, pred))"
   ]
  },
  {
   "cell_type": "markdown",
   "id": "79881de4",
   "metadata": {},
   "source": [
    "## Random Forest Classifier"
   ]
  },
  {
   "cell_type": "code",
   "execution_count": 92,
   "id": "b72b6248",
   "metadata": {},
   "outputs": [],
   "source": [
    "rfc = RandomForestClassifier(n_estimators=10,random_state=0)"
   ]
  },
  {
   "cell_type": "code",
   "execution_count": 93,
   "id": "2efc6ffe",
   "metadata": {},
   "outputs": [
    {
     "data": {
      "text/plain": [
       "RandomForestClassifier(n_estimators=10, random_state=0)"
      ]
     },
     "execution_count": 93,
     "metadata": {},
     "output_type": "execute_result"
    }
   ],
   "source": [
    "rfc.fit(X_train,y_train)"
   ]
  },
  {
   "cell_type": "code",
   "execution_count": 94,
   "id": "5d99d0a3",
   "metadata": {},
   "outputs": [],
   "source": [
    "rfc_pred = rfc.predict(X_test)"
   ]
  },
  {
   "cell_type": "code",
   "execution_count": 95,
   "id": "5e248bfa",
   "metadata": {},
   "outputs": [
    {
     "name": "stdout",
     "output_type": "stream",
     "text": [
      "                precision    recall  f1-score   support\n",
      "\n",
      "    Acceptable       0.75      0.82      0.79      2077\n",
      " Below average       0.67      0.69      0.68      2645\n",
      "     Excellent       0.47      0.60      0.53        15\n",
      "   Exceptional       1.00      0.40      0.57         5\n",
      "Extremely poor       0.98      0.98      0.98    122538\n",
      "          Good       0.64      0.63      0.64       193\n",
      "          Poor       0.81      0.81      0.81     15195\n",
      "     Very good       0.69      0.68      0.69       133\n",
      "\n",
      "      accuracy                           0.95    142801\n",
      "     macro avg       0.75      0.70      0.71    142801\n",
      "  weighted avg       0.95      0.95      0.95    142801\n",
      "\n"
     ]
    }
   ],
   "source": [
    "print(classification_report(y_test, rfc_pred))"
   ]
  },
  {
   "cell_type": "markdown",
   "id": "88f0d7a4",
   "metadata": {},
   "source": [
    "### Tunning the model:"
   ]
  },
  {
   "cell_type": "code",
   "execution_count": 96,
   "id": "57cd9fae",
   "metadata": {},
   "outputs": [
    {
     "name": "stdout",
     "output_type": "stream",
     "text": [
      "Fitting 5 folds for each of 18 candidates, totalling 90 fits\n"
     ]
    },
    {
     "data": {
      "text/plain": [
       "GridSearchCV(cv=5,\n",
       "             estimator=RandomForestClassifier(n_estimators=10, random_state=0),\n",
       "             n_jobs=-1,\n",
       "             param_grid={'criterion': ['gini', 'entropy'],\n",
       "                         'max_depth': [2, 4, 6], 'n_estimators': [10, 15, 20]},\n",
       "             verbose=1)"
      ]
     },
     "execution_count": 96,
     "metadata": {},
     "output_type": "execute_result"
    }
   ],
   "source": [
    "# Classification\n",
    "param_grid = {\n",
    "    \"n_estimators\": [10,15,20], \n",
    "    \"criterion\": [\"gini\", \"entropy\"], \n",
    "    \"max_depth\": [2,4,6] \n",
    "}\n",
    "grid = GridSearchCV(\n",
    "    rfc,\n",
    "    param_grid,\n",
    "    cv = 5,\n",
    "    n_jobs=-1,\n",
    "    verbose=1\n",
    ")\n",
    "grid.fit(X_train, y_train)"
   ]
  },
  {
   "cell_type": "code",
   "execution_count": 97,
   "id": "d12d425f",
   "metadata": {},
   "outputs": [
    {
     "data": {
      "text/plain": [
       "0.8575895350305809"
      ]
     },
     "execution_count": 97,
     "metadata": {},
     "output_type": "execute_result"
    }
   ],
   "source": [
    "grid.best_score_"
   ]
  },
  {
   "cell_type": "code",
   "execution_count": 98,
   "id": "d7e19eb8",
   "metadata": {},
   "outputs": [
    {
     "data": {
      "text/plain": [
       "{'criterion': 'gini', 'max_depth': 2, 'n_estimators': 10}"
      ]
     },
     "execution_count": 98,
     "metadata": {},
     "output_type": "execute_result"
    }
   ],
   "source": [
    "grid.best_params_"
   ]
  },
  {
   "cell_type": "code",
   "execution_count": 99,
   "id": "648f6fb8",
   "metadata": {},
   "outputs": [],
   "source": [
    "grid_pred = grid.predict(X_test)"
   ]
  },
  {
   "cell_type": "code",
   "execution_count": 100,
   "id": "0fa6452d",
   "metadata": {},
   "outputs": [
    {
     "name": "stderr",
     "output_type": "stream",
     "text": [
      "C:\\Users\\DELL\\anaconda3\\lib\\site-packages\\sklearn\\metrics\\_classification.py:1245: UndefinedMetricWarning: Precision and F-score are ill-defined and being set to 0.0 in labels with no predicted samples. Use `zero_division` parameter to control this behavior.\n",
      "  _warn_prf(average, modifier, msg_start, len(result))\n",
      "C:\\Users\\DELL\\anaconda3\\lib\\site-packages\\sklearn\\metrics\\_classification.py:1245: UndefinedMetricWarning: Precision and F-score are ill-defined and being set to 0.0 in labels with no predicted samples. Use `zero_division` parameter to control this behavior.\n",
      "  _warn_prf(average, modifier, msg_start, len(result))\n"
     ]
    },
    {
     "name": "stdout",
     "output_type": "stream",
     "text": [
      "                precision    recall  f1-score   support\n",
      "\n",
      "    Acceptable       0.00      0.00      0.00      2077\n",
      " Below average       0.00      0.00      0.00      2645\n",
      "     Excellent       0.00      0.00      0.00        15\n",
      "   Exceptional       0.00      0.00      0.00         5\n",
      "Extremely poor       0.86      1.00      0.92    122538\n",
      "          Good       0.00      0.00      0.00       193\n",
      "          Poor       0.00      0.00      0.00     15195\n",
      "     Very good       0.00      0.00      0.00       133\n",
      "\n",
      "      accuracy                           0.86    142801\n",
      "     macro avg       0.11      0.12      0.12    142801\n",
      "  weighted avg       0.74      0.86      0.79    142801\n",
      "\n"
     ]
    },
    {
     "name": "stderr",
     "output_type": "stream",
     "text": [
      "C:\\Users\\DELL\\anaconda3\\lib\\site-packages\\sklearn\\metrics\\_classification.py:1245: UndefinedMetricWarning: Precision and F-score are ill-defined and being set to 0.0 in labels with no predicted samples. Use `zero_division` parameter to control this behavior.\n",
      "  _warn_prf(average, modifier, msg_start, len(result))\n"
     ]
    }
   ],
   "source": [
    "print(classification_report(y_test, grid_pred))"
   ]
  },
  {
   "cell_type": "markdown",
   "id": "4caf97a4",
   "metadata": {},
   "source": [
    "## Decision tree model:"
   ]
  },
  {
   "cell_type": "code",
   "execution_count": 103,
   "id": "d1fe6d34",
   "metadata": {},
   "outputs": [],
   "source": [
    "# Model Using Entropy\n",
    "#dtc = Decision Tree Classifier\n",
    "dtc = DecisionTreeClassifier(criterion='entropy', max_depth=6)## Set max depth to 6\n",
    "\n",
    "# fit the model\n",
    "\n",
    "dtc.fit(X_train, y_train)\n",
    "dtc_pred = dtc.predict(X_test)"
   ]
  },
  {
   "cell_type": "code",
   "execution_count": 104,
   "id": "0a9ee28c",
   "metadata": {},
   "outputs": [
    {
     "name": "stderr",
     "output_type": "stream",
     "text": [
      "C:\\Users\\DELL\\anaconda3\\lib\\site-packages\\sklearn\\metrics\\_classification.py:1245: UndefinedMetricWarning: Precision and F-score are ill-defined and being set to 0.0 in labels with no predicted samples. Use `zero_division` parameter to control this behavior.\n",
      "  _warn_prf(average, modifier, msg_start, len(result))\n",
      "C:\\Users\\DELL\\anaconda3\\lib\\site-packages\\sklearn\\metrics\\_classification.py:1245: UndefinedMetricWarning: Precision and F-score are ill-defined and being set to 0.0 in labels with no predicted samples. Use `zero_division` parameter to control this behavior.\n",
      "  _warn_prf(average, modifier, msg_start, len(result))\n"
     ]
    },
    {
     "name": "stdout",
     "output_type": "stream",
     "text": [
      "                precision    recall  f1-score   support\n",
      "\n",
      "    Acceptable       0.13      0.00      0.01      2077\n",
      " Below average       0.12      0.00      0.00      2645\n",
      "     Excellent       0.00      0.00      0.00        15\n",
      "   Exceptional       0.00      0.00      0.00         5\n",
      "Extremely poor       0.86      1.00      0.92    122538\n",
      "          Good       0.00      0.00      0.00       193\n",
      "          Poor       0.33      0.00      0.01     15195\n",
      "     Very good       0.25      0.01      0.01       133\n",
      "\n",
      "      accuracy                           0.86    142801\n",
      "     macro avg       0.21      0.13      0.12    142801\n",
      "  weighted avg       0.78      0.86      0.79    142801\n",
      "\n"
     ]
    },
    {
     "name": "stderr",
     "output_type": "stream",
     "text": [
      "C:\\Users\\DELL\\anaconda3\\lib\\site-packages\\sklearn\\metrics\\_classification.py:1245: UndefinedMetricWarning: Precision and F-score are ill-defined and being set to 0.0 in labels with no predicted samples. Use `zero_division` parameter to control this behavior.\n",
      "  _warn_prf(average, modifier, msg_start, len(result))\n"
     ]
    }
   ],
   "source": [
    "print(classification_report(y_test, dtc_pred))"
   ]
  },
  {
   "cell_type": "markdown",
   "id": "a7197ca0",
   "metadata": {},
   "source": [
    "### Tunning the model:"
   ]
  },
  {
   "cell_type": "code",
   "execution_count": 106,
   "id": "43fd11a9",
   "metadata": {},
   "outputs": [
    {
     "name": "stdout",
     "output_type": "stream",
     "text": [
      "Fitting 5 folds for each of 6 candidates, totalling 30 fits\n"
     ]
    },
    {
     "data": {
      "text/plain": [
       "GridSearchCV(cv=5,\n",
       "             estimator=DecisionTreeClassifier(criterion='entropy', max_depth=6),\n",
       "             n_jobs=-1,\n",
       "             param_grid={'criterion': ['gini', 'entropy'],\n",
       "                         'max_depth': [2, 4, 6]},\n",
       "             verbose=1)"
      ]
     },
     "execution_count": 106,
     "metadata": {},
     "output_type": "execute_result"
    }
   ],
   "source": [
    "# Classification\n",
    "param_grid = {\n",
    "    \"criterion\": [\"gini\", \"entropy\"], \n",
    "    \"max_depth\": [2,4,6]\n",
    "}\n",
    "griddtc = GridSearchCV(\n",
    "    dtc,\n",
    "    param_grid,\n",
    "    cv = 5,\n",
    "    n_jobs=-1,\n",
    "    verbose=1\n",
    ")\n",
    "\n",
    "griddtc.fit(X_train, y_train)"
   ]
  },
  {
   "cell_type": "code",
   "execution_count": 107,
   "id": "48ca4b74",
   "metadata": {},
   "outputs": [
    {
     "data": {
      "text/plain": [
       "0.8577786101551201"
      ]
     },
     "execution_count": 107,
     "metadata": {},
     "output_type": "execute_result"
    }
   ],
   "source": [
    "griddtc.best_score_"
   ]
  },
  {
   "cell_type": "code",
   "execution_count": 108,
   "id": "55a42e30",
   "metadata": {},
   "outputs": [
    {
     "data": {
      "text/plain": [
       "{'criterion': 'gini', 'max_depth': 6}"
      ]
     },
     "execution_count": 108,
     "metadata": {},
     "output_type": "execute_result"
    }
   ],
   "source": [
    "# Note: we only choose one possibility --> the one happens first \n",
    "griddtc.best_params_"
   ]
  },
  {
   "cell_type": "code",
   "execution_count": 109,
   "id": "5b1669a5",
   "metadata": {},
   "outputs": [],
   "source": [
    "griddtc_pred=griddtc.predict(X_test)"
   ]
  },
  {
   "cell_type": "code",
   "execution_count": 110,
   "id": "1ed9a9ef",
   "metadata": {},
   "outputs": [
    {
     "name": "stderr",
     "output_type": "stream",
     "text": [
      "C:\\Users\\DELL\\anaconda3\\lib\\site-packages\\sklearn\\metrics\\_classification.py:1245: UndefinedMetricWarning: Precision and F-score are ill-defined and being set to 0.0 in labels with no predicted samples. Use `zero_division` parameter to control this behavior.\n",
      "  _warn_prf(average, modifier, msg_start, len(result))\n",
      "C:\\Users\\DELL\\anaconda3\\lib\\site-packages\\sklearn\\metrics\\_classification.py:1245: UndefinedMetricWarning: Precision and F-score are ill-defined and being set to 0.0 in labels with no predicted samples. Use `zero_division` parameter to control this behavior.\n",
      "  _warn_prf(average, modifier, msg_start, len(result))\n"
     ]
    },
    {
     "name": "stdout",
     "output_type": "stream",
     "text": [
      "                precision    recall  f1-score   support\n",
      "\n",
      "    Acceptable       0.00      0.00      0.00      2077\n",
      " Below average       0.50      0.00      0.00      2645\n",
      "     Excellent       0.00      0.00      0.00        15\n",
      "   Exceptional       0.00      0.00      0.00         5\n",
      "Extremely poor       0.86      1.00      0.92    122538\n",
      "          Good       0.00      0.00      0.00       193\n",
      "          Poor       0.32      0.01      0.02     15195\n",
      "     Very good       0.20      0.01      0.01       133\n",
      "\n",
      "      accuracy                           0.86    142801\n",
      "     macro avg       0.23      0.13      0.12    142801\n",
      "  weighted avg       0.78      0.86      0.79    142801\n",
      "\n"
     ]
    },
    {
     "name": "stderr",
     "output_type": "stream",
     "text": [
      "C:\\Users\\DELL\\anaconda3\\lib\\site-packages\\sklearn\\metrics\\_classification.py:1245: UndefinedMetricWarning: Precision and F-score are ill-defined and being set to 0.0 in labels with no predicted samples. Use `zero_division` parameter to control this behavior.\n",
      "  _warn_prf(average, modifier, msg_start, len(result))\n"
     ]
    }
   ],
   "source": [
    "print(classification_report(y_test, griddtc_pred))"
   ]
  },
  {
   "cell_type": "markdown",
   "id": "a856152b",
   "metadata": {},
   "source": [
    "## XGBoost model:"
   ]
  },
  {
   "cell_type": "code",
   "execution_count": 113,
   "id": "2766b85e",
   "metadata": {},
   "outputs": [
    {
     "name": "stderr",
     "output_type": "stream",
     "text": [
      "C:\\Users\\DELL\\anaconda3\\lib\\site-packages\\xgboost\\sklearn.py:1224: UserWarning: The use of label encoder in XGBClassifier is deprecated and will be removed in a future release. To remove this warning, do the following: 1) Pass option use_label_encoder=False when constructing XGBClassifier object; and 2) Encode your labels (y) as integers starting with 0, i.e. 0, 1, 2, ..., [num_class - 1].\n",
      "  warnings.warn(label_encoder_deprecation_msg, UserWarning)\n"
     ]
    },
    {
     "name": "stdout",
     "output_type": "stream",
     "text": [
      "[12:37:12] WARNING: C:\\Windows\\Temp\\abs_557yfx631l\\croots\\recipe\\xgboost-split_1659548953302\\work\\src\\learner.cc:1115: Starting in XGBoost 1.3.0, the default evaluation metric used with the objective 'multi:softprob' was changed from 'merror' to 'mlogloss'. Explicitly set eval_metric if you'd like to restore the old behavior.\n"
     ]
    },
    {
     "data": {
      "text/plain": [
       "XGBClassifier(base_score=0.5, booster='gbtree', colsample_bylevel=1,\n",
       "              colsample_bynode=1, colsample_bytree=1, enable_categorical=False,\n",
       "              gamma=0, gpu_id=-1, importance_type=None,\n",
       "              interaction_constraints='', learning_rate=0.300000012,\n",
       "              max_delta_step=0, max_depth=6, min_child_weight=1, missing=nan,\n",
       "              monotone_constraints='()', n_estimators=100, n_jobs=4,\n",
       "              num_parallel_tree=1, objective='multi:softprob', predictor='auto',\n",
       "              random_state=0, reg_alpha=0, reg_lambda=1, scale_pos_weight=None,\n",
       "              subsample=1, tree_method='exact', validate_parameters=1,\n",
       "              verbosity=None)"
      ]
     },
     "execution_count": 113,
     "metadata": {},
     "output_type": "execute_result"
    }
   ],
   "source": [
    "XGB_Classifier = XGBClassifier()\n",
    "XGB_Classifier.fit(X_train, y_train)"
   ]
  },
  {
   "cell_type": "code",
   "execution_count": 114,
   "id": "42b92395",
   "metadata": {},
   "outputs": [],
   "source": [
    "y_pred_XGB = XGB_Classifier.predict(X_test)"
   ]
  },
  {
   "cell_type": "code",
   "execution_count": 115,
   "id": "92cd94b3",
   "metadata": {},
   "outputs": [
    {
     "name": "stdout",
     "output_type": "stream",
     "text": [
      "                precision    recall  f1-score   support\n",
      "\n",
      "    Acceptable       0.68      0.30      0.42      2077\n",
      " Below average       0.64      0.06      0.11      2645\n",
      "     Excellent       0.38      0.20      0.26        15\n",
      "   Exceptional       1.00      0.60      0.75         5\n",
      "Extremely poor       0.90      0.99      0.94    122538\n",
      "          Good       0.58      0.17      0.26       193\n",
      "          Poor       0.51      0.22      0.31     15195\n",
      "     Very good       0.62      0.59      0.60       133\n",
      "\n",
      "      accuracy                           0.88    142801\n",
      "     macro avg       0.66      0.39      0.46    142801\n",
      "  weighted avg       0.85      0.88      0.85    142801\n",
      "\n"
     ]
    }
   ],
   "source": [
    "print(classification_report(y_test, y_pred_XGB))"
   ]
  },
  {
   "cell_type": "markdown",
   "id": "a6bf77eb",
   "metadata": {},
   "source": [
    "### Tunning the model:"
   ]
  },
  {
   "cell_type": "code",
   "execution_count": 118,
   "id": "3d43a6da",
   "metadata": {},
   "outputs": [],
   "source": [
    "params = {\n",
    "    'n_estimators': [20, 50],\n",
    "    'learning_rate': [0.01,0.05],\n",
    "    #'booster': ['gbtree'],\n",
    "    #'gamma': [0, 0.5],\n",
    "    #'reg_alpha': [0, 0.5],\n",
    "    #'reg_lambda': [0.5, 1],\n",
    "    #'base_score': [0.2, 0.5]\n",
    "}"
   ]
  },
  {
   "cell_type": "code",
   "execution_count": null,
   "id": "a6b9f7e3",
   "metadata": {},
   "outputs": [
    {
     "name": "stdout",
     "output_type": "stream",
     "text": [
      "Fitting 5 folds for each of 4 candidates, totalling 20 fits\n"
     ]
    }
   ],
   "source": [
    "grid2 = GridSearchCV(\n",
    "    XGB_Classifier,\n",
    "    params,\n",
    "    cv = 5,\n",
    "    n_jobs=-1,\n",
    "    verbose=1\n",
    ")\n",
    "grid2.fit(X_train, y_train)"
   ]
  },
  {
   "cell_type": "code",
   "execution_count": null,
   "id": "28091517",
   "metadata": {},
   "outputs": [],
   "source": [
    "grid2.best_params_"
   ]
  },
  {
   "cell_type": "code",
   "execution_count": null,
   "id": "8d428ff2",
   "metadata": {},
   "outputs": [],
   "source": [
    "grid2.best_score_"
   ]
  },
  {
   "cell_type": "code",
   "execution_count": null,
   "id": "61012784",
   "metadata": {},
   "outputs": [],
   "source": [
    "grid2_pred = grid2.predict(X_test)"
   ]
  },
  {
   "cell_type": "code",
   "execution_count": null,
   "id": "0f85aabc",
   "metadata": {},
   "outputs": [],
   "source": [
    "print(classification_report(y_test, grid2_pred))"
   ]
  }
 ],
 "metadata": {
  "kernelspec": {
   "display_name": "Python 3",
   "language": "python",
   "name": "python3"
  },
  "language_info": {
   "codemirror_mode": {
    "name": "ipython",
    "version": 3
   },
   "file_extension": ".py",
   "mimetype": "text/x-python",
   "name": "python",
   "nbconvert_exporter": "python",
   "pygments_lexer": "ipython3",
   "version": "3.8.8"
  }
 },
 "nbformat": 4,
 "nbformat_minor": 5
}
